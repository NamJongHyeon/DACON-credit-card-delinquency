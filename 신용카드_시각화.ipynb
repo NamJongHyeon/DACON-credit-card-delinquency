{
 "cells": [
  {
   "cell_type": "markdown",
   "metadata": {
    "id": "N2L0-oMi1VMs"
   },
   "source": [
    "# DACON : 신용카드 사용자 연체 예측 AI 경진대회"
   ]
  },
  {
   "cell_type": "markdown",
   "metadata": {
    "id": "o3w6jTJS1X7U"
   },
   "source": [
    "## Import"
   ]
  },
  {
   "cell_type": "code",
   "execution_count": 1,
   "metadata": {
    "colab": {
     "base_uri": "https://localhost:8080/"
    },
    "id": "RRP2BQOArACR",
    "outputId": "a990a842-dc95-493c-ffd5-9292a06490cc"
   },
   "outputs": [],
   "source": [
    "#!pip3 install catboost"
   ]
  },
  {
   "cell_type": "code",
   "execution_count": 2,
   "metadata": {
    "id": "6CPv3PLshZgR"
   },
   "outputs": [],
   "source": [
    "import numpy as np\n",
    "import pandas as pd\n",
    "import matplotlib.pyplot as plt\n",
    "from matplotlib.ticker import MaxNLocator\n",
    "import seaborn as sns\n",
    "from collections import Counter\n",
    "plt.style.use('fivethirtyeight')\n",
    "import warnings\n",
    "warnings.filterwarnings('ignore')\n",
    "\n",
    "pd.set_option('max_columns', 99)"
   ]
  },
  {
   "cell_type": "code",
   "execution_count": 3,
   "metadata": {
    "id": "gKq2GrV6hZgS"
   },
   "outputs": [],
   "source": [
    "from catboost import CatBoostClassifier\n",
    "from sklearn.model_selection import train_test_split, StratifiedKFold\n",
    "from sklearn.metrics import accuracy_score, confusion_matrix, log_loss\n",
    "from tensorflow.keras.utils import to_categorical\n",
    "import random"
   ]
  },
  {
   "cell_type": "code",
   "execution_count": 4,
   "metadata": {},
   "outputs": [],
   "source": [
    "import chart_studio\n",
    "chart_studio.tools.set_credentials_file(username='username', api_key='api_key')\n",
    "\n",
    "from IPython.display import IFrame\n",
    "import chart_studio.plotly as py\n",
    "import plotly.express as px\n",
    "import plotly.offline as pyo\n",
    "import plotly.graph_objs as go\n",
    "import plotly.graph_objects as go\n",
    "import plotly.io as pio\n",
    "\n",
    "from pyecharts.globals import ThemeType\n",
    "from pyecharts.commons.utils import JsCode\n",
    "from pyecharts.charts import Bar, Bar3D, Grid, Line, Liquid, Page, Pie, Timeline, Tab, Map, Grid\n",
    "from pyecharts import options as opts\n",
    "\n",
    "import folium, webbrowser, IPython, warnings\n",
    "warnings.filterwarnings('ignore')"
   ]
  },
  {
   "cell_type": "markdown",
   "metadata": {
    "id": "EfZM2uti1zz3"
   },
   "source": [
    "## Data Load"
   ]
  },
  {
   "cell_type": "code",
   "execution_count": 5,
   "metadata": {
    "id": "s55UnX-dObfX"
   },
   "outputs": [],
   "source": [
    "train = pd.read_csv('train.csv')"
   ]
  },
  {
   "cell_type": "markdown",
   "metadata": {
    "id": "4sgOmbMQObfZ"
   },
   "source": [
    "###  데이터 확인"
   ]
  },
  {
   "cell_type": "code",
   "execution_count": 6,
   "metadata": {
    "colab": {
     "base_uri": "https://localhost:8080/",
     "height": 273
    },
    "id": "QBpdE0QBObfZ",
    "outputId": "7f09be3f-c300-4bfb-94b9-f3513df07c0e"
   },
   "outputs": [
    {
     "data": {
      "text/html": [
       "<div>\n",
       "<style scoped>\n",
       "    .dataframe tbody tr th:only-of-type {\n",
       "        vertical-align: middle;\n",
       "    }\n",
       "\n",
       "    .dataframe tbody tr th {\n",
       "        vertical-align: top;\n",
       "    }\n",
       "\n",
       "    .dataframe thead th {\n",
       "        text-align: right;\n",
       "    }\n",
       "</style>\n",
       "<table border=\"1\" class=\"dataframe\">\n",
       "  <thead>\n",
       "    <tr style=\"text-align: right;\">\n",
       "      <th></th>\n",
       "      <th>index</th>\n",
       "      <th>gender</th>\n",
       "      <th>car</th>\n",
       "      <th>reality</th>\n",
       "      <th>child_num</th>\n",
       "      <th>income_total</th>\n",
       "      <th>income_type</th>\n",
       "      <th>edu_type</th>\n",
       "      <th>family_type</th>\n",
       "      <th>house_type</th>\n",
       "      <th>DAYS_BIRTH</th>\n",
       "      <th>DAYS_EMPLOYED</th>\n",
       "      <th>FLAG_MOBIL</th>\n",
       "      <th>work_phone</th>\n",
       "      <th>phone</th>\n",
       "      <th>email</th>\n",
       "      <th>occyp_type</th>\n",
       "      <th>family_size</th>\n",
       "      <th>begin_month</th>\n",
       "      <th>credit</th>\n",
       "    </tr>\n",
       "  </thead>\n",
       "  <tbody>\n",
       "    <tr>\n",
       "      <th>0</th>\n",
       "      <td>0</td>\n",
       "      <td>F</td>\n",
       "      <td>N</td>\n",
       "      <td>N</td>\n",
       "      <td>0</td>\n",
       "      <td>202500.0</td>\n",
       "      <td>Commercial associate</td>\n",
       "      <td>Higher education</td>\n",
       "      <td>Married</td>\n",
       "      <td>Municipal apartment</td>\n",
       "      <td>-13899</td>\n",
       "      <td>-4709</td>\n",
       "      <td>1</td>\n",
       "      <td>0</td>\n",
       "      <td>0</td>\n",
       "      <td>0</td>\n",
       "      <td>NaN</td>\n",
       "      <td>2.0</td>\n",
       "      <td>-6.0</td>\n",
       "      <td>1.0</td>\n",
       "    </tr>\n",
       "    <tr>\n",
       "      <th>1</th>\n",
       "      <td>1</td>\n",
       "      <td>F</td>\n",
       "      <td>N</td>\n",
       "      <td>Y</td>\n",
       "      <td>1</td>\n",
       "      <td>247500.0</td>\n",
       "      <td>Commercial associate</td>\n",
       "      <td>Secondary / secondary special</td>\n",
       "      <td>Civil marriage</td>\n",
       "      <td>House / apartment</td>\n",
       "      <td>-11380</td>\n",
       "      <td>-1540</td>\n",
       "      <td>1</td>\n",
       "      <td>0</td>\n",
       "      <td>0</td>\n",
       "      <td>1</td>\n",
       "      <td>Laborers</td>\n",
       "      <td>3.0</td>\n",
       "      <td>-5.0</td>\n",
       "      <td>1.0</td>\n",
       "    </tr>\n",
       "  </tbody>\n",
       "</table>\n",
       "</div>"
      ],
      "text/plain": [
       "   index gender car reality  child_num  income_total           income_type  \\\n",
       "0      0      F   N       N          0      202500.0  Commercial associate   \n",
       "1      1      F   N       Y          1      247500.0  Commercial associate   \n",
       "\n",
       "                        edu_type     family_type           house_type  \\\n",
       "0               Higher education         Married  Municipal apartment   \n",
       "1  Secondary / secondary special  Civil marriage    House / apartment   \n",
       "\n",
       "   DAYS_BIRTH  DAYS_EMPLOYED  FLAG_MOBIL  work_phone  phone  email occyp_type  \\\n",
       "0      -13899          -4709           1           0      0      0        NaN   \n",
       "1      -11380          -1540           1           0      0      1   Laborers   \n",
       "\n",
       "   family_size  begin_month  credit  \n",
       "0          2.0         -6.0     1.0  \n",
       "1          3.0         -5.0     1.0  "
      ]
     },
     "metadata": {},
     "output_type": "display_data"
    },
    {
     "data": {
      "text/html": [
       "<div>\n",
       "<style scoped>\n",
       "    .dataframe tbody tr th:only-of-type {\n",
       "        vertical-align: middle;\n",
       "    }\n",
       "\n",
       "    .dataframe tbody tr th {\n",
       "        vertical-align: top;\n",
       "    }\n",
       "\n",
       "    .dataframe thead th {\n",
       "        text-align: right;\n",
       "    }\n",
       "</style>\n",
       "<table border=\"1\" class=\"dataframe\">\n",
       "  <thead>\n",
       "    <tr style=\"text-align: right;\">\n",
       "      <th></th>\n",
       "      <th>index</th>\n",
       "      <th>gender</th>\n",
       "      <th>car</th>\n",
       "      <th>reality</th>\n",
       "      <th>child_num</th>\n",
       "      <th>income_total</th>\n",
       "      <th>income_type</th>\n",
       "      <th>edu_type</th>\n",
       "      <th>family_type</th>\n",
       "      <th>house_type</th>\n",
       "      <th>DAYS_BIRTH</th>\n",
       "      <th>DAYS_EMPLOYED</th>\n",
       "      <th>FLAG_MOBIL</th>\n",
       "      <th>work_phone</th>\n",
       "      <th>phone</th>\n",
       "      <th>email</th>\n",
       "      <th>occyp_type</th>\n",
       "      <th>family_size</th>\n",
       "      <th>begin_month</th>\n",
       "      <th>credit</th>\n",
       "    </tr>\n",
       "  </thead>\n",
       "  <tbody>\n",
       "    <tr>\n",
       "      <th>26455</th>\n",
       "      <td>26455</td>\n",
       "      <td>M</td>\n",
       "      <td>N</td>\n",
       "      <td>Y</td>\n",
       "      <td>0</td>\n",
       "      <td>171000.0</td>\n",
       "      <td>Working</td>\n",
       "      <td>Incomplete higher</td>\n",
       "      <td>Single / not married</td>\n",
       "      <td>House / apartment</td>\n",
       "      <td>-10145</td>\n",
       "      <td>-107</td>\n",
       "      <td>1</td>\n",
       "      <td>0</td>\n",
       "      <td>0</td>\n",
       "      <td>0</td>\n",
       "      <td>Laborers</td>\n",
       "      <td>1.0</td>\n",
       "      <td>-59.0</td>\n",
       "      <td>2.0</td>\n",
       "    </tr>\n",
       "    <tr>\n",
       "      <th>26456</th>\n",
       "      <td>26456</td>\n",
       "      <td>F</td>\n",
       "      <td>N</td>\n",
       "      <td>N</td>\n",
       "      <td>0</td>\n",
       "      <td>81000.0</td>\n",
       "      <td>Working</td>\n",
       "      <td>Secondary / secondary special</td>\n",
       "      <td>Civil marriage</td>\n",
       "      <td>House / apartment</td>\n",
       "      <td>-19569</td>\n",
       "      <td>-1013</td>\n",
       "      <td>1</td>\n",
       "      <td>0</td>\n",
       "      <td>0</td>\n",
       "      <td>0</td>\n",
       "      <td>Security staff</td>\n",
       "      <td>2.0</td>\n",
       "      <td>-9.0</td>\n",
       "      <td>2.0</td>\n",
       "    </tr>\n",
       "  </tbody>\n",
       "</table>\n",
       "</div>"
      ],
      "text/plain": [
       "       index gender car reality  child_num  income_total income_type  \\\n",
       "26455  26455      M   N       Y          0      171000.0     Working   \n",
       "26456  26456      F   N       N          0       81000.0     Working   \n",
       "\n",
       "                            edu_type           family_type         house_type  \\\n",
       "26455              Incomplete higher  Single / not married  House / apartment   \n",
       "26456  Secondary / secondary special        Civil marriage  House / apartment   \n",
       "\n",
       "       DAYS_BIRTH  DAYS_EMPLOYED  FLAG_MOBIL  work_phone  phone  email  \\\n",
       "26455      -10145           -107           1           0      0      0   \n",
       "26456      -19569          -1013           1           0      0      0   \n",
       "\n",
       "           occyp_type  family_size  begin_month  credit  \n",
       "26455        Laborers          1.0        -59.0     2.0  \n",
       "26456  Security staff          2.0         -9.0     2.0  "
      ]
     },
     "metadata": {},
     "output_type": "display_data"
    }
   ],
   "source": [
    "display(train.head(2))\n",
    "display(train.tail(2))"
   ]
  },
  {
   "cell_type": "code",
   "execution_count": 7,
   "metadata": {
    "colab": {
     "base_uri": "https://localhost:8080/"
    },
    "id": "QJb0QL3f5ihe",
    "outputId": "d2402ded-cb1f-452e-d2e0-f8c3bc645ddd"
   },
   "outputs": [
    {
     "data": {
      "text/plain": [
       "(26457, 20)"
      ]
     },
     "execution_count": 7,
     "metadata": {},
     "output_type": "execute_result"
    }
   ],
   "source": [
    "train.shape"
   ]
  },
  {
   "cell_type": "code",
   "execution_count": 8,
   "metadata": {
    "id": "Z4TUK9vZJBzS"
   },
   "outputs": [],
   "source": [
    "train = train.drop([\"index\"], axis=1)"
   ]
  },
  {
   "cell_type": "markdown",
   "metadata": {
    "id": "agL0NsbvpsrI"
   },
   "source": [
    "### 데이터 변수 설명\n",
    "index\n",
    "\n",
    "\n",
    "gender: 성별\n",
    "\n",
    "\n",
    "car: 차량 소유 여부\n",
    "\n",
    "\n",
    "reality: 부동산 소유 여부\n",
    "\n",
    "\n",
    "child_num: 자녀 수\n",
    "\n",
    "\n",
    "income_total: 연간 소득\n",
    "\n",
    "\n",
    "income_type: 소득 분류\n",
    "\n",
    "\n",
    "['Commercial associate', 'Working', 'State servant', 'Pensioner', 'Student']\n",
    "\n",
    "\n",
    "\n",
    "edu_type: 교육 수준\n",
    "\n",
    "\n",
    "['Higher education' ,'Secondary / secondary special', 'Incomplete higher', 'Lower secondary', 'Academic degree']\n",
    "\n",
    "\n",
    "\n",
    "family_type: 결혼 여부\n",
    "\n",
    "\n",
    "['Married', 'Civil marriage', 'Separated', 'Single / not married', 'Widow']\n",
    "\n",
    "\n",
    "\n",
    "house_type: 생활 방식\n",
    "\n",
    "\n",
    "['Municipal apartment', 'House / apartment', 'With parents',\n",
    "\n",
    "'Co-op apartment', 'Rented apartment', 'Office apartment']\n",
    "\n",
    "\n",
    "\n",
    "DAYS_BIRTH: 출생일\n",
    "\n",
    "\n",
    "데이터 수집 당시 (0)부터 역으로 셈, 즉, -1은 데이터 수집일 하루 전에 태어났음을 의미\n",
    "\n",
    "\n",
    "\n",
    "DAYS_EMPLOYED: 업무 시작일\n",
    "\n",
    "\n",
    "데이터 수집 당시 (0)부터 역으로 셈, 즉, -1은 데이터 수집일 하루 전부터 일을 시작함을 의미\n",
    "\n",
    "양수 값은 고용되지 않은 상태를 의미함\n",
    "\n",
    "\n",
    "\n",
    "FLAG_MOBIL: 핸드폰 소유 여부\n",
    "\n",
    "\n",
    "work_phone: 업무용 전화 소유 여부\n",
    "\n",
    "\n",
    "phone: 전화 소유 여부\n",
    "\n",
    "\n",
    "email: 이메일 소유 여부\n",
    "\n",
    "\n",
    "occyp_type: 직업 유형\n",
    "\n",
    "\n",
    "family_size: 가족 규모\n",
    "\n",
    "\n",
    "begin_month: 신용카드 발급 월\n",
    "데이터 수집 당시 (0)부터 역으로 셈, 즉, -1은 데이터 수집일 한 달 전에 신용카드를 발급함을 의미\n",
    "\n",
    "\n",
    "\n",
    "\n",
    "\n",
    "\n",
    "\n",
    "credit: 사용자의 신용카드 대금 연체를 기준으로 한 신용도\n",
    "\n",
    "\n",
    "=> 낮을 수록 높은 신용의 신용카드 사용자를 의미함"
   ]
  },
  {
   "cell_type": "markdown",
   "metadata": {
    "id": "-0VhWYgEjd16"
   },
   "source": [
    "### 변수 중요도 함수"
   ]
  },
  {
   "cell_type": "code",
   "execution_count": 9,
   "metadata": {
    "colab": {
     "base_uri": "https://localhost:8080/",
     "height": 71
    },
    "id": "fHQpVsyXhZgT",
    "outputId": "81435e2a-86ed-4828-ed1a-c1dff0d2f473"
   },
   "outputs": [
    {
     "data": {
      "text/plain": [
       "\"\\ndef plot_feature_importance(importance,names,model_type):\\n    \\n    feature_importance = np.array(importance)\\n    feature_names = np.array(names)\\n    \\n    data={'feature_names':feature_names,'feature_importance':feature_importance}\\n    fi_df = pd.DataFrame(data)\\n    \\n    fi_df.sort_values(by=['feature_importance'], ascending=False,inplace=True)\\n\\n    plt.figure(figsize=(10,8))\\n\\n    sns.barplot(x=fi_df['feature_importance'], y=fi_df['feature_names'])\\n\\n    plt.title(model_type + ' Feature Importance')\\n    plt.xlabel('Feature Importance')\\n    plt.ylabel('Feature Names')\\n\""
      ]
     },
     "execution_count": 9,
     "metadata": {},
     "output_type": "execute_result"
    }
   ],
   "source": [
    "# 변수 중요도 함수\n",
    "'''\n",
    "def plot_feature_importance(importance,names,model_type):\n",
    "    \n",
    "    feature_importance = np.array(importance)\n",
    "    feature_names = np.array(names)\n",
    "    \n",
    "    data={'feature_names':feature_names,'feature_importance':feature_importance}\n",
    "    fi_df = pd.DataFrame(data)\n",
    "    \n",
    "    fi_df.sort_values(by=['feature_importance'], ascending=False,inplace=True)\n",
    "\n",
    "    plt.figure(figsize=(10,8))\n",
    "\n",
    "    sns.barplot(x=fi_df['feature_importance'], y=fi_df['feature_names'])\n",
    "\n",
    "    plt.title(model_type + ' Feature Importance')\n",
    "    plt.xlabel('Feature Importance')\n",
    "    plt.ylabel('Feature Names')\n",
    "'''"
   ]
  },
  {
   "cell_type": "markdown",
   "metadata": {
    "id": "6wt9nqK2Cikz"
   },
   "source": [
    "## EDA"
   ]
  },
  {
   "cell_type": "markdown",
   "metadata": {
    "id": "nH8rize1Obfc"
   },
   "source": [
    "###  각 데이터의 타입 확인"
   ]
  },
  {
   "cell_type": "code",
   "execution_count": 10,
   "metadata": {
    "colab": {
     "base_uri": "https://localhost:8080/"
    },
    "id": "pHThV9VYObfd",
    "outputId": "ee26974a-b50d-4a32-9265-b5f52be8f5db",
    "scrolled": true
   },
   "outputs": [
    {
     "name": "stdout",
     "output_type": "stream",
     "text": [
      "<class 'pandas.core.frame.DataFrame'>\n",
      "RangeIndex: 26457 entries, 0 to 26456\n",
      "Data columns (total 19 columns):\n",
      " #   Column         Non-Null Count  Dtype  \n",
      "---  ------         --------------  -----  \n",
      " 0   gender         26457 non-null  object \n",
      " 1   car            26457 non-null  object \n",
      " 2   reality        26457 non-null  object \n",
      " 3   child_num      26457 non-null  int64  \n",
      " 4   income_total   26457 non-null  float64\n",
      " 5   income_type    26457 non-null  object \n",
      " 6   edu_type       26457 non-null  object \n",
      " 7   family_type    26457 non-null  object \n",
      " 8   house_type     26457 non-null  object \n",
      " 9   DAYS_BIRTH     26457 non-null  int64  \n",
      " 10  DAYS_EMPLOYED  26457 non-null  int64  \n",
      " 11  FLAG_MOBIL     26457 non-null  int64  \n",
      " 12  work_phone     26457 non-null  int64  \n",
      " 13  phone          26457 non-null  int64  \n",
      " 14  email          26457 non-null  int64  \n",
      " 15  occyp_type     18286 non-null  object \n",
      " 16  family_size    26457 non-null  float64\n",
      " 17  begin_month    26457 non-null  float64\n",
      " 18  credit         26457 non-null  float64\n",
      "dtypes: float64(4), int64(7), object(8)\n",
      "memory usage: 3.8+ MB\n"
     ]
    }
   ],
   "source": [
    "train.info()"
   ]
  },
  {
   "cell_type": "markdown",
   "metadata": {
    "id": "p9a80uGYObff"
   },
   "source": [
    "###  결측치 확인하기"
   ]
  },
  {
   "cell_type": "code",
   "execution_count": 11,
   "metadata": {
    "colab": {
     "base_uri": "https://localhost:8080/"
    },
    "id": "orDx804VqEmV",
    "outputId": "d34c59bc-692c-4464-b4e9-60bf63661069"
   },
   "outputs": [
    {
     "data": {
      "text/plain": [
       "gender              0\n",
       "car                 0\n",
       "reality             0\n",
       "child_num           0\n",
       "income_total        0\n",
       "income_type         0\n",
       "edu_type            0\n",
       "family_type         0\n",
       "house_type          0\n",
       "DAYS_BIRTH          0\n",
       "DAYS_EMPLOYED       0\n",
       "FLAG_MOBIL          0\n",
       "work_phone          0\n",
       "phone               0\n",
       "email               0\n",
       "occyp_type       8171\n",
       "family_size         0\n",
       "begin_month         0\n",
       "credit              0\n",
       "dtype: int64"
      ]
     },
     "execution_count": 11,
     "metadata": {},
     "output_type": "execute_result"
    }
   ],
   "source": [
    "train.isnull().sum()"
   ]
  },
  {
   "cell_type": "code",
   "execution_count": 12,
   "metadata": {},
   "outputs": [
    {
     "name": "stdout",
     "output_type": "stream",
     "text": [
      "Requirement already satisfied: missingno in c:\\programdata\\anaconda3\\lib\\site-packages (0.4.2)\n",
      "Requirement already satisfied: seaborn in c:\\programdata\\anaconda3\\lib\\site-packages (from missingno) (0.11.0)\n",
      "Requirement already satisfied: scipy in c:\\programdata\\anaconda3\\lib\\site-packages (from missingno) (1.5.2)\n",
      "Requirement already satisfied: numpy in c:\\programdata\\anaconda3\\lib\\site-packages (from missingno) (1.19.2)\n",
      "Requirement already satisfied: matplotlib in c:\\programdata\\anaconda3\\lib\\site-packages (from missingno) (3.3.2)\n",
      "Requirement already satisfied: pandas>=0.23 in c:\\programdata\\anaconda3\\lib\\site-packages (from seaborn->missingno) (1.1.3)\n",
      "Requirement already satisfied: certifi>=2020.06.20 in c:\\programdata\\anaconda3\\lib\\site-packages (from matplotlib->missingno) (2020.6.20)\n",
      "Requirement already satisfied: cycler>=0.10 in c:\\programdata\\anaconda3\\lib\\site-packages (from matplotlib->missingno) (0.10.0)\n",
      "Requirement already satisfied: python-dateutil>=2.1 in c:\\programdata\\anaconda3\\lib\\site-packages (from matplotlib->missingno) (2.8.1)\n",
      "Requirement already satisfied: pillow>=6.2.0 in c:\\programdata\\anaconda3\\lib\\site-packages (from matplotlib->missingno) (8.0.1)\n",
      "Requirement already satisfied: pyparsing!=2.0.4,!=2.1.2,!=2.1.6,>=2.0.3 in c:\\programdata\\anaconda3\\lib\\site-packages (from matplotlib->missingno) (2.4.7)\n",
      "Requirement already satisfied: kiwisolver>=1.0.1 in c:\\programdata\\anaconda3\\lib\\site-packages (from matplotlib->missingno) (1.3.0)\n",
      "Requirement already satisfied: pytz>=2017.2 in c:\\programdata\\anaconda3\\lib\\site-packages (from pandas>=0.23->seaborn->missingno) (2020.1)\n",
      "Requirement already satisfied: six in c:\\programdata\\anaconda3\\lib\\site-packages (from cycler>=0.10->matplotlib->missingno) (1.15.0)\n"
     ]
    }
   ],
   "source": [
    "!pip install missingno"
   ]
  },
  {
   "cell_type": "code",
   "execution_count": 13,
   "metadata": {
    "colab": {
     "base_uri": "https://localhost:8080/",
     "height": 793
    },
    "id": "0xqY2LUSqEs-",
    "outputId": "cee1531f-4af6-4e1d-a161-a5a23c5cbbb5"
   },
   "outputs": [
    {
     "data": {
      "text/plain": [
       "<AxesSubplot:>"
      ]
     },
     "execution_count": 13,
     "metadata": {},
     "output_type": "execute_result"
    },
    {
     "data": {
      "image/png": "[encoded data removed]",
      "text/plain": [
       "<Figure size 1728x720 with 3 Axes>"
      ]
     },
     "metadata": {},
     "output_type": "display_data"
    }
   ],
   "source": [
    "import missingno as msno\n",
    "msno.bar(df=train.iloc[:, :], color=(0.1, 0.6, 0.8))"
   ]
  },
  {
   "cell_type": "markdown",
   "metadata": {
    "id": "HqIjZ6JvrRFV"
   },
   "source": [
    "### 결측치 처리(loss 작은쪽 선택)"
   ]
  },
  {
   "cell_type": "code",
   "execution_count": 14,
   "metadata": {
    "id": "M3fBPrr3_-dM"
   },
   "outputs": [],
   "source": [
    "#NA Imputation\n",
    "train = train.fillna({'occyp_type':'NA'})"
   ]
  },
  {
   "cell_type": "markdown",
   "metadata": {
    "id": "ZZ89xY1vvAvd"
   },
   "source": [
    "### 이상치 제거"
   ]
  },
  {
   "cell_type": "code",
   "execution_count": 15,
   "metadata": {
    "id": "V1-m2rbwBcz0"
   },
   "outputs": [],
   "source": [
    "# family_size 이상치 제거\n",
    "train = train[(train['family_size'] <= 7)]\n",
    "train = train.reset_index(drop=True)"
   ]
  },
  {
   "cell_type": "markdown",
   "metadata": {
    "id": "5TvB3iMS_Hvj"
   },
   "source": [
    "## FE\n"
   ]
  },
  {
   "cell_type": "markdown",
   "metadata": {
    "id": "N60Y21Grm2yd"
   },
   "source": [
    "### binary"
   ]
  },
  {
   "cell_type": "code",
   "execution_count": 16,
   "metadata": {
    "colab": {
     "base_uri": "https://localhost:8080/",
     "height": 53
    },
    "id": "w_yE6_Kl9qeC",
    "outputId": "4b503697-f90f-49a4-c5aa-d5899f0562a7"
   },
   "outputs": [
    {
     "data": {
      "text/plain": [
       "\"\\n#gender, car, reality는 binary(object)\\n\\ntrain['gender'] = train['gender'].apply(lambda x: 1 if x=='M' else 0) # Male=1, Female=0\\ntrain['car'] = train['car'].apply(lambda x: 1 if x=='Y' else 0) # Yes=1, No=0\\ntrain['reality'] = train['reality'].apply(lambda x: 1 if x=='Y' else 0) # Yes=1, No=0\\n\""
      ]
     },
     "execution_count": 16,
     "metadata": {},
     "output_type": "execute_result"
    }
   ],
   "source": [
    "'''\n",
    "#gender, car, reality는 binary(object)\n",
    "\n",
    "train['gender'] = train['gender'].apply(lambda x: 1 if x=='M' else 0) # Male=1, Female=0\n",
    "train['car'] = train['car'].apply(lambda x: 1 if x=='Y' else 0) # Yes=1, No=0\n",
    "train['reality'] = train['reality'].apply(lambda x: 1 if x=='Y' else 0) # Yes=1, No=0\n",
    "'''"
   ]
  },
  {
   "cell_type": "markdown",
   "metadata": {
    "id": "EOSIJO5gm8wD"
   },
   "source": [
    "### categorical"
   ]
  },
  {
   "cell_type": "code",
   "execution_count": 17,
   "metadata": {
    "colab": {
     "base_uri": "https://localhost:8080/",
     "height": 53
    },
    "id": "TP4D5YT5m8MG",
    "outputId": "b9c1da0d-01b1-4b72-e771-1927d7ea4718"
   },
   "outputs": [
    {
     "data": {
      "text/plain": [
       "\"\\n#라벨인코딩\\nfrom sklearn import preprocessing\\nenc = preprocessing.LabelEncoder()\\n\\ntrain['income_type'] = enc.fit_transform(train['income_type'])\\ntrain['edu_type'] = enc.fit_transform(train['edu_type'])\\ntrain['family_type'] = enc.fit_transform(train['family_type'])\\ntrain['house_type'] = enc.fit_transform(train['house_type'])\\ntrain['occyp_type'] = enc.fit_transform(train['occyp_type'])\\n\""
      ]
     },
     "execution_count": 17,
     "metadata": {},
     "output_type": "execute_result"
    }
   ],
   "source": [
    "'''\n",
    "#라벨인코딩\n",
    "from sklearn import preprocessing\n",
    "enc = preprocessing.LabelEncoder()\n",
    "\n",
    "train['income_type'] = enc.fit_transform(train['income_type'])\n",
    "train['edu_type'] = enc.fit_transform(train['edu_type'])\n",
    "train['family_type'] = enc.fit_transform(train['family_type'])\n",
    "train['house_type'] = enc.fit_transform(train['house_type'])\n",
    "train['occyp_type'] = enc.fit_transform(train['occyp_type'])\n",
    "'''"
   ]
  },
  {
   "cell_type": "markdown",
   "metadata": {
    "id": "PUUCznodm_2r"
   },
   "source": [
    "### numerical"
   ]
  },
  {
   "cell_type": "code",
   "execution_count": 18,
   "metadata": {
    "id": "jRjfSeg-9vn1"
   },
   "outputs": [],
   "source": [
    "#음수값을 양수값으로 \n",
    "train['DAYS_BIRTH'] = train['DAYS_BIRTH'].apply(lambda x: -x)\n",
    "train['DAYS_EMPLOYED'] = train['DAYS_EMPLOYED'].apply(lambda x: -x)\n",
    "train['begin_month'] = train['begin_month'].apply(lambda x: -x)"
   ]
  },
  {
   "cell_type": "code",
   "execution_count": 19,
   "metadata": {
    "id": "IAq-U6BHl63n"
   },
   "outputs": [],
   "source": [
    "# DAYS_EMPLOYED < 0  -> 0으로 변환, year_employed 생성\n",
    "train['DAYS_EMPLOYED'] = train['DAYS_EMPLOYED'].apply(lambda x: x if x >=0 else 0)\n",
    "train['year_employed'] = train['DAYS_EMPLOYED'] / 365\n",
    "train['year_employed'] = train['year_employed'].astype('int')\n",
    "#train = train.drop('DAYS_EMPLOYED', axis=1)"
   ]
  },
  {
   "cell_type": "code",
   "execution_count": 20,
   "metadata": {
    "colab": {
     "base_uri": "https://localhost:8080/",
     "height": 357
    },
    "id": "D2NXS0DYKZGj",
    "outputId": "8f4b2a37-b02a-4f03-959d-2a6e09e6714f"
   },
   "outputs": [
    {
     "data": {
      "text/html": [
       "<div>\n",
       "<style scoped>\n",
       "    .dataframe tbody tr th:only-of-type {\n",
       "        vertical-align: middle;\n",
       "    }\n",
       "\n",
       "    .dataframe tbody tr th {\n",
       "        vertical-align: top;\n",
       "    }\n",
       "\n",
       "    .dataframe thead th {\n",
       "        text-align: right;\n",
       "    }\n",
       "</style>\n",
       "<table border=\"1\" class=\"dataframe\">\n",
       "  <thead>\n",
       "    <tr style=\"text-align: right;\">\n",
       "      <th></th>\n",
       "      <th>gender</th>\n",
       "      <th>car</th>\n",
       "      <th>reality</th>\n",
       "      <th>child_num</th>\n",
       "      <th>income_total</th>\n",
       "      <th>income_type</th>\n",
       "      <th>edu_type</th>\n",
       "      <th>family_type</th>\n",
       "      <th>house_type</th>\n",
       "      <th>DAYS_BIRTH</th>\n",
       "      <th>DAYS_EMPLOYED</th>\n",
       "      <th>FLAG_MOBIL</th>\n",
       "      <th>work_phone</th>\n",
       "      <th>phone</th>\n",
       "      <th>email</th>\n",
       "      <th>occyp_type</th>\n",
       "      <th>family_size</th>\n",
       "      <th>begin_month</th>\n",
       "      <th>credit</th>\n",
       "      <th>year_employed</th>\n",
       "      <th>age</th>\n",
       "    </tr>\n",
       "  </thead>\n",
       "  <tbody>\n",
       "    <tr>\n",
       "      <th>0</th>\n",
       "      <td>F</td>\n",
       "      <td>N</td>\n",
       "      <td>N</td>\n",
       "      <td>0</td>\n",
       "      <td>202500.0</td>\n",
       "      <td>Commercial associate</td>\n",
       "      <td>Higher education</td>\n",
       "      <td>Married</td>\n",
       "      <td>Municipal apartment</td>\n",
       "      <td>13899</td>\n",
       "      <td>4709</td>\n",
       "      <td>1</td>\n",
       "      <td>0</td>\n",
       "      <td>0</td>\n",
       "      <td>0</td>\n",
       "      <td>NA</td>\n",
       "      <td>2.0</td>\n",
       "      <td>6.0</td>\n",
       "      <td>1.0</td>\n",
       "      <td>12</td>\n",
       "      <td>38</td>\n",
       "    </tr>\n",
       "    <tr>\n",
       "      <th>1</th>\n",
       "      <td>F</td>\n",
       "      <td>N</td>\n",
       "      <td>Y</td>\n",
       "      <td>1</td>\n",
       "      <td>247500.0</td>\n",
       "      <td>Commercial associate</td>\n",
       "      <td>Secondary / secondary special</td>\n",
       "      <td>Civil marriage</td>\n",
       "      <td>House / apartment</td>\n",
       "      <td>11380</td>\n",
       "      <td>1540</td>\n",
       "      <td>1</td>\n",
       "      <td>0</td>\n",
       "      <td>0</td>\n",
       "      <td>1</td>\n",
       "      <td>Laborers</td>\n",
       "      <td>3.0</td>\n",
       "      <td>5.0</td>\n",
       "      <td>1.0</td>\n",
       "      <td>4</td>\n",
       "      <td>31</td>\n",
       "    </tr>\n",
       "    <tr>\n",
       "      <th>2</th>\n",
       "      <td>M</td>\n",
       "      <td>Y</td>\n",
       "      <td>Y</td>\n",
       "      <td>0</td>\n",
       "      <td>450000.0</td>\n",
       "      <td>Working</td>\n",
       "      <td>Higher education</td>\n",
       "      <td>Married</td>\n",
       "      <td>House / apartment</td>\n",
       "      <td>19087</td>\n",
       "      <td>4434</td>\n",
       "      <td>1</td>\n",
       "      <td>0</td>\n",
       "      <td>1</td>\n",
       "      <td>0</td>\n",
       "      <td>Managers</td>\n",
       "      <td>2.0</td>\n",
       "      <td>22.0</td>\n",
       "      <td>2.0</td>\n",
       "      <td>12</td>\n",
       "      <td>52</td>\n",
       "    </tr>\n",
       "    <tr>\n",
       "      <th>3</th>\n",
       "      <td>F</td>\n",
       "      <td>N</td>\n",
       "      <td>Y</td>\n",
       "      <td>0</td>\n",
       "      <td>202500.0</td>\n",
       "      <td>Commercial associate</td>\n",
       "      <td>Secondary / secondary special</td>\n",
       "      <td>Married</td>\n",
       "      <td>House / apartment</td>\n",
       "      <td>15088</td>\n",
       "      <td>2092</td>\n",
       "      <td>1</td>\n",
       "      <td>0</td>\n",
       "      <td>1</td>\n",
       "      <td>0</td>\n",
       "      <td>Sales staff</td>\n",
       "      <td>2.0</td>\n",
       "      <td>37.0</td>\n",
       "      <td>0.0</td>\n",
       "      <td>5</td>\n",
       "      <td>41</td>\n",
       "    </tr>\n",
       "    <tr>\n",
       "      <th>4</th>\n",
       "      <td>F</td>\n",
       "      <td>Y</td>\n",
       "      <td>Y</td>\n",
       "      <td>0</td>\n",
       "      <td>157500.0</td>\n",
       "      <td>State servant</td>\n",
       "      <td>Higher education</td>\n",
       "      <td>Married</td>\n",
       "      <td>House / apartment</td>\n",
       "      <td>15037</td>\n",
       "      <td>2105</td>\n",
       "      <td>1</td>\n",
       "      <td>0</td>\n",
       "      <td>0</td>\n",
       "      <td>0</td>\n",
       "      <td>Managers</td>\n",
       "      <td>2.0</td>\n",
       "      <td>26.0</td>\n",
       "      <td>2.0</td>\n",
       "      <td>5</td>\n",
       "      <td>41</td>\n",
       "    </tr>\n",
       "  </tbody>\n",
       "</table>\n",
       "</div>"
      ],
      "text/plain": [
       "  gender car reality  child_num  income_total           income_type  \\\n",
       "0      F   N       N          0      202500.0  Commercial associate   \n",
       "1      F   N       Y          1      247500.0  Commercial associate   \n",
       "2      M   Y       Y          0      450000.0               Working   \n",
       "3      F   N       Y          0      202500.0  Commercial associate   \n",
       "4      F   Y       Y          0      157500.0         State servant   \n",
       "\n",
       "                        edu_type     family_type           house_type  \\\n",
       "0               Higher education         Married  Municipal apartment   \n",
       "1  Secondary / secondary special  Civil marriage    House / apartment   \n",
       "2               Higher education         Married    House / apartment   \n",
       "3  Secondary / secondary special         Married    House / apartment   \n",
       "4               Higher education         Married    House / apartment   \n",
       "\n",
       "   DAYS_BIRTH  DAYS_EMPLOYED  FLAG_MOBIL  work_phone  phone  email  \\\n",
       "0       13899           4709           1           0      0      0   \n",
       "1       11380           1540           1           0      0      1   \n",
       "2       19087           4434           1           0      1      0   \n",
       "3       15088           2092           1           0      1      0   \n",
       "4       15037           2105           1           0      0      0   \n",
       "\n",
       "    occyp_type  family_size  begin_month  credit  year_employed  age  \n",
       "0           NA          2.0          6.0     1.0             12   38  \n",
       "1     Laborers          3.0          5.0     1.0              4   31  \n",
       "2     Managers          2.0         22.0     2.0             12   52  \n",
       "3  Sales staff          2.0         37.0     0.0              5   41  \n",
       "4     Managers          2.0         26.0     2.0              5   41  "
      ]
     },
     "execution_count": 20,
     "metadata": {},
     "output_type": "execute_result"
    }
   ],
   "source": [
    "#DAYS_BIRTH로 나이 변수 만들어주기\n",
    "train['age'] = abs(train['DAYS_BIRTH'])/365\n",
    "train = train.astype({'age': 'int'})\n",
    "train.head()"
   ]
  },
  {
   "cell_type": "code",
   "execution_count": 21,
   "metadata": {
    "id": "UQ5YuBfgBd4V"
   },
   "outputs": [],
   "source": [
    "# start_work 추가\n",
    "train['start_work'] = train['age'] - train['year_employed']"
   ]
  },
  {
   "cell_type": "code",
   "execution_count": 22,
   "metadata": {
    "id": "mRyJYr52Bf4A"
   },
   "outputs": [],
   "source": [
    "train = train.astype({'begin_month':'int', 'family_size':'int', 'income_total':'int'})"
   ]
  },
  {
   "cell_type": "code",
   "execution_count": 23,
   "metadata": {
    "id": "kJw0wsRpmunn"
   },
   "outputs": [],
   "source": [
    "# 소득/나이 비율, 소득/ 일한 기간 비율\n",
    "\n",
    "train['income_age'] = train['income_total'] / train['age']\n",
    "train['income_employed'] = train['income_total'] / (train['year_employed'] + 1)"
   ]
  },
  {
   "cell_type": "code",
   "execution_count": 24,
   "metadata": {
    "id": "Q-NIHx64mvmE"
   },
   "outputs": [],
   "source": [
    "# 소득/ 가족 수 비율\n",
    "train['income_family'] = train['income_total'] / train['family_size']"
   ]
  },
  {
   "cell_type": "markdown",
   "metadata": {
    "id": "GDLTs3Q49bIf"
   },
   "source": [
    "###  종속변수\n",
    "해당 대회는 credit을 예측하는 것이 목적\n",
    "즉 credit 값이 종속변수, 다른 값들이 독립변수"
   ]
  },
  {
   "cell_type": "code",
   "execution_count": 25,
   "metadata": {
    "colab": {
     "base_uri": "https://localhost:8080/"
    },
    "id": "vC6IxLh49CN2",
    "outputId": "f2b1d12a-d608-4224-b329-0cb4dbb92cca"
   },
   "outputs": [
    {
     "data": {
      "text/plain": [
       "array([1., 2., 0.])"
      ]
     },
     "execution_count": 25,
     "metadata": {},
     "output_type": "execute_result"
    }
   ],
   "source": [
    "train['credit'].unique() \n",
    "#0,1,2가 credit\n",
    "#낮을 수록 높은 신용의 신용카드 사용자를 의미함 "
   ]
  },
  {
   "cell_type": "code",
   "execution_count": 26,
   "metadata": {
    "id": "qt3k43EB9QfY"
   },
   "outputs": [],
   "source": [
    "train['credit'] = train['credit'].astype('str')"
   ]
  },
  {
   "cell_type": "code",
   "execution_count": 27,
   "metadata": {
    "colab": {
     "base_uri": "https://localhost:8080/",
     "height": 497
    },
    "id": "OBF3OWFGEbaw",
    "outputId": "ec18bc36-4abc-4649-8446-a567f293be1b"
   },
   "outputs": [
    {
     "data": {
      "image/png": "[encoded data removed]",
      "text/plain": [
       "<Figure size 576x576 with 1 Axes>"
      ]
     },
     "metadata": {},
     "output_type": "display_data"
    }
   ],
   "source": [
    "plt.subplots(figsize = (8,8))\n",
    "plt.pie(train['credit'].value_counts(), labels = train['credit'].value_counts().index, \n",
    "        autopct=\"%.2f%%\", shadow = True, startangle = 90)\n",
    "plt.show()"
   ]
  },
  {
   "cell_type": "markdown",
   "metadata": {
    "id": "3znKiUAOpAuZ"
   },
   "source": [
    "### scaling"
   ]
  },
  {
   "cell_type": "code",
   "execution_count": 28,
   "metadata": {
    "id": "u6agkdgRqecU"
   },
   "outputs": [],
   "source": [
    "from sklearn.preprocessing import StandardScaler, MinMaxScaler\n",
    "sca = StandardScaler()"
   ]
  },
  {
   "cell_type": "code",
   "execution_count": 29,
   "metadata": {
    "colab": {
     "base_uri": "https://localhost:8080/",
     "height": 959
    },
    "id": "30wQMh2_HpXt",
    "outputId": "64be3939-ae21-45cc-e482-5fd7e83d4392"
   },
   "outputs": [
    {
     "data": {
      "image/png": "[encoded data removed]",
      "text/plain": [
       "<Figure size 1440x1080 with 6 Axes>"
      ]
     },
     "metadata": {},
     "output_type": "display_data"
    }
   ],
   "source": [
    "columns = ['income_total', 'year_employed', 'begin_month','income_age','income_employed','income_family']\n",
    "\n",
    "import matplotlib.pyplot as plt\n",
    "import seaborn as sns\n",
    "\n",
    "plt.figure(figsize = (20,15))\n",
    "for i in range(6):\n",
    "    plt.subplot(6,1,i+1)\n",
    "    sns.distplot(train[columns[i]])\n",
    "plt.show()"
   ]
  },
  {
   "cell_type": "code",
   "execution_count": 30,
   "metadata": {
    "id": "bh1q0V1gJ40b"
   },
   "outputs": [
    {
     "data": {
      "text/plain": [
       "\"\\ntrain['income_total'] = sca.fit_transform(train[['income_total']])\\ntrain['year_employed'] = sca.fit_transform(train[['year_employed']])\\n#train['Age'] = sca.fit_transform(train[['Age']])\\ntrain['begin_month'] = sca.fit_transform(train[['begin_month']])\\n#train['start_work'] = sca.fit_transform(train[['start_work']])\\ntrain['income_age'] = sca.fit_transform(train[['income_age']])\\ntrain['income_employed'] = sca.fit_transform(train[['income_employed']])\\ntrain['income_family'] = sca.fit_transform(train[['income_family']])\\n\""
      ]
     },
     "execution_count": 30,
     "metadata": {},
     "output_type": "execute_result"
    }
   ],
   "source": [
    "'''\n",
    "train['income_total'] = sca.fit_transform(train[['income_total']])\n",
    "train['year_employed'] = sca.fit_transform(train[['year_employed']])\n",
    "#train['Age'] = sca.fit_transform(train[['Age']])\n",
    "train['begin_month'] = sca.fit_transform(train[['begin_month']])\n",
    "#train['start_work'] = sca.fit_transform(train[['start_work']])\n",
    "train['income_age'] = sca.fit_transform(train[['income_age']])\n",
    "train['income_employed'] = sca.fit_transform(train[['income_employed']])\n",
    "train['income_family'] = sca.fit_transform(train[['income_family']])\n",
    "'''"
   ]
  },
  {
   "cell_type": "markdown",
   "metadata": {
    "id": "PHNDcIOCGcKD"
   },
   "source": [
    "### 변수별 상관관계"
   ]
  },
  {
   "cell_type": "code",
   "execution_count": 31,
   "metadata": {
    "colab": {
     "base_uri": "https://localhost:8080/",
     "height": 477
    },
    "id": "vLWd0J-VGkhG",
    "outputId": "b2c54dae-8768-405e-a29e-f35b164e961d"
   },
   "outputs": [
    {
     "data": {
      "text/plain": [
       "<AxesSubplot:>"
      ]
     },
     "execution_count": 31,
     "metadata": {},
     "output_type": "execute_result"
    },
    {
     "data": {
      "image/png": "[encoded data removed]",
      "text/plain": [
       "<Figure size 360x360 with 2 Axes>"
      ]
     },
     "metadata": {},
     "output_type": "display_data"
    }
   ],
   "source": [
    "import matplotlib.pyplot as plt\n",
    "import seaborn as sns\n",
    "plt.figure(figsize =(5,5))\n",
    "corr = train.corr()\n",
    "sns.heatmap(corr,cmap='RdBu')"
   ]
  },
  {
   "cell_type": "markdown",
   "metadata": {
    "id": "7_ftxWj5qIfk"
   },
   "source": [
    "### 변수 제거 / 합치기"
   ]
  },
  {
   "cell_type": "code",
   "execution_count": 32,
   "metadata": {
    "id": "HtGRar3G-_TT"
   },
   "outputs": [],
   "source": [
    "# child_num 제거\n",
    "train = train.drop('child_num', axis=1)"
   ]
  },
  {
   "cell_type": "code",
   "execution_count": 33,
   "metadata": {
    "id": "BbNcqoStDS9S"
   },
   "outputs": [],
   "source": [
    "train = train.drop('year_employed', axis=1)\n",
    "#train = train.drop('DAYS_EMPLOYED', axis=1)\n",
    "train = train.drop('DAYS_BIRTH', axis=1)\n",
    "train = train.drop('FLAG_MOBIL', axis=1)"
   ]
  },
  {
   "cell_type": "code",
   "execution_count": 34,
   "metadata": {
    "id": "MIpFkFMEt9s3"
   },
   "outputs": [],
   "source": [
    "train['e_p'] = train['email'] + train['work_phone'] + train['phone']"
   ]
  },
  {
   "cell_type": "markdown",
   "metadata": {
    "id": "En1Crzs0GGeo"
   },
   "source": [
    "## 전처리 완료된 train 데이터 불러오기"
   ]
  },
  {
   "cell_type": "code",
   "execution_count": 35,
   "metadata": {
    "colab": {
     "base_uri": "https://localhost:8080/",
     "height": 247
    },
    "id": "U0jW4IJZGEjM",
    "outputId": "9e000f5b-daa9-4607-b9c0-879949a28202"
   },
   "outputs": [
    {
     "data": {
      "text/html": [
       "<div>\n",
       "<style scoped>\n",
       "    .dataframe tbody tr th:only-of-type {\n",
       "        vertical-align: middle;\n",
       "    }\n",
       "\n",
       "    .dataframe tbody tr th {\n",
       "        vertical-align: top;\n",
       "    }\n",
       "\n",
       "    .dataframe thead th {\n",
       "        text-align: right;\n",
       "    }\n",
       "</style>\n",
       "<table border=\"1\" class=\"dataframe\">\n",
       "  <thead>\n",
       "    <tr style=\"text-align: right;\">\n",
       "      <th></th>\n",
       "      <th>gender</th>\n",
       "      <th>car</th>\n",
       "      <th>reality</th>\n",
       "      <th>income_total</th>\n",
       "      <th>income_type</th>\n",
       "      <th>edu_type</th>\n",
       "      <th>family_type</th>\n",
       "      <th>house_type</th>\n",
       "      <th>DAYS_EMPLOYED</th>\n",
       "      <th>work_phone</th>\n",
       "      <th>phone</th>\n",
       "      <th>email</th>\n",
       "      <th>occyp_type</th>\n",
       "      <th>family_size</th>\n",
       "      <th>begin_month</th>\n",
       "      <th>credit</th>\n",
       "      <th>age</th>\n",
       "      <th>start_work</th>\n",
       "      <th>income_age</th>\n",
       "      <th>income_employed</th>\n",
       "      <th>income_family</th>\n",
       "      <th>e_p</th>\n",
       "    </tr>\n",
       "  </thead>\n",
       "  <tbody>\n",
       "    <tr>\n",
       "      <th>0</th>\n",
       "      <td>F</td>\n",
       "      <td>N</td>\n",
       "      <td>N</td>\n",
       "      <td>202500</td>\n",
       "      <td>Commercial associate</td>\n",
       "      <td>Higher education</td>\n",
       "      <td>Married</td>\n",
       "      <td>Municipal apartment</td>\n",
       "      <td>4709</td>\n",
       "      <td>0</td>\n",
       "      <td>0</td>\n",
       "      <td>0</td>\n",
       "      <td>NA</td>\n",
       "      <td>2</td>\n",
       "      <td>6</td>\n",
       "      <td>1.0</td>\n",
       "      <td>38</td>\n",
       "      <td>26</td>\n",
       "      <td>5328.947368</td>\n",
       "      <td>15576.923077</td>\n",
       "      <td>101250.0</td>\n",
       "      <td>0</td>\n",
       "    </tr>\n",
       "    <tr>\n",
       "      <th>1</th>\n",
       "      <td>F</td>\n",
       "      <td>N</td>\n",
       "      <td>Y</td>\n",
       "      <td>247500</td>\n",
       "      <td>Commercial associate</td>\n",
       "      <td>Secondary / secondary special</td>\n",
       "      <td>Civil marriage</td>\n",
       "      <td>House / apartment</td>\n",
       "      <td>1540</td>\n",
       "      <td>0</td>\n",
       "      <td>0</td>\n",
       "      <td>1</td>\n",
       "      <td>Laborers</td>\n",
       "      <td>3</td>\n",
       "      <td>5</td>\n",
       "      <td>1.0</td>\n",
       "      <td>31</td>\n",
       "      <td>27</td>\n",
       "      <td>7983.870968</td>\n",
       "      <td>49500.000000</td>\n",
       "      <td>82500.0</td>\n",
       "      <td>1</td>\n",
       "    </tr>\n",
       "    <tr>\n",
       "      <th>2</th>\n",
       "      <td>M</td>\n",
       "      <td>Y</td>\n",
       "      <td>Y</td>\n",
       "      <td>450000</td>\n",
       "      <td>Working</td>\n",
       "      <td>Higher education</td>\n",
       "      <td>Married</td>\n",
       "      <td>House / apartment</td>\n",
       "      <td>4434</td>\n",
       "      <td>0</td>\n",
       "      <td>1</td>\n",
       "      <td>0</td>\n",
       "      <td>Managers</td>\n",
       "      <td>2</td>\n",
       "      <td>22</td>\n",
       "      <td>2.0</td>\n",
       "      <td>52</td>\n",
       "      <td>40</td>\n",
       "      <td>8653.846154</td>\n",
       "      <td>34615.384615</td>\n",
       "      <td>225000.0</td>\n",
       "      <td>1</td>\n",
       "    </tr>\n",
       "  </tbody>\n",
       "</table>\n",
       "</div>"
      ],
      "text/plain": [
       "  gender car reality  income_total           income_type  \\\n",
       "0      F   N       N        202500  Commercial associate   \n",
       "1      F   N       Y        247500  Commercial associate   \n",
       "2      M   Y       Y        450000               Working   \n",
       "\n",
       "                        edu_type     family_type           house_type  \\\n",
       "0               Higher education         Married  Municipal apartment   \n",
       "1  Secondary / secondary special  Civil marriage    House / apartment   \n",
       "2               Higher education         Married    House / apartment   \n",
       "\n",
       "   DAYS_EMPLOYED  work_phone  phone  email occyp_type  family_size  \\\n",
       "0           4709           0      0      0         NA            2   \n",
       "1           1540           0      0      1   Laborers            3   \n",
       "2           4434           0      1      0   Managers            2   \n",
       "\n",
       "   begin_month credit  age  start_work   income_age  income_employed  \\\n",
       "0            6    1.0   38          26  5328.947368     15576.923077   \n",
       "1            5    1.0   31          27  7983.870968     49500.000000   \n",
       "2           22    2.0   52          40  8653.846154     34615.384615   \n",
       "\n",
       "   income_family  e_p  \n",
       "0       101250.0    0  \n",
       "1        82500.0    1  \n",
       "2       225000.0    1  "
      ]
     },
     "execution_count": 35,
     "metadata": {},
     "output_type": "execute_result"
    }
   ],
   "source": [
    "train.head(3)"
   ]
  },
  {
   "cell_type": "code",
   "execution_count": 36,
   "metadata": {},
   "outputs": [
    {
     "data": {
      "text/plain": [
       "19"
      ]
     },
     "execution_count": 36,
     "metadata": {},
     "output_type": "execute_result"
    }
   ],
   "source": [
    "train['occyp_type'].nunique()"
   ]
  },
  {
   "cell_type": "markdown",
   "metadata": {
    "id": "vXoiw432xE49"
   },
   "source": [
    "## 시각화"
   ]
  },
  {
   "cell_type": "code",
   "execution_count": 37,
   "metadata": {
    "id": "SM3AUzNO0Qrj"
   },
   "outputs": [],
   "source": [
    "## income_type / edu_type / family_type/ house_type\n",
    "\n",
    "train_0 = train[train['credit'] == '0.0']\n",
    "train_1 = train[train['credit'] == '1.0']\n",
    "train_2 = train[train['credit'] == '2.0']"
   ]
  },
  {
   "cell_type": "code",
   "execution_count": 38,
   "metadata": {
    "scrolled": true
   },
   "outputs": [
    {
     "data": {
      "text/html": [
       "<div>\n",
       "<style scoped>\n",
       "    .dataframe tbody tr th:only-of-type {\n",
       "        vertical-align: middle;\n",
       "    }\n",
       "\n",
       "    .dataframe tbody tr th {\n",
       "        vertical-align: top;\n",
       "    }\n",
       "\n",
       "    .dataframe thead th {\n",
       "        text-align: right;\n",
       "    }\n",
       "</style>\n",
       "<table border=\"1\" class=\"dataframe\">\n",
       "  <thead>\n",
       "    <tr style=\"text-align: right;\">\n",
       "      <th></th>\n",
       "      <th>count</th>\n",
       "    </tr>\n",
       "    <tr>\n",
       "      <th>income_type</th>\n",
       "      <th></th>\n",
       "    </tr>\n",
       "  </thead>\n",
       "  <tbody>\n",
       "    <tr>\n",
       "      <th>2.0</th>\n",
       "      <td>16962</td>\n",
       "    </tr>\n",
       "    <tr>\n",
       "      <th>1.0</th>\n",
       "      <td>6267</td>\n",
       "    </tr>\n",
       "    <tr>\n",
       "      <th>0.0</th>\n",
       "      <td>3222</td>\n",
       "    </tr>\n",
       "  </tbody>\n",
       "</table>\n",
       "</div>"
      ],
      "text/plain": [
       "             count\n",
       "income_type       \n",
       "2.0          16962\n",
       "1.0           6267\n",
       "0.0           3222"
      ]
     },
     "execution_count": 38,
     "metadata": {},
     "output_type": "execute_result"
    }
   ],
   "source": [
    "zeroonetwo = train['credit'].value_counts()\n",
    "zeroonetwo = pd.DataFrame(zeroonetwo)\n",
    "zeroonetwo.rename(columns = {'credit' : 'count'}, inplace = True)\n",
    "zeroonetwo.index.name = 'income_type'\n",
    "\n",
    "zeroonetwo"
   ]
  },
  {
   "cell_type": "code",
   "execution_count": 39,
   "metadata": {},
   "outputs": [
    {
     "data": {
      "text/html": [
       "<div>\n",
       "<style scoped>\n",
       "    .dataframe tbody tr th:only-of-type {\n",
       "        vertical-align: middle;\n",
       "    }\n",
       "\n",
       "    .dataframe tbody tr th {\n",
       "        vertical-align: top;\n",
       "    }\n",
       "\n",
       "    .dataframe thead th {\n",
       "        text-align: right;\n",
       "    }\n",
       "</style>\n",
       "<table border=\"1\" class=\"dataframe\">\n",
       "  <thead>\n",
       "    <tr style=\"text-align: right;\">\n",
       "      <th></th>\n",
       "      <th>credit</th>\n",
       "      <th>income_type</th>\n",
       "      <th>count</th>\n",
       "    </tr>\n",
       "  </thead>\n",
       "  <tbody>\n",
       "    <tr>\n",
       "      <th>0</th>\n",
       "      <td>0.0</td>\n",
       "      <td>Commercial associate</td>\n",
       "      <td>782</td>\n",
       "    </tr>\n",
       "    <tr>\n",
       "      <th>1</th>\n",
       "      <td>0.0</td>\n",
       "      <td>Pensioner</td>\n",
       "      <td>536</td>\n",
       "    </tr>\n",
       "    <tr>\n",
       "      <th>2</th>\n",
       "      <td>0.0</td>\n",
       "      <td>State servant</td>\n",
       "      <td>265</td>\n",
       "    </tr>\n",
       "    <tr>\n",
       "      <th>3</th>\n",
       "      <td>0.0</td>\n",
       "      <td>Working</td>\n",
       "      <td>1639</td>\n",
       "    </tr>\n",
       "    <tr>\n",
       "      <th>4</th>\n",
       "      <td>1.0</td>\n",
       "      <td>Commercial associate</td>\n",
       "      <td>1344</td>\n",
       "    </tr>\n",
       "    <tr>\n",
       "      <th>5</th>\n",
       "      <td>1.0</td>\n",
       "      <td>Pensioner</td>\n",
       "      <td>1084</td>\n",
       "    </tr>\n",
       "    <tr>\n",
       "      <th>6</th>\n",
       "      <td>1.0</td>\n",
       "      <td>State servant</td>\n",
       "      <td>489</td>\n",
       "    </tr>\n",
       "    <tr>\n",
       "      <th>7</th>\n",
       "      <td>1.0</td>\n",
       "      <td>Student</td>\n",
       "      <td>3</td>\n",
       "    </tr>\n",
       "    <tr>\n",
       "      <th>8</th>\n",
       "      <td>1.0</td>\n",
       "      <td>Working</td>\n",
       "      <td>3347</td>\n",
       "    </tr>\n",
       "    <tr>\n",
       "      <th>9</th>\n",
       "      <td>2.0</td>\n",
       "      <td>Commercial associate</td>\n",
       "      <td>4076</td>\n",
       "    </tr>\n",
       "    <tr>\n",
       "      <th>10</th>\n",
       "      <td>2.0</td>\n",
       "      <td>Pensioner</td>\n",
       "      <td>2829</td>\n",
       "    </tr>\n",
       "    <tr>\n",
       "      <th>11</th>\n",
       "      <td>2.0</td>\n",
       "      <td>State servant</td>\n",
       "      <td>1400</td>\n",
       "    </tr>\n",
       "    <tr>\n",
       "      <th>12</th>\n",
       "      <td>2.0</td>\n",
       "      <td>Student</td>\n",
       "      <td>4</td>\n",
       "    </tr>\n",
       "    <tr>\n",
       "      <th>13</th>\n",
       "      <td>2.0</td>\n",
       "      <td>Working</td>\n",
       "      <td>8653</td>\n",
       "    </tr>\n",
       "  </tbody>\n",
       "</table>\n",
       "</div>"
      ],
      "text/plain": [
       "   credit           income_type  count\n",
       "0     0.0  Commercial associate    782\n",
       "1     0.0             Pensioner    536\n",
       "2     0.0         State servant    265\n",
       "3     0.0               Working   1639\n",
       "4     1.0  Commercial associate   1344\n",
       "5     1.0             Pensioner   1084\n",
       "6     1.0         State servant    489\n",
       "7     1.0               Student      3\n",
       "8     1.0               Working   3347\n",
       "9     2.0  Commercial associate   4076\n",
       "10    2.0             Pensioner   2829\n",
       "11    2.0         State servant   1400\n",
       "12    2.0               Student      4\n",
       "13    2.0               Working   8653"
      ]
     },
     "execution_count": 39,
     "metadata": {},
     "output_type": "execute_result"
    }
   ],
   "source": [
    "credit_incometype = pd.DataFrame(train.groupby([train[\"credit\"], train[\"income_type\"]])['income_type'].count())\n",
    "credit_incometype.rename(columns = {'income_type' : 'count'}, inplace = True)\n",
    "credit_incometype =credit_incometype.reset_index(['credit','income_type'])\n",
    "credit_incometype"
   ]
  },
  {
   "cell_type": "code",
   "execution_count": 40,
   "metadata": {
    "scrolled": true
   },
   "outputs": [
    {
     "data": {
      "text/html": [
       "<div>\n",
       "<style scoped>\n",
       "    .dataframe tbody tr th:only-of-type {\n",
       "        vertical-align: middle;\n",
       "    }\n",
       "\n",
       "    .dataframe tbody tr th {\n",
       "        vertical-align: top;\n",
       "    }\n",
       "\n",
       "    .dataframe thead th {\n",
       "        text-align: right;\n",
       "    }\n",
       "</style>\n",
       "<table border=\"1\" class=\"dataframe\">\n",
       "  <thead>\n",
       "    <tr style=\"text-align: right;\">\n",
       "      <th></th>\n",
       "      <th>credit</th>\n",
       "      <th>edu_type</th>\n",
       "      <th>count</th>\n",
       "    </tr>\n",
       "  </thead>\n",
       "  <tbody>\n",
       "    <tr>\n",
       "      <th>0</th>\n",
       "      <td>0.0</td>\n",
       "      <td>Academic degree</td>\n",
       "      <td>2</td>\n",
       "    </tr>\n",
       "    <tr>\n",
       "      <th>1</th>\n",
       "      <td>0.0</td>\n",
       "      <td>Higher education</td>\n",
       "      <td>909</td>\n",
       "    </tr>\n",
       "    <tr>\n",
       "      <th>2</th>\n",
       "      <td>0.0</td>\n",
       "      <td>Incomplete higher</td>\n",
       "      <td>114</td>\n",
       "    </tr>\n",
       "    <tr>\n",
       "      <th>3</th>\n",
       "      <td>0.0</td>\n",
       "      <td>Lower secondary</td>\n",
       "      <td>28</td>\n",
       "    </tr>\n",
       "    <tr>\n",
       "      <th>4</th>\n",
       "      <td>0.0</td>\n",
       "      <td>Secondary / secondary special</td>\n",
       "      <td>2169</td>\n",
       "    </tr>\n",
       "    <tr>\n",
       "      <th>5</th>\n",
       "      <td>1.0</td>\n",
       "      <td>Academic degree</td>\n",
       "      <td>7</td>\n",
       "    </tr>\n",
       "    <tr>\n",
       "      <th>6</th>\n",
       "      <td>1.0</td>\n",
       "      <td>Higher education</td>\n",
       "      <td>1751</td>\n",
       "    </tr>\n",
       "    <tr>\n",
       "      <th>7</th>\n",
       "      <td>1.0</td>\n",
       "      <td>Incomplete higher</td>\n",
       "      <td>246</td>\n",
       "    </tr>\n",
       "    <tr>\n",
       "      <th>8</th>\n",
       "      <td>1.0</td>\n",
       "      <td>Lower secondary</td>\n",
       "      <td>59</td>\n",
       "    </tr>\n",
       "    <tr>\n",
       "      <th>9</th>\n",
       "      <td>1.0</td>\n",
       "      <td>Secondary / secondary special</td>\n",
       "      <td>4204</td>\n",
       "    </tr>\n",
       "    <tr>\n",
       "      <th>10</th>\n",
       "      <td>2.0</td>\n",
       "      <td>Academic degree</td>\n",
       "      <td>14</td>\n",
       "    </tr>\n",
       "    <tr>\n",
       "      <th>11</th>\n",
       "      <td>2.0</td>\n",
       "      <td>Higher education</td>\n",
       "      <td>4502</td>\n",
       "    </tr>\n",
       "    <tr>\n",
       "      <th>12</th>\n",
       "      <td>2.0</td>\n",
       "      <td>Incomplete higher</td>\n",
       "      <td>660</td>\n",
       "    </tr>\n",
       "    <tr>\n",
       "      <th>13</th>\n",
       "      <td>2.0</td>\n",
       "      <td>Lower secondary</td>\n",
       "      <td>170</td>\n",
       "    </tr>\n",
       "    <tr>\n",
       "      <th>14</th>\n",
       "      <td>2.0</td>\n",
       "      <td>Secondary / secondary special</td>\n",
       "      <td>11616</td>\n",
       "    </tr>\n",
       "  </tbody>\n",
       "</table>\n",
       "</div>"
      ],
      "text/plain": [
       "   credit                       edu_type  count\n",
       "0     0.0                Academic degree      2\n",
       "1     0.0               Higher education    909\n",
       "2     0.0              Incomplete higher    114\n",
       "3     0.0                Lower secondary     28\n",
       "4     0.0  Secondary / secondary special   2169\n",
       "5     1.0                Academic degree      7\n",
       "6     1.0               Higher education   1751\n",
       "7     1.0              Incomplete higher    246\n",
       "8     1.0                Lower secondary     59\n",
       "9     1.0  Secondary / secondary special   4204\n",
       "10    2.0                Academic degree     14\n",
       "11    2.0               Higher education   4502\n",
       "12    2.0              Incomplete higher    660\n",
       "13    2.0                Lower secondary    170\n",
       "14    2.0  Secondary / secondary special  11616"
      ]
     },
     "execution_count": 40,
     "metadata": {},
     "output_type": "execute_result"
    }
   ],
   "source": [
    "credit_edu_type = pd.DataFrame(train.groupby([train[\"credit\"], train[\"edu_type\"]])['edu_type'].count())\n",
    "credit_edu_type.rename(columns = {'edu_type' : 'count'}, inplace = True)\n",
    "credit_edu_type =credit_edu_type.reset_index(['credit','edu_type'])\n",
    "credit_edu_type"
   ]
  },
  {
   "cell_type": "code",
   "execution_count": 41,
   "metadata": {},
   "outputs": [
    {
     "data": {
      "text/html": [
       "<div>\n",
       "<style scoped>\n",
       "    .dataframe tbody tr th:only-of-type {\n",
       "        vertical-align: middle;\n",
       "    }\n",
       "\n",
       "    .dataframe tbody tr th {\n",
       "        vertical-align: top;\n",
       "    }\n",
       "\n",
       "    .dataframe thead th {\n",
       "        text-align: right;\n",
       "    }\n",
       "</style>\n",
       "<table border=\"1\" class=\"dataframe\">\n",
       "  <thead>\n",
       "    <tr style=\"text-align: right;\">\n",
       "      <th></th>\n",
       "      <th>credit</th>\n",
       "      <th>family_type</th>\n",
       "      <th>count</th>\n",
       "    </tr>\n",
       "  </thead>\n",
       "  <tbody>\n",
       "    <tr>\n",
       "      <th>0</th>\n",
       "      <td>0.0</td>\n",
       "      <td>Civil marriage</td>\n",
       "      <td>288</td>\n",
       "    </tr>\n",
       "    <tr>\n",
       "      <th>1</th>\n",
       "      <td>0.0</td>\n",
       "      <td>Married</td>\n",
       "      <td>2213</td>\n",
       "    </tr>\n",
       "    <tr>\n",
       "      <th>2</th>\n",
       "      <td>0.0</td>\n",
       "      <td>Separated</td>\n",
       "      <td>193</td>\n",
       "    </tr>\n",
       "    <tr>\n",
       "      <th>3</th>\n",
       "      <td>0.0</td>\n",
       "      <td>Single / not married</td>\n",
       "      <td>402</td>\n",
       "    </tr>\n",
       "    <tr>\n",
       "      <th>4</th>\n",
       "      <td>0.0</td>\n",
       "      <td>Widow</td>\n",
       "      <td>126</td>\n",
       "    </tr>\n",
       "    <tr>\n",
       "      <th>5</th>\n",
       "      <td>1.0</td>\n",
       "      <td>Civil marriage</td>\n",
       "      <td>539</td>\n",
       "    </tr>\n",
       "    <tr>\n",
       "      <th>6</th>\n",
       "      <td>1.0</td>\n",
       "      <td>Married</td>\n",
       "      <td>4140</td>\n",
       "    </tr>\n",
       "    <tr>\n",
       "      <th>7</th>\n",
       "      <td>1.0</td>\n",
       "      <td>Separated</td>\n",
       "      <td>349</td>\n",
       "    </tr>\n",
       "    <tr>\n",
       "      <th>8</th>\n",
       "      <td>1.0</td>\n",
       "      <td>Single / not married</td>\n",
       "      <td>940</td>\n",
       "    </tr>\n",
       "    <tr>\n",
       "      <th>9</th>\n",
       "      <td>1.0</td>\n",
       "      <td>Widow</td>\n",
       "      <td>299</td>\n",
       "    </tr>\n",
       "    <tr>\n",
       "      <th>10</th>\n",
       "      <td>2.0</td>\n",
       "      <td>Civil marriage</td>\n",
       "      <td>1296</td>\n",
       "    </tr>\n",
       "    <tr>\n",
       "      <th>11</th>\n",
       "      <td>2.0</td>\n",
       "      <td>Married</td>\n",
       "      <td>11841</td>\n",
       "    </tr>\n",
       "    <tr>\n",
       "      <th>12</th>\n",
       "      <td>2.0</td>\n",
       "      <td>Separated</td>\n",
       "      <td>994</td>\n",
       "    </tr>\n",
       "    <tr>\n",
       "      <th>13</th>\n",
       "      <td>2.0</td>\n",
       "      <td>Single / not married</td>\n",
       "      <td>2153</td>\n",
       "    </tr>\n",
       "    <tr>\n",
       "      <th>14</th>\n",
       "      <td>2.0</td>\n",
       "      <td>Widow</td>\n",
       "      <td>678</td>\n",
       "    </tr>\n",
       "  </tbody>\n",
       "</table>\n",
       "</div>"
      ],
      "text/plain": [
       "   credit           family_type  count\n",
       "0     0.0        Civil marriage    288\n",
       "1     0.0               Married   2213\n",
       "2     0.0             Separated    193\n",
       "3     0.0  Single / not married    402\n",
       "4     0.0                 Widow    126\n",
       "5     1.0        Civil marriage    539\n",
       "6     1.0               Married   4140\n",
       "7     1.0             Separated    349\n",
       "8     1.0  Single / not married    940\n",
       "9     1.0                 Widow    299\n",
       "10    2.0        Civil marriage   1296\n",
       "11    2.0               Married  11841\n",
       "12    2.0             Separated    994\n",
       "13    2.0  Single / not married   2153\n",
       "14    2.0                 Widow    678"
      ]
     },
     "execution_count": 41,
     "metadata": {},
     "output_type": "execute_result"
    }
   ],
   "source": [
    "credit_family_type = pd.DataFrame(train.groupby([train[\"credit\"], train[\"family_type\"]])['family_type'].count())\n",
    "credit_family_type.rename(columns = {'family_type' : 'count'}, inplace = True)\n",
    "credit_family_type =credit_family_type.reset_index(['credit','family_type'])\n",
    "credit_family_type"
   ]
  },
  {
   "cell_type": "code",
   "execution_count": 42,
   "metadata": {},
   "outputs": [
    {
     "data": {
      "text/html": [
       "<div>\n",
       "<style scoped>\n",
       "    .dataframe tbody tr th:only-of-type {\n",
       "        vertical-align: middle;\n",
       "    }\n",
       "\n",
       "    .dataframe tbody tr th {\n",
       "        vertical-align: top;\n",
       "    }\n",
       "\n",
       "    .dataframe thead th {\n",
       "        text-align: right;\n",
       "    }\n",
       "</style>\n",
       "<table border=\"1\" class=\"dataframe\">\n",
       "  <thead>\n",
       "    <tr style=\"text-align: right;\">\n",
       "      <th></th>\n",
       "      <th>credit</th>\n",
       "      <th>house_type</th>\n",
       "      <th>count</th>\n",
       "    </tr>\n",
       "  </thead>\n",
       "  <tbody>\n",
       "    <tr>\n",
       "      <th>0</th>\n",
       "      <td>0.0</td>\n",
       "      <td>Co-op apartment</td>\n",
       "      <td>14</td>\n",
       "    </tr>\n",
       "    <tr>\n",
       "      <th>1</th>\n",
       "      <td>0.0</td>\n",
       "      <td>House / apartment</td>\n",
       "      <td>2873</td>\n",
       "    </tr>\n",
       "    <tr>\n",
       "      <th>2</th>\n",
       "      <td>0.0</td>\n",
       "      <td>Municipal apartment</td>\n",
       "      <td>110</td>\n",
       "    </tr>\n",
       "    <tr>\n",
       "      <th>3</th>\n",
       "      <td>0.0</td>\n",
       "      <td>Office apartment</td>\n",
       "      <td>24</td>\n",
       "    </tr>\n",
       "    <tr>\n",
       "      <th>4</th>\n",
       "      <td>0.0</td>\n",
       "      <td>Rented apartment</td>\n",
       "      <td>50</td>\n",
       "    </tr>\n",
       "    <tr>\n",
       "      <th>5</th>\n",
       "      <td>0.0</td>\n",
       "      <td>With parents</td>\n",
       "      <td>151</td>\n",
       "    </tr>\n",
       "    <tr>\n",
       "      <th>6</th>\n",
       "      <td>1.0</td>\n",
       "      <td>Co-op apartment</td>\n",
       "      <td>30</td>\n",
       "    </tr>\n",
       "    <tr>\n",
       "      <th>7</th>\n",
       "      <td>1.0</td>\n",
       "      <td>House / apartment</td>\n",
       "      <td>5569</td>\n",
       "    </tr>\n",
       "    <tr>\n",
       "      <th>8</th>\n",
       "      <td>1.0</td>\n",
       "      <td>Municipal apartment</td>\n",
       "      <td>160</td>\n",
       "    </tr>\n",
       "    <tr>\n",
       "      <th>9</th>\n",
       "      <td>1.0</td>\n",
       "      <td>Office apartment</td>\n",
       "      <td>48</td>\n",
       "    </tr>\n",
       "    <tr>\n",
       "      <th>10</th>\n",
       "      <td>1.0</td>\n",
       "      <td>Rented apartment</td>\n",
       "      <td>147</td>\n",
       "    </tr>\n",
       "    <tr>\n",
       "      <th>11</th>\n",
       "      <td>1.0</td>\n",
       "      <td>With parents</td>\n",
       "      <td>313</td>\n",
       "    </tr>\n",
       "    <tr>\n",
       "      <th>12</th>\n",
       "      <td>2.0</td>\n",
       "      <td>Co-op apartment</td>\n",
       "      <td>66</td>\n",
       "    </tr>\n",
       "    <tr>\n",
       "      <th>13</th>\n",
       "      <td>2.0</td>\n",
       "      <td>House / apartment</td>\n",
       "      <td>15205</td>\n",
       "    </tr>\n",
       "    <tr>\n",
       "      <th>14</th>\n",
       "      <td>2.0</td>\n",
       "      <td>Municipal apartment</td>\n",
       "      <td>548</td>\n",
       "    </tr>\n",
       "    <tr>\n",
       "      <th>15</th>\n",
       "      <td>2.0</td>\n",
       "      <td>Office apartment</td>\n",
       "      <td>118</td>\n",
       "    </tr>\n",
       "    <tr>\n",
       "      <th>16</th>\n",
       "      <td>2.0</td>\n",
       "      <td>Rented apartment</td>\n",
       "      <td>232</td>\n",
       "    </tr>\n",
       "    <tr>\n",
       "      <th>17</th>\n",
       "      <td>2.0</td>\n",
       "      <td>With parents</td>\n",
       "      <td>793</td>\n",
       "    </tr>\n",
       "  </tbody>\n",
       "</table>\n",
       "</div>"
      ],
      "text/plain": [
       "   credit           house_type  count\n",
       "0     0.0      Co-op apartment     14\n",
       "1     0.0    House / apartment   2873\n",
       "2     0.0  Municipal apartment    110\n",
       "3     0.0     Office apartment     24\n",
       "4     0.0     Rented apartment     50\n",
       "5     0.0         With parents    151\n",
       "6     1.0      Co-op apartment     30\n",
       "7     1.0    House / apartment   5569\n",
       "8     1.0  Municipal apartment    160\n",
       "9     1.0     Office apartment     48\n",
       "10    1.0     Rented apartment    147\n",
       "11    1.0         With parents    313\n",
       "12    2.0      Co-op apartment     66\n",
       "13    2.0    House / apartment  15205\n",
       "14    2.0  Municipal apartment    548\n",
       "15    2.0     Office apartment    118\n",
       "16    2.0     Rented apartment    232\n",
       "17    2.0         With parents    793"
      ]
     },
     "execution_count": 42,
     "metadata": {},
     "output_type": "execute_result"
    }
   ],
   "source": [
    "credit_house_type = pd.DataFrame(train.groupby([train[\"credit\"], train[\"house_type\"]])['house_type'].count())\n",
    "credit_house_type.rename(columns = {'house_type' : 'count'}, inplace = True)\n",
    "credit_house_type =credit_house_type.reset_index(['credit','house_type'])\n",
    "credit_house_type"
   ]
  },
  {
   "cell_type": "code",
   "execution_count": 43,
   "metadata": {},
   "outputs": [
    {
     "data": {
      "text/plain": [
       "array(['0.0', '1.0', '2.0'], dtype=object)"
      ]
     },
     "execution_count": 43,
     "metadata": {},
     "output_type": "execute_result"
    }
   ],
   "source": [
    "credit_edu_type['credit'].unique()"
   ]
  },
  {
   "cell_type": "code",
   "execution_count": 44,
   "metadata": {},
   "outputs": [
    {
     "data": {
      "text/plain": [
       "'C:\\\\Users\\\\shong\\\\Documents\\\\credit.html'"
      ]
     },
     "execution_count": 44,
     "metadata": {},
     "output_type": "execute_result"
    }
   ],
   "source": [
    "#0\n",
    "x_data = zeroonetwo.index\n",
    "y_data = zeroonetwo['count']\n",
    "pie1 = (Pie(init_opts=opts.InitOpts(theme=ThemeType.WESTEROS))\n",
    "    .add(series_name=\"  \",data_pair=[list(z) for z in zip(x_data, y_data)],radius=[\"30%\", \"70%\"],label_opts=opts.LabelOpts(is_show=True, position=\"bottom\"),)\n",
    "    .set_global_opts(title_opts=opts.TitleOpts(title=\"CREDIT\"),legend_opts=opts.LegendOpts(pos_left=\"left\", pos_top=\"30\",orient=\"vertical\"))\n",
    "    .set_series_opts(tooltip_opts=opts.TooltipOpts(trigger=\"item\",  formatter=\"{a}{b}: {c} ({d}%)\")))\n",
    "pie1.render('credit.html')"
   ]
  },
  {
   "cell_type": "code",
   "execution_count": 45,
   "metadata": {},
   "outputs": [
    {
     "data": {
      "text/html": [
       "\n",
       "        <iframe\n",
       "            width=\"800\"\n",
       "            height=\"500\"\n",
       "            src=\"./credit.html\"\n",
       "            frameborder=\"0\"\n",
       "            allowfullscreen\n",
       "        ></iframe>\n",
       "        "
      ],
      "text/plain": [
       "<IPython.lib.display.IFrame at 0x297d45bc910>"
      ]
     },
     "execution_count": 45,
     "metadata": {},
     "output_type": "execute_result"
    }
   ],
   "source": [
    "from IPython.display import IFrame\n",
    "\n",
    "IFrame(src='./credit.html', width=800, height=500)"
   ]
  },
  {
   "cell_type": "code",
   "execution_count": 46,
   "metadata": {},
   "outputs": [
    {
     "data": {
      "text/plain": [
       "'C:\\\\Users\\\\shong\\\\Documents\\\\credit_income.html'"
      ]
     },
     "execution_count": 46,
     "metadata": {},
     "output_type": "execute_result"
    }
   ],
   "source": [
    "categorical_tab = Tab()\n",
    "#1\n",
    "kind = credit_incometype['income_type'].unique()\n",
    "credit_income = Timeline(init_opts=opts.InitOpts(theme=ThemeType.LIGHT, height='500px',width='1000px')).add_schema(is_auto_play=True) \n",
    "for t in credit_incometype['credit'].unique():\n",
    "  credit_income.add((Pie(init_opts=opts.InitOpts(theme=ThemeType.MACARONS))\n",
    "                    .add(\"\", [list(z) for z in zip(kind,  credit_incometype[ credit_incometype['credit'] == t]['count'])],\n",
    "                    rosetype=\"radius\",radius=[\"30%\", \"60%\"],\n",
    "                    label_opts=opts.LabelOpts(position='outside', formatter=\"{b}\\n{d}%\"))\n",
    "         .set_global_opts(title_opts=opts.TitleOpts(\"신용등급별 소득분류\", pos_left=\"center\"),\n",
    "                          legend_opts=opts.LegendOpts(type_ = 'scroll',pos_top =\"5%\",orient=\"horizontal\",legend_icon ='pin'))),\"{}등급\".format(t))\n",
    "\n",
    "#2\n",
    "kind = credit_edu_type['edu_type'].unique()\n",
    "credit_edu = Timeline(init_opts=opts.InitOpts(theme=ThemeType.MACARONS, height='500px',width='1000px')).add_schema(is_auto_play=True) \n",
    "for t in credit_edu_type['credit'].unique():\n",
    "  credit_edu.add((Pie(init_opts=opts.InitOpts(theme=ThemeType.MACARONS))\n",
    "                    .add(\"\", [list(z) for z in zip(kind, credit_edu_type[credit_edu_type['credit'] == t]['count'])],\n",
    "                    rosetype=\"radius\",radius=[\"30%\", \"60%\"],\n",
    "                    label_opts=opts.LabelOpts(position='outside', formatter=\"{b}\\n{d}%\"))\n",
    "         .set_global_opts(title_opts=opts.TitleOpts(\"신용등급별 교육수준\", pos_left=\"center\"),\n",
    "                          legend_opts=opts.LegendOpts(type_ = 'scroll',pos_top =\"5%\",orient=\"horizontal\",legend_icon ='pin'))),\"{}등급\".format(t))\n",
    "\n",
    "\n",
    "#3\n",
    "kind = credit_family_type['family_type'].unique()\n",
    "credit_family = Timeline(init_opts=opts.InitOpts(theme=ThemeType.LIGHT, height='500px',width='1000px')).add_schema(is_auto_play=True) \n",
    "for t in credit_family_type['credit'].unique():\n",
    "  credit_family.add((Pie(init_opts=opts.InitOpts(theme=ThemeType.MACARONS))\n",
    "                    .add(\"\", [list(z) for z in zip(kind, credit_family_type[credit_family_type['credit'] == t]['count'])],\n",
    "                    rosetype=\"radius\",radius=[\"30%\", \"60%\"],\n",
    "                    label_opts=opts.LabelOpts(position='outside', formatter=\"{b}\\n{d}%\"))\n",
    "         .set_global_opts(title_opts=opts.TitleOpts(\"신용등급별 결혼여부\", pos_left=\"center\"),\n",
    "                          legend_opts=opts.LegendOpts(type_ = 'scroll',pos_top =\"5%\",orient=\"horizontal\",legend_icon ='pin'))),\"{}등급\".format(t))\n",
    "\n",
    "#4\n",
    "kind = credit_house_type['house_type'].unique()\n",
    "credit_house = Timeline(init_opts=opts.InitOpts(theme=ThemeType.LIGHT, height='500px',width='1000px')).add_schema(is_auto_play=True) \n",
    "for t in credit_house_type['credit'].unique():\n",
    "  credit_house.add((Pie(init_opts=opts.InitOpts(theme=ThemeType.MACARONS))\n",
    "                    .add(\"\", [list(z) for z in zip(kind,  credit_house_type[credit_house_type['credit'] == t]['count'])],\n",
    "                    rosetype=\"radius\",radius=[\"30%\", \"60%\"],\n",
    "                    label_opts=opts.LabelOpts(position='outside', formatter=\"{b}\\n{d}%\"))\n",
    "         .set_global_opts(title_opts=opts.TitleOpts(\"신용등급별 생활방식\", pos_left=\"center\"),\n",
    "                          legend_opts=opts.LegendOpts(type_ = 'scroll',pos_top =\"5%\",orient=\"horizontal\",legend_icon ='pin'))),\"{}등급\".format(t))\n",
    "\n",
    "categorical_tab.add(credit_income,'소득분류')\n",
    "categorical_tab.add(credit_edu,'교육수준')\n",
    "categorical_tab.add(credit_family,'결혼여부')\n",
    "categorical_tab.add(credit_house,'생활방식')\n",
    "categorical_tab.render('credit_income.html')"
   ]
  },
  {
   "cell_type": "code",
   "execution_count": 69,
   "metadata": {},
   "outputs": [
    {
     "data": {
      "text/html": [
       "\n",
       "        <iframe\n",
       "            width=\"1000\"\n",
       "            height=\"600\"\n",
       "            src=\"./credit_income.html\"\n",
       "            frameborder=\"0\"\n",
       "            allowfullscreen\n",
       "        ></iframe>\n",
       "        "
      ],
      "text/plain": [
       "<IPython.lib.display.IFrame at 0x297d4b2c4c0>"
      ]
     },
     "execution_count": 69,
     "metadata": {},
     "output_type": "execute_result"
    }
   ],
   "source": [
    "from IPython.display import IFrame\n",
    "\n",
    "IFrame(src='./credit_income.html', width=1000, height=600)"
   ]
  },
  {
   "cell_type": "code",
   "execution_count": 48,
   "metadata": {},
   "outputs": [
    {
     "data": {
      "text/html": [
       "<div>\n",
       "<style scoped>\n",
       "    .dataframe tbody tr th:only-of-type {\n",
       "        vertical-align: middle;\n",
       "    }\n",
       "\n",
       "    .dataframe tbody tr th {\n",
       "        vertical-align: top;\n",
       "    }\n",
       "\n",
       "    .dataframe thead th {\n",
       "        text-align: right;\n",
       "    }\n",
       "</style>\n",
       "<table border=\"1\" class=\"dataframe\">\n",
       "  <thead>\n",
       "    <tr style=\"text-align: right;\">\n",
       "      <th></th>\n",
       "      <th>gender</th>\n",
       "      <th>car</th>\n",
       "      <th>reality</th>\n",
       "      <th>income_total</th>\n",
       "      <th>income_type</th>\n",
       "      <th>edu_type</th>\n",
       "      <th>family_type</th>\n",
       "      <th>house_type</th>\n",
       "      <th>DAYS_EMPLOYED</th>\n",
       "      <th>work_phone</th>\n",
       "      <th>phone</th>\n",
       "      <th>email</th>\n",
       "      <th>occyp_type</th>\n",
       "      <th>family_size</th>\n",
       "      <th>begin_month</th>\n",
       "      <th>credit</th>\n",
       "      <th>age</th>\n",
       "      <th>start_work</th>\n",
       "      <th>income_age</th>\n",
       "      <th>income_employed</th>\n",
       "      <th>income_family</th>\n",
       "      <th>e_p</th>\n",
       "    </tr>\n",
       "  </thead>\n",
       "  <tbody>\n",
       "    <tr>\n",
       "      <th>0</th>\n",
       "      <td>F</td>\n",
       "      <td>N</td>\n",
       "      <td>N</td>\n",
       "      <td>202500</td>\n",
       "      <td>Commercial associate</td>\n",
       "      <td>Higher education</td>\n",
       "      <td>Married</td>\n",
       "      <td>Municipal apartment</td>\n",
       "      <td>4709</td>\n",
       "      <td>0</td>\n",
       "      <td>0</td>\n",
       "      <td>0</td>\n",
       "      <td>NA</td>\n",
       "      <td>2</td>\n",
       "      <td>6</td>\n",
       "      <td>1.0</td>\n",
       "      <td>38</td>\n",
       "      <td>26</td>\n",
       "      <td>5328.947368</td>\n",
       "      <td>15576.923077</td>\n",
       "      <td>101250.0</td>\n",
       "      <td>0</td>\n",
       "    </tr>\n",
       "    <tr>\n",
       "      <th>1</th>\n",
       "      <td>F</td>\n",
       "      <td>N</td>\n",
       "      <td>Y</td>\n",
       "      <td>247500</td>\n",
       "      <td>Commercial associate</td>\n",
       "      <td>Secondary / secondary special</td>\n",
       "      <td>Civil marriage</td>\n",
       "      <td>House / apartment</td>\n",
       "      <td>1540</td>\n",
       "      <td>0</td>\n",
       "      <td>0</td>\n",
       "      <td>1</td>\n",
       "      <td>Laborers</td>\n",
       "      <td>3</td>\n",
       "      <td>5</td>\n",
       "      <td>1.0</td>\n",
       "      <td>31</td>\n",
       "      <td>27</td>\n",
       "      <td>7983.870968</td>\n",
       "      <td>49500.000000</td>\n",
       "      <td>82500.0</td>\n",
       "      <td>1</td>\n",
       "    </tr>\n",
       "    <tr>\n",
       "      <th>2</th>\n",
       "      <td>M</td>\n",
       "      <td>Y</td>\n",
       "      <td>Y</td>\n",
       "      <td>450000</td>\n",
       "      <td>Working</td>\n",
       "      <td>Higher education</td>\n",
       "      <td>Married</td>\n",
       "      <td>House / apartment</td>\n",
       "      <td>4434</td>\n",
       "      <td>0</td>\n",
       "      <td>1</td>\n",
       "      <td>0</td>\n",
       "      <td>Managers</td>\n",
       "      <td>2</td>\n",
       "      <td>22</td>\n",
       "      <td>2.0</td>\n",
       "      <td>52</td>\n",
       "      <td>40</td>\n",
       "      <td>8653.846154</td>\n",
       "      <td>34615.384615</td>\n",
       "      <td>225000.0</td>\n",
       "      <td>1</td>\n",
       "    </tr>\n",
       "  </tbody>\n",
       "</table>\n",
       "</div>"
      ],
      "text/plain": [
       "  gender car reality  income_total           income_type  \\\n",
       "0      F   N       N        202500  Commercial associate   \n",
       "1      F   N       Y        247500  Commercial associate   \n",
       "2      M   Y       Y        450000               Working   \n",
       "\n",
       "                        edu_type     family_type           house_type  \\\n",
       "0               Higher education         Married  Municipal apartment   \n",
       "1  Secondary / secondary special  Civil marriage    House / apartment   \n",
       "2               Higher education         Married    House / apartment   \n",
       "\n",
       "   DAYS_EMPLOYED  work_phone  phone  email occyp_type  family_size  \\\n",
       "0           4709           0      0      0         NA            2   \n",
       "1           1540           0      0      1   Laborers            3   \n",
       "2           4434           0      1      0   Managers            2   \n",
       "\n",
       "   begin_month credit  age  start_work   income_age  income_employed  \\\n",
       "0            6    1.0   38          26  5328.947368     15576.923077   \n",
       "1            5    1.0   31          27  7983.870968     49500.000000   \n",
       "2           22    2.0   52          40  8653.846154     34615.384615   \n",
       "\n",
       "   income_family  e_p  \n",
       "0       101250.0    0  \n",
       "1        82500.0    1  \n",
       "2       225000.0    1  "
      ]
     },
     "execution_count": 48,
     "metadata": {},
     "output_type": "execute_result"
    }
   ],
   "source": [
    "train.head(3)"
   ]
  },
  {
   "cell_type": "code",
   "execution_count": 49,
   "metadata": {},
   "outputs": [],
   "source": [
    "def func(x):\n",
    "  d = {}\n",
    "  d['count'] = x[col].count()\n",
    "  return pd.Series(d, index=['count'])"
   ]
  },
  {
   "cell_type": "code",
   "execution_count": 50,
   "metadata": {},
   "outputs": [
    {
     "data": {
      "text/html": [
       "<div>\n",
       "<style scoped>\n",
       "    .dataframe tbody tr th:only-of-type {\n",
       "        vertical-align: middle;\n",
       "    }\n",
       "\n",
       "    .dataframe tbody tr th {\n",
       "        vertical-align: top;\n",
       "    }\n",
       "\n",
       "    .dataframe thead th {\n",
       "        text-align: right;\n",
       "    }\n",
       "</style>\n",
       "<table border=\"1\" class=\"dataframe\">\n",
       "  <thead>\n",
       "    <tr style=\"text-align: right;\">\n",
       "      <th></th>\n",
       "      <th>credit</th>\n",
       "      <th>gender</th>\n",
       "      <th>count</th>\n",
       "    </tr>\n",
       "  </thead>\n",
       "  <tbody>\n",
       "    <tr>\n",
       "      <th>0</th>\n",
       "      <td>0.0</td>\n",
       "      <td>F</td>\n",
       "      <td>2148</td>\n",
       "    </tr>\n",
       "    <tr>\n",
       "      <th>1</th>\n",
       "      <td>0.0</td>\n",
       "      <td>M</td>\n",
       "      <td>1074</td>\n",
       "    </tr>\n",
       "    <tr>\n",
       "      <th>2</th>\n",
       "      <td>1.0</td>\n",
       "      <td>F</td>\n",
       "      <td>4220</td>\n",
       "    </tr>\n",
       "    <tr>\n",
       "      <th>3</th>\n",
       "      <td>1.0</td>\n",
       "      <td>M</td>\n",
       "      <td>2047</td>\n",
       "    </tr>\n",
       "    <tr>\n",
       "      <th>4</th>\n",
       "      <td>2.0</td>\n",
       "      <td>F</td>\n",
       "      <td>11326</td>\n",
       "    </tr>\n",
       "    <tr>\n",
       "      <th>5</th>\n",
       "      <td>2.0</td>\n",
       "      <td>M</td>\n",
       "      <td>5636</td>\n",
       "    </tr>\n",
       "  </tbody>\n",
       "</table>\n",
       "</div>"
      ],
      "text/plain": [
       "  credit gender  count\n",
       "0    0.0      F   2148\n",
       "1    0.0      M   1074\n",
       "2    1.0      F   4220\n",
       "3    1.0      M   2047\n",
       "4    2.0      F  11326\n",
       "5    2.0      M   5636"
      ]
     },
     "execution_count": 50,
     "metadata": {},
     "output_type": "execute_result"
    }
   ],
   "source": [
    "col = 'gender'\n",
    "df_gender = train.groupby(['credit',col]).apply(func)\n",
    "df_gender = df_gender.reset_index()\n",
    "df_gender"
   ]
  },
  {
   "cell_type": "code",
   "execution_count": 51,
   "metadata": {},
   "outputs": [
    {
     "data": {
      "text/html": [
       "<div>\n",
       "<style scoped>\n",
       "    .dataframe tbody tr th:only-of-type {\n",
       "        vertical-align: middle;\n",
       "    }\n",
       "\n",
       "    .dataframe tbody tr th {\n",
       "        vertical-align: top;\n",
       "    }\n",
       "\n",
       "    .dataframe thead th {\n",
       "        text-align: right;\n",
       "    }\n",
       "</style>\n",
       "<table border=\"1\" class=\"dataframe\">\n",
       "  <thead>\n",
       "    <tr style=\"text-align: right;\">\n",
       "      <th></th>\n",
       "      <th>credit</th>\n",
       "      <th>car</th>\n",
       "      <th>count</th>\n",
       "    </tr>\n",
       "  </thead>\n",
       "  <tbody>\n",
       "    <tr>\n",
       "      <th>0</th>\n",
       "      <td>0.0</td>\n",
       "      <td>N</td>\n",
       "      <td>1982</td>\n",
       "    </tr>\n",
       "    <tr>\n",
       "      <th>1</th>\n",
       "      <td>0.0</td>\n",
       "      <td>Y</td>\n",
       "      <td>1240</td>\n",
       "    </tr>\n",
       "    <tr>\n",
       "      <th>2</th>\n",
       "      <td>1.0</td>\n",
       "      <td>N</td>\n",
       "      <td>3990</td>\n",
       "    </tr>\n",
       "    <tr>\n",
       "      <th>3</th>\n",
       "      <td>1.0</td>\n",
       "      <td>Y</td>\n",
       "      <td>2277</td>\n",
       "    </tr>\n",
       "    <tr>\n",
       "      <th>4</th>\n",
       "      <td>2.0</td>\n",
       "      <td>N</td>\n",
       "      <td>10435</td>\n",
       "    </tr>\n",
       "    <tr>\n",
       "      <th>5</th>\n",
       "      <td>2.0</td>\n",
       "      <td>Y</td>\n",
       "      <td>6527</td>\n",
       "    </tr>\n",
       "  </tbody>\n",
       "</table>\n",
       "</div>"
      ],
      "text/plain": [
       "  credit car  count\n",
       "0    0.0   N   1982\n",
       "1    0.0   Y   1240\n",
       "2    1.0   N   3990\n",
       "3    1.0   Y   2277\n",
       "4    2.0   N  10435\n",
       "5    2.0   Y   6527"
      ]
     },
     "execution_count": 51,
     "metadata": {},
     "output_type": "execute_result"
    }
   ],
   "source": [
    "col = 'car'\n",
    "df_car = train.groupby(['credit',col]).apply(func)\n",
    "df_car = df_car.reset_index()\n",
    "df_car"
   ]
  },
  {
   "cell_type": "code",
   "execution_count": 52,
   "metadata": {},
   "outputs": [
    {
     "data": {
      "text/html": [
       "<div>\n",
       "<style scoped>\n",
       "    .dataframe tbody tr th:only-of-type {\n",
       "        vertical-align: middle;\n",
       "    }\n",
       "\n",
       "    .dataframe tbody tr th {\n",
       "        vertical-align: top;\n",
       "    }\n",
       "\n",
       "    .dataframe thead th {\n",
       "        text-align: right;\n",
       "    }\n",
       "</style>\n",
       "<table border=\"1\" class=\"dataframe\">\n",
       "  <thead>\n",
       "    <tr style=\"text-align: right;\">\n",
       "      <th></th>\n",
       "      <th>credit</th>\n",
       "      <th>reality</th>\n",
       "      <th>count</th>\n",
       "    </tr>\n",
       "  </thead>\n",
       "  <tbody>\n",
       "    <tr>\n",
       "      <th>0</th>\n",
       "      <td>0.0</td>\n",
       "      <td>N</td>\n",
       "      <td>1064</td>\n",
       "    </tr>\n",
       "    <tr>\n",
       "      <th>1</th>\n",
       "      <td>0.0</td>\n",
       "      <td>Y</td>\n",
       "      <td>2158</td>\n",
       "    </tr>\n",
       "    <tr>\n",
       "      <th>2</th>\n",
       "      <td>1.0</td>\n",
       "      <td>N</td>\n",
       "      <td>1935</td>\n",
       "    </tr>\n",
       "    <tr>\n",
       "      <th>3</th>\n",
       "      <td>1.0</td>\n",
       "      <td>Y</td>\n",
       "      <td>4332</td>\n",
       "    </tr>\n",
       "    <tr>\n",
       "      <th>4</th>\n",
       "      <td>2.0</td>\n",
       "      <td>N</td>\n",
       "      <td>5626</td>\n",
       "    </tr>\n",
       "    <tr>\n",
       "      <th>5</th>\n",
       "      <td>2.0</td>\n",
       "      <td>Y</td>\n",
       "      <td>11336</td>\n",
       "    </tr>\n",
       "  </tbody>\n",
       "</table>\n",
       "</div>"
      ],
      "text/plain": [
       "  credit reality  count\n",
       "0    0.0       N   1064\n",
       "1    0.0       Y   2158\n",
       "2    1.0       N   1935\n",
       "3    1.0       Y   4332\n",
       "4    2.0       N   5626\n",
       "5    2.0       Y  11336"
      ]
     },
     "execution_count": 52,
     "metadata": {},
     "output_type": "execute_result"
    }
   ],
   "source": [
    "col = 'reality'\n",
    "df_reality = train.groupby(['credit',col]).apply(func)\n",
    "df_reality = df_reality.reset_index()\n",
    "df_reality"
   ]
  },
  {
   "cell_type": "code",
   "execution_count": 53,
   "metadata": {},
   "outputs": [
    {
     "data": {
      "text/plain": [
       "'C:\\\\Users\\\\shong\\\\Documents\\\\Bar1.html'"
      ]
     },
     "execution_count": 53,
     "metadata": {},
     "output_type": "execute_result"
    }
   ],
   "source": [
    "Bar1 = (Bar(init_opts=opts.InitOpts(\n",
    "        theme=ThemeType.LIGHT)\n",
    "  ).add_xaxis([\"0등급\",\"1등급\",\"2등급\"])\n",
    "  .add_yaxis('F',df_gender[df_gender['gender']==\"F\"]['count'].tolist(),stack=\"stack1\")\n",
    "  .add_yaxis('M',df_gender[df_gender['gender']==\"M\"]['count'].tolist(),stack=\"stack1\")\n",
    "        \n",
    "  .add_yaxis('Car_Y',df_car[df_car['car']==\"Y\"]['count'].tolist(),stack=\"stack2\")\n",
    "  .add_yaxis('Car_N',df_car[df_car['car']==\"N\"]['count'].tolist(),stack=\"stack2\")\n",
    "        \n",
    "  .add_yaxis('Reality_Y',df_reality[df_reality['reality']==\"Y\"]['count'].tolist(),stack=\"stack3\")\n",
    "  .add_yaxis('Reality_N',df_reality[df_reality['reality']==\"N\"]['count'].tolist(),stack=\"stack3\")\n",
    "        \n",
    "  .set_series_opts(label_opts=opts.LabelOpts(is_show=True,position='inside'))\n",
    "  .set_global_opts(title_opts=opts.TitleOpts(title=\"신용등급별 성별/자동차/부동산소유여부 \"),\n",
    "                     tooltip_opts=opts.TooltipOpts(trigger=\"axis\", axis_pointer_type=\"cross\"),\n",
    "                     legend_opts=opts.LegendOpts(pos_bottom=\"0%\", orient=\"horizontal\",legend_icon='pin')))\n",
    "Bar1.render('Bar1.html')"
   ]
  },
  {
   "cell_type": "code",
   "execution_count": 54,
   "metadata": {},
   "outputs": [
    {
     "data": {
      "text/html": [
       "\n",
       "        <iframe\n",
       "            width=\"1000\"\n",
       "            height=\"600\"\n",
       "            src=\"./Bar1.html\"\n",
       "            frameborder=\"0\"\n",
       "            allowfullscreen\n",
       "        ></iframe>\n",
       "        "
      ],
      "text/plain": [
       "<IPython.lib.display.IFrame at 0x297d37f97c0>"
      ]
     },
     "execution_count": 54,
     "metadata": {},
     "output_type": "execute_result"
    }
   ],
   "source": [
    "from IPython.display import IFrame\n",
    "\n",
    "IFrame(src='./Bar1.html', width=1000, height=600)"
   ]
  },
  {
   "cell_type": "code",
   "execution_count": 70,
   "metadata": {},
   "outputs": [
    {
     "data": {
      "text/html": [
       "<div>\n",
       "<style scoped>\n",
       "    .dataframe tbody tr th:only-of-type {\n",
       "        vertical-align: middle;\n",
       "    }\n",
       "\n",
       "    .dataframe tbody tr th {\n",
       "        vertical-align: top;\n",
       "    }\n",
       "\n",
       "    .dataframe thead th {\n",
       "        text-align: right;\n",
       "    }\n",
       "</style>\n",
       "<table border=\"1\" class=\"dataframe\">\n",
       "  <thead>\n",
       "    <tr style=\"text-align: right;\">\n",
       "      <th></th>\n",
       "      <th>count</th>\n",
       "    </tr>\n",
       "    <tr>\n",
       "      <th>occyp_type</th>\n",
       "      <th></th>\n",
       "    </tr>\n",
       "  </thead>\n",
       "  <tbody>\n",
       "    <tr>\n",
       "      <th>Laborers</th>\n",
       "      <td>586</td>\n",
       "    </tr>\n",
       "    <tr>\n",
       "      <th>Core staff</th>\n",
       "      <td>347</td>\n",
       "    </tr>\n",
       "    <tr>\n",
       "      <th>Sales staff</th>\n",
       "      <td>293</td>\n",
       "    </tr>\n",
       "    <tr>\n",
       "      <th>Managers</th>\n",
       "      <td>280</td>\n",
       "    </tr>\n",
       "    <tr>\n",
       "      <th>Drivers</th>\n",
       "      <td>187</td>\n",
       "    </tr>\n",
       "    <tr>\n",
       "      <th>High skill tech staff</th>\n",
       "      <td>123</td>\n",
       "    </tr>\n",
       "    <tr>\n",
       "      <th>Accountants</th>\n",
       "      <td>118</td>\n",
       "    </tr>\n",
       "    <tr>\n",
       "      <th>Medicine staff</th>\n",
       "      <td>83</td>\n",
       "    </tr>\n",
       "  </tbody>\n",
       "</table>\n",
       "</div>"
      ],
      "text/plain": [
       "                       count\n",
       "occyp_type                  \n",
       "Laborers                 586\n",
       "Core staff               347\n",
       "Sales staff              293\n",
       "Managers                 280\n",
       "Drivers                  187\n",
       "High skill tech staff    123\n",
       "Accountants              118\n",
       "Medicine staff            83"
      ]
     },
     "execution_count": 70,
     "metadata": {},
     "output_type": "execute_result"
    }
   ],
   "source": [
    "zero_occyp_type = train_0['occyp_type'].value_counts()\n",
    "zero_occyp_type = pd.DataFrame(zero_occyp_type)\n",
    "zero_occyp_type.rename(columns = {'occyp_type' : 'count'}, inplace = True)\n",
    "zero_occyp_type.index.name = 'occyp_type'\n",
    "zero_occyp_type = zero_occyp_type.drop(index='NA')\n",
    "zero_occyp_type = zero_occyp_type.head(8)\n",
    "zero_occyp_type"
   ]
  },
  {
   "cell_type": "code",
   "execution_count": 71,
   "metadata": {},
   "outputs": [
    {
     "data": {
      "text/html": [
       "<div>\n",
       "<style scoped>\n",
       "    .dataframe tbody tr th:only-of-type {\n",
       "        vertical-align: middle;\n",
       "    }\n",
       "\n",
       "    .dataframe tbody tr th {\n",
       "        vertical-align: top;\n",
       "    }\n",
       "\n",
       "    .dataframe thead th {\n",
       "        text-align: right;\n",
       "    }\n",
       "</style>\n",
       "<table border=\"1\" class=\"dataframe\">\n",
       "  <thead>\n",
       "    <tr style=\"text-align: right;\">\n",
       "      <th></th>\n",
       "      <th>count</th>\n",
       "    </tr>\n",
       "    <tr>\n",
       "      <th>occyp_type</th>\n",
       "      <th></th>\n",
       "    </tr>\n",
       "  </thead>\n",
       "  <tbody>\n",
       "    <tr>\n",
       "      <th>Laborers</th>\n",
       "      <td>1082</td>\n",
       "    </tr>\n",
       "    <tr>\n",
       "      <th>Sales staff</th>\n",
       "      <td>650</td>\n",
       "    </tr>\n",
       "    <tr>\n",
       "      <th>Core staff</th>\n",
       "      <td>622</td>\n",
       "    </tr>\n",
       "    <tr>\n",
       "      <th>Managers</th>\n",
       "      <td>458</td>\n",
       "    </tr>\n",
       "    <tr>\n",
       "      <th>Drivers</th>\n",
       "      <td>358</td>\n",
       "    </tr>\n",
       "    <tr>\n",
       "      <th>High skill tech staff</th>\n",
       "      <td>270</td>\n",
       "    </tr>\n",
       "    <tr>\n",
       "      <th>Accountants</th>\n",
       "      <td>227</td>\n",
       "    </tr>\n",
       "    <tr>\n",
       "      <th>Medicine staff</th>\n",
       "      <td>191</td>\n",
       "    </tr>\n",
       "  </tbody>\n",
       "</table>\n",
       "</div>"
      ],
      "text/plain": [
       "                       count\n",
       "occyp_type                  \n",
       "Laborers                1082\n",
       "Sales staff              650\n",
       "Core staff               622\n",
       "Managers                 458\n",
       "Drivers                  358\n",
       "High skill tech staff    270\n",
       "Accountants              227\n",
       "Medicine staff           191"
      ]
     },
     "execution_count": 71,
     "metadata": {},
     "output_type": "execute_result"
    }
   ],
   "source": [
    "one_occyp_type = train_1['occyp_type'].value_counts()\n",
    "one_occyp_type = pd.DataFrame(one_occyp_type)\n",
    "one_occyp_type.rename(columns = {'occyp_type' : 'count'}, inplace = True)\n",
    "one_occyp_type.index.name = 'occyp_type'\n",
    "one_occyp_type = one_occyp_type.drop(index='NA')\n",
    "one_occyp_type = one_occyp_type.head(8)\n",
    "one_occyp_type"
   ]
  },
  {
   "cell_type": "code",
   "execution_count": 72,
   "metadata": {
    "id": "SM3AUzNO0Qrj"
   },
   "outputs": [
    {
     "data": {
      "text/html": [
       "<div>\n",
       "<style scoped>\n",
       "    .dataframe tbody tr th:only-of-type {\n",
       "        vertical-align: middle;\n",
       "    }\n",
       "\n",
       "    .dataframe tbody tr th {\n",
       "        vertical-align: top;\n",
       "    }\n",
       "\n",
       "    .dataframe thead th {\n",
       "        text-align: right;\n",
       "    }\n",
       "</style>\n",
       "<table border=\"1\" class=\"dataframe\">\n",
       "  <thead>\n",
       "    <tr style=\"text-align: right;\">\n",
       "      <th></th>\n",
       "      <th>count</th>\n",
       "    </tr>\n",
       "    <tr>\n",
       "      <th>occyp_type</th>\n",
       "      <th></th>\n",
       "    </tr>\n",
       "  </thead>\n",
       "  <tbody>\n",
       "    <tr>\n",
       "      <th>Laborers</th>\n",
       "      <td>2844</td>\n",
       "    </tr>\n",
       "    <tr>\n",
       "      <th>Core staff</th>\n",
       "      <td>1677</td>\n",
       "    </tr>\n",
       "    <tr>\n",
       "      <th>Sales staff</th>\n",
       "      <td>1596</td>\n",
       "    </tr>\n",
       "    <tr>\n",
       "      <th>Managers</th>\n",
       "      <td>1429</td>\n",
       "    </tr>\n",
       "    <tr>\n",
       "      <th>Drivers</th>\n",
       "      <td>1027</td>\n",
       "    </tr>\n",
       "    <tr>\n",
       "      <th>High skill tech staff</th>\n",
       "      <td>647</td>\n",
       "    </tr>\n",
       "    <tr>\n",
       "      <th>Medicine staff</th>\n",
       "      <td>590</td>\n",
       "    </tr>\n",
       "    <tr>\n",
       "      <th>Accountants</th>\n",
       "      <td>557</td>\n",
       "    </tr>\n",
       "  </tbody>\n",
       "</table>\n",
       "</div>"
      ],
      "text/plain": [
       "                       count\n",
       "occyp_type                  \n",
       "Laborers                2844\n",
       "Core staff              1677\n",
       "Sales staff             1596\n",
       "Managers                1429\n",
       "Drivers                 1027\n",
       "High skill tech staff    647\n",
       "Medicine staff           590\n",
       "Accountants              557"
      ]
     },
     "execution_count": 72,
     "metadata": {},
     "output_type": "execute_result"
    }
   ],
   "source": [
    "two_occyp_type = train_2['occyp_type'].value_counts()\n",
    "two_occyp_type = pd.DataFrame(two_occyp_type)\n",
    "two_occyp_type.rename(columns = {'occyp_type' : 'count'}, inplace = True)\n",
    "two_occyp_type.index.name = 'occyp_type'\n",
    "two_occyp_type = two_occyp_type.drop(index='NA')\n",
    "two_occyp_type = two_occyp_type.head(8)            \n",
    "two_occyp_type "
   ]
  },
  {
   "cell_type": "code",
   "execution_count": 73,
   "metadata": {},
   "outputs": [
    {
     "data": {
      "text/plain": [
       "'C:\\\\Users\\\\shong\\\\Documents\\\\zeroonetwo.html'"
      ]
     },
     "execution_count": 73,
     "metadata": {},
     "output_type": "execute_result"
    }
   ],
   "source": [
    "zeroonetwo_tab = Tab()\n",
    "\n",
    "x_data = zero_occyp_type.index\n",
    "y_data = zero_occyp_type['count']\n",
    "data_pair = [list(z) for z in zip(x_data, y_data)]\n",
    "data_pair.sort(key=lambda x: x[1])\n",
    "pie1 = (Pie(init_opts=opts.InitOpts(theme=ThemeType.MACARONS))\n",
    "    .add(series_name=\" \",data_pair=data_pair,\n",
    "        rosetype=\"radius\",radius=\"65%\",center=[\"50%\", \"50%\"],label_opts=opts.LabelOpts(is_show=True, position=\"center\"),)\n",
    "    .set_global_opts(title_opts=opts.TitleOpts(title=\"0등급 직업유형\",pos_left=\"center\",pos_top=\"20\",title_textstyle_opts=opts.TextStyleOpts(color=\"gray\"),),\n",
    "        legend_opts=opts.LegendOpts(is_show=True, pos_bottom=\"0%\"),)\n",
    "    .set_series_opts(tooltip_opts=opts.TooltipOpts(trigger=\"item\", formatter=\"{a}{b}: {c} ({d}%)\"),label_opts=opts.LabelOpts(),))\n",
    "\n",
    "x_data = one_occyp_type.index\n",
    "y_data = one_occyp_type['count']\n",
    "data_pair = [list(z) for z in zip(x_data, y_data)]\n",
    "data_pair.sort(key=lambda x: x[1])\n",
    "pie2 = (Pie(init_opts=opts.InitOpts(theme=ThemeType.MACARONS))\n",
    "    .add(series_name=\" \",data_pair=data_pair,\n",
    "        rosetype=\"radius\",radius=\"65%\",center=[\"50%\", \"50%\"],label_opts=opts.LabelOpts(is_show=True, position=\"center\"),)\n",
    "    .set_global_opts(title_opts=opts.TitleOpts(title=\"1등급 직업유형\",pos_left=\"center\",pos_top=\"20\",title_textstyle_opts=opts.TextStyleOpts(color=\"gray\"),),\n",
    "        legend_opts=opts.LegendOpts(is_show=True, pos_bottom=\"0%\"),)\n",
    "    .set_series_opts(tooltip_opts=opts.TooltipOpts(trigger=\"item\", formatter=\"{a}{b}: {c} ({d}%)\"),label_opts=opts.LabelOpts(),))\n",
    "\n",
    "x_data = two_occyp_type.index\n",
    "y_data = two_occyp_type['count']\n",
    "data_pair = [list(z) for z in zip(x_data, y_data)]\n",
    "data_pair.sort(key=lambda x: x[1])\n",
    "pie3 = (Pie(init_opts=opts.InitOpts(theme=ThemeType.MACARONS))\n",
    "    .add(series_name=\" \",data_pair=data_pair,\n",
    "        rosetype=\"radius\",radius=\"65%\",center=[\"50%\", \"50%\"],label_opts=opts.LabelOpts(is_show=True, position=\"center\"),)\n",
    "    .set_global_opts(title_opts=opts.TitleOpts(title=\"2등급 직업유형\",pos_left=\"center\",pos_top=\"20\",title_textstyle_opts=opts.TextStyleOpts(color=\"gray\"),),\n",
    "        legend_opts=opts.LegendOpts(is_show=True, pos_bottom=\"0%\"),)\n",
    "    .set_series_opts(tooltip_opts=opts.TooltipOpts(trigger=\"item\", formatter=\"{a}{b}: {c} ({d}%)\"),label_opts=opts.LabelOpts(),))\n",
    "\n",
    "zeroonetwo_tab.add(pie1,'0등급 직업유형')\n",
    "zeroonetwo_tab.add(pie2,'1등급 직업유형')\n",
    "zeroonetwo_tab.add(pie3,'2등급 직업유형')\n",
    "zeroonetwo_tab.render('zeroonetwo.html')"
   ]
  },
  {
   "cell_type": "code",
   "execution_count": 74,
   "metadata": {},
   "outputs": [
    {
     "data": {
      "text/html": [
       "\n",
       "        <iframe\n",
       "            width=\"1000\"\n",
       "            height=\"600\"\n",
       "            src=\"./zeroonetwo.html\"\n",
       "            frameborder=\"0\"\n",
       "            allowfullscreen\n",
       "        ></iframe>\n",
       "        "
      ],
      "text/plain": [
       "<IPython.lib.display.IFrame at 0x297c61e2520>"
      ]
     },
     "execution_count": 74,
     "metadata": {},
     "output_type": "execute_result"
    }
   ],
   "source": [
    "from IPython.display import IFrame\n",
    "\n",
    "IFrame(src='./zeroonetwo.html', width=1000, height=600)"
   ]
  },
  {
   "cell_type": "code",
   "execution_count": 60,
   "metadata": {
    "scrolled": true
   },
   "outputs": [
    {
     "data": {
      "text/html": [
       "<div>\n",
       "<style scoped>\n",
       "    .dataframe tbody tr th:only-of-type {\n",
       "        vertical-align: middle;\n",
       "    }\n",
       "\n",
       "    .dataframe tbody tr th {\n",
       "        vertical-align: top;\n",
       "    }\n",
       "\n",
       "    .dataframe thead th {\n",
       "        text-align: right;\n",
       "    }\n",
       "</style>\n",
       "<table border=\"1\" class=\"dataframe\">\n",
       "  <thead>\n",
       "    <tr style=\"text-align: right;\">\n",
       "      <th></th>\n",
       "      <th>income_total</th>\n",
       "      <th>credit</th>\n",
       "    </tr>\n",
       "  </thead>\n",
       "  <tbody>\n",
       "    <tr>\n",
       "      <th>0</th>\n",
       "      <td>202500</td>\n",
       "      <td>1.0</td>\n",
       "    </tr>\n",
       "    <tr>\n",
       "      <th>1</th>\n",
       "      <td>247500</td>\n",
       "      <td>1.0</td>\n",
       "    </tr>\n",
       "    <tr>\n",
       "      <th>2</th>\n",
       "      <td>450000</td>\n",
       "      <td>2.0</td>\n",
       "    </tr>\n",
       "    <tr>\n",
       "      <th>3</th>\n",
       "      <td>202500</td>\n",
       "      <td>0.0</td>\n",
       "    </tr>\n",
       "    <tr>\n",
       "      <th>4</th>\n",
       "      <td>157500</td>\n",
       "      <td>2.0</td>\n",
       "    </tr>\n",
       "    <tr>\n",
       "      <th>...</th>\n",
       "      <td>...</td>\n",
       "      <td>...</td>\n",
       "    </tr>\n",
       "    <tr>\n",
       "      <th>26446</th>\n",
       "      <td>225000</td>\n",
       "      <td>1.0</td>\n",
       "    </tr>\n",
       "    <tr>\n",
       "      <th>26447</th>\n",
       "      <td>180000</td>\n",
       "      <td>2.0</td>\n",
       "    </tr>\n",
       "    <tr>\n",
       "      <th>26448</th>\n",
       "      <td>292500</td>\n",
       "      <td>2.0</td>\n",
       "    </tr>\n",
       "    <tr>\n",
       "      <th>26449</th>\n",
       "      <td>171000</td>\n",
       "      <td>2.0</td>\n",
       "    </tr>\n",
       "    <tr>\n",
       "      <th>26450</th>\n",
       "      <td>81000</td>\n",
       "      <td>2.0</td>\n",
       "    </tr>\n",
       "  </tbody>\n",
       "</table>\n",
       "<p>26451 rows × 2 columns</p>\n",
       "</div>"
      ],
      "text/plain": [
       "       income_total credit\n",
       "0            202500    1.0\n",
       "1            247500    1.0\n",
       "2            450000    2.0\n",
       "3            202500    0.0\n",
       "4            157500    2.0\n",
       "...             ...    ...\n",
       "26446        225000    1.0\n",
       "26447        180000    2.0\n",
       "26448        292500    2.0\n",
       "26449        171000    2.0\n",
       "26450         81000    2.0\n",
       "\n",
       "[26451 rows x 2 columns]"
      ]
     },
     "execution_count": 60,
     "metadata": {},
     "output_type": "execute_result"
    }
   ],
   "source": [
    "train_incomecredit = train[['income_total','credit']]\n",
    "train_incomecredit "
   ]
  },
  {
   "cell_type": "code",
   "execution_count": 61,
   "metadata": {},
   "outputs": [],
   "source": [
    "import copy"
   ]
  },
  {
   "cell_type": "code",
   "execution_count": 62,
   "metadata": {},
   "outputs": [],
   "source": [
    "train_ex = copy.copy(train)\n",
    "train_ex.loc[(train_ex.income_total <= 54000), 'income_total'] = 54000\n",
    "train_ex.loc[((train_ex.income_total <= 94000) & (train_ex.income_total > 54000)), 'income_total'] = 94000\n",
    "train_ex.loc[((train_ex.income_total <= 134000) & (train_ex.income_total > 94000)), 'income_total'] = 134000\n",
    "train_ex.loc[((train_ex.income_total <= 174000) & (train_ex.income_total > 134000)), 'income_total'] = 174000\n",
    "train_ex.loc[((train_ex.income_total <= 214000) & (train_ex.income_total > 174000)), 'income_total'] = 214000\n",
    "train_ex.loc[((train_ex.income_total <= 254000) & (train_ex.income_total > 214000)), 'income_total'] = 254000\n",
    "train_ex.loc[((train_ex.income_total <= 294000) & (train_ex.income_total > 254000)), 'income_total'] = 294000\n",
    "train_ex.loc[((train_ex.income_total <= 334000) & (train_ex.income_total > 294000)), 'income_total'] = 334000\n",
    "train_ex.loc[((train_ex.income_total <= 374000) & (train_ex.income_total > 334000)), 'income_total'] = 374000\n",
    "train_ex.loc[((train_ex.income_total <= 414000) & (train_ex.income_total > 374000)), 'income_total'] = 414000\n",
    "train_ex.loc[((train_ex.income_total <= 454000) & (train_ex.income_total > 414000)), 'income_total'] = 454000\n",
    "train_ex.loc[((train_ex.income_total <= 494000) & (train_ex.income_total > 454000)), 'income_total'] = 494000\n",
    "train_ex.loc[((train_ex.income_total <= 534000) & (train_ex.income_total > 494000)), 'income_total'] = 534000\n",
    "train_ex.loc[((train_ex.income_total <= 574000) & (train_ex.income_total > 534000)), 'income_total'] = 574000\n",
    "train_ex.loc[(train_ex.income_total > 574000), 'income_total'] = 61400"
   ]
  },
  {
   "cell_type": "code",
   "execution_count": 63,
   "metadata": {},
   "outputs": [],
   "source": [
    "train_0 = train_ex[train_ex['credit'] == '0.0']\n",
    "train_1 = train_ex[train_ex['credit'] == '1.0']\n",
    "train_2 = train_ex[train_ex['credit'] == '2.0']"
   ]
  },
  {
   "cell_type": "code",
   "execution_count": 64,
   "metadata": {},
   "outputs": [
    {
     "data": {
      "text/html": [
       "<div>\n",
       "<style scoped>\n",
       "    .dataframe tbody tr th:only-of-type {\n",
       "        vertical-align: middle;\n",
       "    }\n",
       "\n",
       "    .dataframe tbody tr th {\n",
       "        vertical-align: top;\n",
       "    }\n",
       "\n",
       "    .dataframe thead th {\n",
       "        text-align: right;\n",
       "    }\n",
       "</style>\n",
       "<table border=\"1\" class=\"dataframe\">\n",
       "  <thead>\n",
       "    <tr style=\"text-align: right;\">\n",
       "      <th></th>\n",
       "      <th>credit</th>\n",
       "      <th>income_total</th>\n",
       "      <th>count</th>\n",
       "    </tr>\n",
       "  </thead>\n",
       "  <tbody>\n",
       "    <tr>\n",
       "      <th>0</th>\n",
       "      <td>0.0</td>\n",
       "      <td>54000</td>\n",
       "      <td>50</td>\n",
       "    </tr>\n",
       "    <tr>\n",
       "      <th>1</th>\n",
       "      <td>0.0</td>\n",
       "      <td>61400</td>\n",
       "      <td>30</td>\n",
       "    </tr>\n",
       "    <tr>\n",
       "      <th>2</th>\n",
       "      <td>0.0</td>\n",
       "      <td>94000</td>\n",
       "      <td>322</td>\n",
       "    </tr>\n",
       "    <tr>\n",
       "      <th>3</th>\n",
       "      <td>0.0</td>\n",
       "      <td>134000</td>\n",
       "      <td>465</td>\n",
       "    </tr>\n",
       "    <tr>\n",
       "      <th>4</th>\n",
       "      <td>0.0</td>\n",
       "      <td>174000</td>\n",
       "      <td>819</td>\n",
       "    </tr>\n",
       "    <tr>\n",
       "      <th>5</th>\n",
       "      <td>0.0</td>\n",
       "      <td>214000</td>\n",
       "      <td>574</td>\n",
       "    </tr>\n",
       "    <tr>\n",
       "      <th>6</th>\n",
       "      <td>0.0</td>\n",
       "      <td>254000</td>\n",
       "      <td>332</td>\n",
       "    </tr>\n",
       "    <tr>\n",
       "      <th>7</th>\n",
       "      <td>0.0</td>\n",
       "      <td>294000</td>\n",
       "      <td>284</td>\n",
       "    </tr>\n",
       "    <tr>\n",
       "      <th>8</th>\n",
       "      <td>0.0</td>\n",
       "      <td>334000</td>\n",
       "      <td>136</td>\n",
       "    </tr>\n",
       "    <tr>\n",
       "      <th>9</th>\n",
       "      <td>0.0</td>\n",
       "      <td>374000</td>\n",
       "      <td>78</td>\n",
       "    </tr>\n",
       "    <tr>\n",
       "      <th>10</th>\n",
       "      <td>0.0</td>\n",
       "      <td>414000</td>\n",
       "      <td>68</td>\n",
       "    </tr>\n",
       "    <tr>\n",
       "      <th>11</th>\n",
       "      <td>0.0</td>\n",
       "      <td>454000</td>\n",
       "      <td>38</td>\n",
       "    </tr>\n",
       "    <tr>\n",
       "      <th>12</th>\n",
       "      <td>0.0</td>\n",
       "      <td>494000</td>\n",
       "      <td>2</td>\n",
       "    </tr>\n",
       "    <tr>\n",
       "      <th>13</th>\n",
       "      <td>0.0</td>\n",
       "      <td>534000</td>\n",
       "      <td>5</td>\n",
       "    </tr>\n",
       "    <tr>\n",
       "      <th>14</th>\n",
       "      <td>0.0</td>\n",
       "      <td>574000</td>\n",
       "      <td>19</td>\n",
       "    </tr>\n",
       "  </tbody>\n",
       "</table>\n",
       "</div>"
      ],
      "text/plain": [
       "   credit  income_total  count\n",
       "0     0.0         54000     50\n",
       "1     0.0         61400     30\n",
       "2     0.0         94000    322\n",
       "3     0.0        134000    465\n",
       "4     0.0        174000    819\n",
       "5     0.0        214000    574\n",
       "6     0.0        254000    332\n",
       "7     0.0        294000    284\n",
       "8     0.0        334000    136\n",
       "9     0.0        374000     78\n",
       "10    0.0        414000     68\n",
       "11    0.0        454000     38\n",
       "12    0.0        494000      2\n",
       "13    0.0        534000      5\n",
       "14    0.0        574000     19"
      ]
     },
     "execution_count": 64,
     "metadata": {},
     "output_type": "execute_result"
    }
   ],
   "source": [
    "train_incomecredit0 = train_0.groupby(['credit','income_total']).apply(func)\n",
    "train_incomecredit0 = train_incomecredit0.sort_values(by=['income_total'], axis=0)\n",
    "train_incomecredit0 = train_incomecredit0.reset_index()\n",
    "train_incomecredit0"
   ]
  },
  {
   "cell_type": "code",
   "execution_count": 65,
   "metadata": {},
   "outputs": [
    {
     "data": {
      "text/html": [
       "<div>\n",
       "<style scoped>\n",
       "    .dataframe tbody tr th:only-of-type {\n",
       "        vertical-align: middle;\n",
       "    }\n",
       "\n",
       "    .dataframe tbody tr th {\n",
       "        vertical-align: top;\n",
       "    }\n",
       "\n",
       "    .dataframe thead th {\n",
       "        text-align: right;\n",
       "    }\n",
       "</style>\n",
       "<table border=\"1\" class=\"dataframe\">\n",
       "  <thead>\n",
       "    <tr style=\"text-align: right;\">\n",
       "      <th></th>\n",
       "      <th>credit</th>\n",
       "      <th>income_total</th>\n",
       "      <th>count</th>\n",
       "    </tr>\n",
       "  </thead>\n",
       "  <tbody>\n",
       "    <tr>\n",
       "      <th>0</th>\n",
       "      <td>1.0</td>\n",
       "      <td>54000</td>\n",
       "      <td>78</td>\n",
       "    </tr>\n",
       "    <tr>\n",
       "      <th>1</th>\n",
       "      <td>1.0</td>\n",
       "      <td>61400</td>\n",
       "      <td>35</td>\n",
       "    </tr>\n",
       "    <tr>\n",
       "      <th>2</th>\n",
       "      <td>1.0</td>\n",
       "      <td>94000</td>\n",
       "      <td>710</td>\n",
       "    </tr>\n",
       "    <tr>\n",
       "      <th>3</th>\n",
       "      <td>1.0</td>\n",
       "      <td>134000</td>\n",
       "      <td>1007</td>\n",
       "    </tr>\n",
       "    <tr>\n",
       "      <th>4</th>\n",
       "      <td>1.0</td>\n",
       "      <td>174000</td>\n",
       "      <td>1644</td>\n",
       "    </tr>\n",
       "    <tr>\n",
       "      <th>5</th>\n",
       "      <td>1.0</td>\n",
       "      <td>214000</td>\n",
       "      <td>1023</td>\n",
       "    </tr>\n",
       "    <tr>\n",
       "      <th>6</th>\n",
       "      <td>1.0</td>\n",
       "      <td>254000</td>\n",
       "      <td>794</td>\n",
       "    </tr>\n",
       "    <tr>\n",
       "      <th>7</th>\n",
       "      <td>1.0</td>\n",
       "      <td>294000</td>\n",
       "      <td>408</td>\n",
       "    </tr>\n",
       "    <tr>\n",
       "      <th>8</th>\n",
       "      <td>1.0</td>\n",
       "      <td>334000</td>\n",
       "      <td>222</td>\n",
       "    </tr>\n",
       "    <tr>\n",
       "      <th>9</th>\n",
       "      <td>1.0</td>\n",
       "      <td>374000</td>\n",
       "      <td>161</td>\n",
       "    </tr>\n",
       "    <tr>\n",
       "      <th>10</th>\n",
       "      <td>1.0</td>\n",
       "      <td>414000</td>\n",
       "      <td>79</td>\n",
       "    </tr>\n",
       "    <tr>\n",
       "      <th>11</th>\n",
       "      <td>1.0</td>\n",
       "      <td>454000</td>\n",
       "      <td>73</td>\n",
       "    </tr>\n",
       "    <tr>\n",
       "      <th>12</th>\n",
       "      <td>1.0</td>\n",
       "      <td>494000</td>\n",
       "      <td>6</td>\n",
       "    </tr>\n",
       "    <tr>\n",
       "      <th>13</th>\n",
       "      <td>1.0</td>\n",
       "      <td>534000</td>\n",
       "      <td>10</td>\n",
       "    </tr>\n",
       "    <tr>\n",
       "      <th>14</th>\n",
       "      <td>1.0</td>\n",
       "      <td>574000</td>\n",
       "      <td>17</td>\n",
       "    </tr>\n",
       "  </tbody>\n",
       "</table>\n",
       "</div>"
      ],
      "text/plain": [
       "   credit  income_total  count\n",
       "0     1.0         54000     78\n",
       "1     1.0         61400     35\n",
       "2     1.0         94000    710\n",
       "3     1.0        134000   1007\n",
       "4     1.0        174000   1644\n",
       "5     1.0        214000   1023\n",
       "6     1.0        254000    794\n",
       "7     1.0        294000    408\n",
       "8     1.0        334000    222\n",
       "9     1.0        374000    161\n",
       "10    1.0        414000     79\n",
       "11    1.0        454000     73\n",
       "12    1.0        494000      6\n",
       "13    1.0        534000     10\n",
       "14    1.0        574000     17"
      ]
     },
     "execution_count": 65,
     "metadata": {},
     "output_type": "execute_result"
    }
   ],
   "source": [
    "train_incomecredit1 = train_1.groupby(['credit','income_total']).apply(func)\n",
    "train_incomecredit1 = train_incomecredit1.sort_values(by=['income_total'], axis=0)\n",
    "train_incomecredit1 = train_incomecredit1.reset_index()\n",
    "train_incomecredit1"
   ]
  },
  {
   "cell_type": "code",
   "execution_count": 66,
   "metadata": {},
   "outputs": [
    {
     "data": {
      "text/html": [
       "<div>\n",
       "<style scoped>\n",
       "    .dataframe tbody tr th:only-of-type {\n",
       "        vertical-align: middle;\n",
       "    }\n",
       "\n",
       "    .dataframe tbody tr th {\n",
       "        vertical-align: top;\n",
       "    }\n",
       "\n",
       "    .dataframe thead th {\n",
       "        text-align: right;\n",
       "    }\n",
       "</style>\n",
       "<table border=\"1\" class=\"dataframe\">\n",
       "  <thead>\n",
       "    <tr style=\"text-align: right;\">\n",
       "      <th></th>\n",
       "      <th>credit</th>\n",
       "      <th>income_total</th>\n",
       "      <th>count</th>\n",
       "    </tr>\n",
       "  </thead>\n",
       "  <tbody>\n",
       "    <tr>\n",
       "      <th>0</th>\n",
       "      <td>2.0</td>\n",
       "      <td>54000</td>\n",
       "      <td>206</td>\n",
       "    </tr>\n",
       "    <tr>\n",
       "      <th>1</th>\n",
       "      <td>2.0</td>\n",
       "      <td>61400</td>\n",
       "      <td>172</td>\n",
       "    </tr>\n",
       "    <tr>\n",
       "      <th>2</th>\n",
       "      <td>2.0</td>\n",
       "      <td>94000</td>\n",
       "      <td>1849</td>\n",
       "    </tr>\n",
       "    <tr>\n",
       "      <th>3</th>\n",
       "      <td>2.0</td>\n",
       "      <td>134000</td>\n",
       "      <td>2619</td>\n",
       "    </tr>\n",
       "    <tr>\n",
       "      <th>4</th>\n",
       "      <td>2.0</td>\n",
       "      <td>174000</td>\n",
       "      <td>4128</td>\n",
       "    </tr>\n",
       "    <tr>\n",
       "      <th>5</th>\n",
       "      <td>2.0</td>\n",
       "      <td>214000</td>\n",
       "      <td>2857</td>\n",
       "    </tr>\n",
       "    <tr>\n",
       "      <th>6</th>\n",
       "      <td>2.0</td>\n",
       "      <td>254000</td>\n",
       "      <td>2209</td>\n",
       "    </tr>\n",
       "    <tr>\n",
       "      <th>7</th>\n",
       "      <td>2.0</td>\n",
       "      <td>294000</td>\n",
       "      <td>1209</td>\n",
       "    </tr>\n",
       "    <tr>\n",
       "      <th>8</th>\n",
       "      <td>2.0</td>\n",
       "      <td>334000</td>\n",
       "      <td>591</td>\n",
       "    </tr>\n",
       "    <tr>\n",
       "      <th>9</th>\n",
       "      <td>2.0</td>\n",
       "      <td>374000</td>\n",
       "      <td>537</td>\n",
       "    </tr>\n",
       "    <tr>\n",
       "      <th>10</th>\n",
       "      <td>2.0</td>\n",
       "      <td>414000</td>\n",
       "      <td>229</td>\n",
       "    </tr>\n",
       "    <tr>\n",
       "      <th>11</th>\n",
       "      <td>2.0</td>\n",
       "      <td>454000</td>\n",
       "      <td>245</td>\n",
       "    </tr>\n",
       "    <tr>\n",
       "      <th>12</th>\n",
       "      <td>2.0</td>\n",
       "      <td>494000</td>\n",
       "      <td>14</td>\n",
       "    </tr>\n",
       "    <tr>\n",
       "      <th>13</th>\n",
       "      <td>2.0</td>\n",
       "      <td>534000</td>\n",
       "      <td>28</td>\n",
       "    </tr>\n",
       "    <tr>\n",
       "      <th>14</th>\n",
       "      <td>2.0</td>\n",
       "      <td>574000</td>\n",
       "      <td>69</td>\n",
       "    </tr>\n",
       "  </tbody>\n",
       "</table>\n",
       "</div>"
      ],
      "text/plain": [
       "   credit  income_total  count\n",
       "0     2.0         54000    206\n",
       "1     2.0         61400    172\n",
       "2     2.0         94000   1849\n",
       "3     2.0        134000   2619\n",
       "4     2.0        174000   4128\n",
       "5     2.0        214000   2857\n",
       "6     2.0        254000   2209\n",
       "7     2.0        294000   1209\n",
       "8     2.0        334000    591\n",
       "9     2.0        374000    537\n",
       "10    2.0        414000    229\n",
       "11    2.0        454000    245\n",
       "12    2.0        494000     14\n",
       "13    2.0        534000     28\n",
       "14    2.0        574000     69"
      ]
     },
     "execution_count": 66,
     "metadata": {},
     "output_type": "execute_result"
    }
   ],
   "source": [
    "train_incomecredit2 = train_2.groupby(['credit','income_total']).apply(func)\n",
    "train_incomecredit2 = train_incomecredit2.sort_values(by=['income_total'], axis=0)\n",
    "train_incomecredit2 = train_incomecredit2.reset_index()\n",
    "train_incomecredit2"
   ]
  },
  {
   "cell_type": "code",
   "execution_count": 75,
   "metadata": {},
   "outputs": [
    {
     "data": {
      "text/plain": [
       "'C:\\\\Users\\\\shong\\\\Documents\\\\bar3.html'"
      ]
     },
     "execution_count": 75,
     "metadata": {},
     "output_type": "execute_result"
    }
   ],
   "source": [
    "bar3_tab = Tab()\n",
    "\n",
    "index = train_incomecredit0.income_total.tolist()\n",
    "bar0= (Bar(\n",
    "        init_opts=opts.InitOpts(theme=ThemeType.LIGHT))\n",
    "       .add_xaxis(index)\n",
    "       .add_yaxis('', train_incomecredit0['count'].tolist()))\n",
    "bar0.add_xaxis(index).set_global_opts(title_opts=opts.TitleOpts(title=\"0등급 소득 구간 분포\"),\n",
    "                         xaxis_opts=opts.AxisOpts(axislabel_opts=opts.LabelOpts(rotate=0)),\n",
    "                                tooltip_opts=opts.TooltipOpts(trigger=\"axis\", axis_pointer_type=\"cross\"),\n",
    "                 legend_opts=opts.LegendOpts(pos_top='3%',legend_icon='pin')\n",
    "                          ).set_series_opts(label_opts=opts.LabelOpts(is_show=True))\n",
    "\n",
    "index1 = train_incomecredit1.income_total.tolist()\n",
    "bar1= (Bar(\n",
    "        init_opts=opts.InitOpts(theme=ThemeType.LIGHT))\n",
    "       .add_xaxis(index1)\n",
    "       .add_yaxis('', train_incomecredit1['count'].tolist()))\n",
    "bar1.add_xaxis(index).set_global_opts(title_opts=opts.TitleOpts(title=\"1등급 소득 구간 분포\"),\n",
    "                         xaxis_opts=opts.AxisOpts(axislabel_opts=opts.LabelOpts(rotate=0)),\n",
    "                                tooltip_opts=opts.TooltipOpts(trigger=\"axis\", axis_pointer_type=\"cross\"),\n",
    "                 legend_opts=opts.LegendOpts(pos_top='3%',legend_icon='pin')\n",
    "                          ).set_series_opts(label_opts=opts.LabelOpts(is_show=True))\n",
    "\n",
    "index2 = train_incomecredit2.income_total.tolist()\n",
    "bar2= (Bar(\n",
    "        init_opts=opts.InitOpts(theme=ThemeType.LIGHT))\n",
    "       .add_xaxis(index2)\n",
    "       .add_yaxis('', train_incomecredit2['count'].tolist()))\n",
    "bar2.add_xaxis(index).set_global_opts(title_opts=opts.TitleOpts(title=\"2등급 소득 구간 분포\"),\n",
    "                         xaxis_opts=opts.AxisOpts(axislabel_opts=opts.LabelOpts(rotate=0)),\n",
    "                                tooltip_opts=opts.TooltipOpts(trigger=\"axis\", axis_pointer_type=\"cross\"),\n",
    "                 legend_opts=opts.LegendOpts(pos_top='3%',legend_icon='pin')\n",
    "                          ).set_series_opts(label_opts=opts.LabelOpts(is_show=True))\n",
    "\n",
    "bar3_tab.add(bar0,'0등급')\n",
    "bar3_tab.add(bar1,'1등급')\n",
    "bar3_tab.add(bar2,'2등급')\n",
    "\n",
    "bar3_tab.render('bar3.html')"
   ]
  },
  {
   "cell_type": "code",
   "execution_count": 76,
   "metadata": {},
   "outputs": [
    {
     "data": {
      "text/html": [
       "\n",
       "        <iframe\n",
       "            width=\"1000\"\n",
       "            height=\"550\"\n",
       "            src=\"./bar3.html\"\n",
       "            frameborder=\"0\"\n",
       "            allowfullscreen\n",
       "        ></iframe>\n",
       "        "
      ],
      "text/plain": [
       "<IPython.lib.display.IFrame at 0x297d44fb0d0>"
      ]
     },
     "execution_count": 76,
     "metadata": {},
     "output_type": "execute_result"
    }
   ],
   "source": [
    "from IPython.display import IFrame\n",
    "\n",
    "IFrame(src='./bar3.html', width=1000, height=550)"
   ]
  },
  {
   "cell_type": "code",
   "execution_count": null,
   "metadata": {},
   "outputs": [],
   "source": []
  }
 ],
 "metadata": {
  "colab": {
   "collapsed_sections": [
    "4sgOmbMQObfZ"
   ],
   "name": "신용카드_occyp_typeNA.ipynb",
   "provenance": []
  },
  "kernelspec": {
   "display_name": "Python 3",
   "language": "python",
   "name": "python3"
  },
  "language_info": {
   "codemirror_mode": {
    "name": "ipython",
    "version": 3
   },
   "file_extension": ".py",
   "mimetype": "text/x-python",
   "name": "python",
   "nbconvert_exporter": "python",
   "pygments_lexer": "ipython3",
   "version": "3.8.5"
  }
 },
 "nbformat": 4,
 "nbformat_minor": 1
}
