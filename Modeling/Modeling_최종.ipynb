{
 "cells": [
  {
   "cell_type": "markdown",
   "metadata": {},
   "source": [
    "# Modeling\n",
    "\n",
    "- YBIGTA DA 18기 남종현"
   ]
  },
  {
   "cell_type": "code",
   "execution_count": 1,
   "metadata": {},
   "outputs": [],
   "source": [
    "import numpy as np\n",
    "import pandas as pd\n",
    "import matplotlib.pyplot as plt\n",
    "from matplotlib.ticker import MaxNLocator\n",
    "import seaborn as sns\n",
    "from collections import Counter\n",
    "plt.style.use('fivethirtyeight')\n",
    "import warnings\n",
    "warnings.filterwarnings('ignore')\n",
    "\n",
    "pd.set_option('max_columns', 99)"
   ]
  },
  {
   "cell_type": "code",
   "execution_count": 2,
   "metadata": {},
   "outputs": [],
   "source": [
    "from catboost import CatBoostClassifier\n",
    "from sklearn.model_selection import train_test_split, StratifiedKFold\n",
    "from sklearn.metrics import accuracy_score, confusion_matrix, log_loss\n",
    "from tensorflow.keras.utils import to_categorical\n",
    "import random"
   ]
  },
  {
   "cell_type": "code",
   "execution_count": 3,
   "metadata": {},
   "outputs": [],
   "source": [
    "from lightgbm import LGBMClassifier, plot_importance\n",
    "from xgboost import XGBClassifier, plot_importance"
   ]
  },
  {
   "cell_type": "code",
   "execution_count": 4,
   "metadata": {},
   "outputs": [],
   "source": [
    "# 변수 중요도 함수\n",
    "\n",
    "def plot_feature_importance(importance,names,model_type):\n",
    "    \n",
    "    feature_importance = np.array(importance)\n",
    "    feature_names = np.array(names)\n",
    "    \n",
    "    data={'feature_names':feature_names,'feature_importance':feature_importance}\n",
    "    fi_df = pd.DataFrame(data)\n",
    "    \n",
    "    fi_df.sort_values(by=['feature_importance'], ascending=False,inplace=True)\n",
    "\n",
    "    plt.figure(figsize=(10,8))\n",
    "\n",
    "    sns.barplot(x=fi_df['feature_importance'], y=fi_df['feature_names'])\n",
    "\n",
    "    plt.title(model_type + ' Feature Importance')\n",
    "    plt.xlabel('Feature Importance')\n",
    "    plt.ylabel('Feature Names')"
   ]
  },
  {
   "cell_type": "markdown",
   "metadata": {},
   "source": [
    "- ref) https://stackoverflow.com/questions/64988694/how-can-i-get-the-feature-importance-of-a-catboost-in-a-pandas-dataframe"
   ]
  },
  {
   "cell_type": "code",
   "execution_count": 33,
   "metadata": {},
   "outputs": [],
   "source": [
    "train = pd.read_csv('train.csv')\n",
    "test = pd.read_csv('test.csv')"
   ]
  },
  {
   "cell_type": "code",
   "execution_count": 34,
   "metadata": {},
   "outputs": [],
   "source": [
    "train = train.drop([\"index\"], axis=1)"
   ]
  },
  {
   "cell_type": "markdown",
   "metadata": {},
   "source": [
    "## Drop / NA imputation\n",
    "\n",
    "- Catboost model로 두 가지 방법 시행\n",
    "- NA imputation 방법에서 조금 더 좋은 성능을 보임\n",
    "- 5-fold 사용, logloss 값: Drop(0.7579), NA(0.7476)"
   ]
  },
  {
   "cell_type": "markdown",
   "metadata": {},
   "source": [
    "### 1) Drop"
   ]
  },
  {
   "cell_type": "code",
   "execution_count": 4,
   "metadata": {},
   "outputs": [],
   "source": [
    "train_d = train.copy()"
   ]
  },
  {
   "cell_type": "code",
   "execution_count": 5,
   "metadata": {},
   "outputs": [],
   "source": [
    "train_d = train_d.drop(['occyp_type'], axis=1)\n",
    "#occyp_type은 예측하기 불가능 / categorical data이므로 avg값을 넣을 수도 x -> 그냥 제거^ㅡ^"
   ]
  },
  {
   "cell_type": "code",
   "execution_count": 6,
   "metadata": {},
   "outputs": [],
   "source": [
    "#gender, car, reality는 binary(object)\n",
    "train_d['gender'] = train_d['gender'].apply(lambda x: 1 if x=='M' else 0) # Male=1, Female=0\n",
    "train_d['car'] = train_d['car'].apply(lambda x: 1 if x=='Y' else 0) # Yes=1, No=0\n",
    "train_d['reality'] = train_d['reality'].apply(lambda x: 1 if x=='Y' else 0) # Yes=1, No=0"
   ]
  },
  {
   "cell_type": "code",
   "execution_count": 7,
   "metadata": {},
   "outputs": [],
   "source": [
    "#음수값을 양수값으로 \n",
    "train_d['DAYS_BIRTH'] = train_d['DAYS_BIRTH'].apply(lambda x: -x)\n",
    "train_d['DAYS_EMPLOYED'] = train_d['DAYS_EMPLOYED'].apply(lambda x: -x)\n",
    "train_d['begin_month'] = train_d['begin_month'].apply(lambda x: -x)"
   ]
  },
  {
   "cell_type": "code",
   "execution_count": 8,
   "metadata": {},
   "outputs": [],
   "source": [
    "#DAYS_BIRTH로 나이 변수 만들어주기\n",
    "train_d['Age'] = abs(train_d['DAYS_BIRTH'])/360\n",
    "train_d = train_d.astype({'Age': 'int'})\n",
    "train_d = train_d.drop('DAYS_BIRTH', axis=1)"
   ]
  },
  {
   "cell_type": "code",
   "execution_count": 9,
   "metadata": {},
   "outputs": [],
   "source": [
    "#라벨인코딩\n",
    "from sklearn import preprocessing\n",
    "enc = preprocessing.LabelEncoder()\n",
    "\n",
    "train_d['income_type'] = enc.fit_transform(train_d['income_type'])\n",
    "train_d['edu_type'] = enc.fit_transform(train_d['edu_type'])\n",
    "train_d['family_type'] = enc.fit_transform(train_d['family_type'])\n",
    "train_d['house_type'] = enc.fit_transform(train_d['house_type'])"
   ]
  },
  {
   "cell_type": "code",
   "execution_count": 10,
   "metadata": {},
   "outputs": [],
   "source": [
    "train_d = train_d.drop(['child_num'], axis=1)"
   ]
  },
  {
   "cell_type": "code",
   "execution_count": 11,
   "metadata": {},
   "outputs": [],
   "source": [
    "#정규화 해보자\n",
    "import numpy as np\n",
    "\n",
    "reg = ['income_total', 'DAYS_EMPLOYED', 'family_size']\n",
    "for i in reg :\n",
    "    train_d[i] = (train_d[i] - min(train_d[i])) / (max(train_d[i]) - min(train_d[i]))"
   ]
  },
  {
   "cell_type": "code",
   "execution_count": 12,
   "metadata": {},
   "outputs": [],
   "source": [
    "train_d = train_d.drop(['FLAG_MOBIL'], axis=1)"
   ]
  },
  {
   "cell_type": "code",
   "execution_count": 19,
   "metadata": {},
   "outputs": [],
   "source": [
    "train_d['credit'] = train_d['credit'].astype('int')"
   ]
  },
  {
   "cell_type": "code",
   "execution_count": 20,
   "metadata": {},
   "outputs": [
    {
     "data": {
      "text/html": [
       "<div>\n",
       "<style scoped>\n",
       "    .dataframe tbody tr th:only-of-type {\n",
       "        vertical-align: middle;\n",
       "    }\n",
       "\n",
       "    .dataframe tbody tr th {\n",
       "        vertical-align: top;\n",
       "    }\n",
       "\n",
       "    .dataframe thead th {\n",
       "        text-align: right;\n",
       "    }\n",
       "</style>\n",
       "<table border=\"1\" class=\"dataframe\">\n",
       "  <thead>\n",
       "    <tr style=\"text-align: right;\">\n",
       "      <th></th>\n",
       "      <th>gender</th>\n",
       "      <th>car</th>\n",
       "      <th>reality</th>\n",
       "      <th>income_total</th>\n",
       "      <th>income_type</th>\n",
       "      <th>edu_type</th>\n",
       "      <th>family_type</th>\n",
       "      <th>house_type</th>\n",
       "      <th>DAYS_EMPLOYED</th>\n",
       "      <th>work_phone</th>\n",
       "      <th>phone</th>\n",
       "      <th>email</th>\n",
       "      <th>family_size</th>\n",
       "      <th>begin_month</th>\n",
       "      <th>credit</th>\n",
       "      <th>Age</th>\n",
       "    </tr>\n",
       "  </thead>\n",
       "  <tbody>\n",
       "    <tr>\n",
       "      <th>0</th>\n",
       "      <td>0</td>\n",
       "      <td>0</td>\n",
       "      <td>0</td>\n",
       "      <td>0.113372</td>\n",
       "      <td>0</td>\n",
       "      <td>1</td>\n",
       "      <td>1</td>\n",
       "      <td>2</td>\n",
       "      <td>0.971115</td>\n",
       "      <td>0</td>\n",
       "      <td>0</td>\n",
       "      <td>0</td>\n",
       "      <td>0.052632</td>\n",
       "      <td>6.0</td>\n",
       "      <td>1</td>\n",
       "      <td>38</td>\n",
       "    </tr>\n",
       "    <tr>\n",
       "      <th>1</th>\n",
       "      <td>0</td>\n",
       "      <td>0</td>\n",
       "      <td>1</td>\n",
       "      <td>0.142442</td>\n",
       "      <td>0</td>\n",
       "      <td>4</td>\n",
       "      <td>0</td>\n",
       "      <td>1</td>\n",
       "      <td>0.962796</td>\n",
       "      <td>0</td>\n",
       "      <td>0</td>\n",
       "      <td>1</td>\n",
       "      <td>0.105263</td>\n",
       "      <td>5.0</td>\n",
       "      <td>1</td>\n",
       "      <td>31</td>\n",
       "    </tr>\n",
       "    <tr>\n",
       "      <th>2</th>\n",
       "      <td>1</td>\n",
       "      <td>1</td>\n",
       "      <td>1</td>\n",
       "      <td>0.273256</td>\n",
       "      <td>4</td>\n",
       "      <td>1</td>\n",
       "      <td>1</td>\n",
       "      <td>1</td>\n",
       "      <td>0.970393</td>\n",
       "      <td>0</td>\n",
       "      <td>1</td>\n",
       "      <td>0</td>\n",
       "      <td>0.052632</td>\n",
       "      <td>22.0</td>\n",
       "      <td>2</td>\n",
       "      <td>53</td>\n",
       "    </tr>\n",
       "    <tr>\n",
       "      <th>3</th>\n",
       "      <td>0</td>\n",
       "      <td>0</td>\n",
       "      <td>1</td>\n",
       "      <td>0.113372</td>\n",
       "      <td>0</td>\n",
       "      <td>4</td>\n",
       "      <td>1</td>\n",
       "      <td>1</td>\n",
       "      <td>0.964245</td>\n",
       "      <td>0</td>\n",
       "      <td>1</td>\n",
       "      <td>0</td>\n",
       "      <td>0.052632</td>\n",
       "      <td>37.0</td>\n",
       "      <td>0</td>\n",
       "      <td>41</td>\n",
       "    </tr>\n",
       "    <tr>\n",
       "      <th>4</th>\n",
       "      <td>0</td>\n",
       "      <td>1</td>\n",
       "      <td>1</td>\n",
       "      <td>0.084302</td>\n",
       "      <td>2</td>\n",
       "      <td>1</td>\n",
       "      <td>1</td>\n",
       "      <td>1</td>\n",
       "      <td>0.964279</td>\n",
       "      <td>0</td>\n",
       "      <td>0</td>\n",
       "      <td>0</td>\n",
       "      <td>0.052632</td>\n",
       "      <td>26.0</td>\n",
       "      <td>2</td>\n",
       "      <td>41</td>\n",
       "    </tr>\n",
       "  </tbody>\n",
       "</table>\n",
       "</div>"
      ],
      "text/plain": [
       "   gender  car  reality  income_total  income_type  edu_type  family_type  \\\n",
       "0       0    0        0      0.113372            0         1            1   \n",
       "1       0    0        1      0.142442            0         4            0   \n",
       "2       1    1        1      0.273256            4         1            1   \n",
       "3       0    0        1      0.113372            0         4            1   \n",
       "4       0    1        1      0.084302            2         1            1   \n",
       "\n",
       "   house_type  DAYS_EMPLOYED  work_phone  phone  email  family_size  \\\n",
       "0           2       0.971115           0      0      0     0.052632   \n",
       "1           1       0.962796           0      0      1     0.105263   \n",
       "2           1       0.970393           0      1      0     0.052632   \n",
       "3           1       0.964245           0      1      0     0.052632   \n",
       "4           1       0.964279           0      0      0     0.052632   \n",
       "\n",
       "   begin_month  credit  Age  \n",
       "0          6.0       1   38  \n",
       "1          5.0       1   31  \n",
       "2         22.0       2   53  \n",
       "3         37.0       0   41  \n",
       "4         26.0       2   41  "
      ]
     },
     "execution_count": 20,
     "metadata": {},
     "output_type": "execute_result"
    }
   ],
   "source": [
    "train_d.head()"
   ]
  },
  {
   "cell_type": "markdown",
   "metadata": {},
   "source": [
    "- training"
   ]
  },
  {
   "cell_type": "code",
   "execution_count": 21,
   "metadata": {},
   "outputs": [],
   "source": [
    "x_traind1 = train_d.drop('credit', axis=1)\n",
    "y_traind1 = train_d['credit']"
   ]
  },
  {
   "cell_type": "code",
   "execution_count": 22,
   "metadata": {},
   "outputs": [],
   "source": [
    "skf = StratifiedKFold(n_splits=5, shuffle=True, random_state=42)\n",
    "folds = []\n",
    "for train_idx, valid_idx in skf.split(x_traind1, y_traind1):\n",
    "    folds.append((train_idx, valid_idx))"
   ]
  },
  {
   "cell_type": "code",
   "execution_count": 23,
   "metadata": {
    "scrolled": true
   },
   "outputs": [
    {
     "name": "stdout",
     "output_type": "stream",
     "text": [
      "====================================1============================================\n",
      "Learning rate set to 0.114773\n",
      "0:\tlearn: 1.0355520\ttest: 1.0355520\ttest1: 1.0353500\tbest: 1.0353500 (0)\ttotal: 210ms\tremaining: 3m 29s\n",
      "100:\tlearn: 0.7662513\ttest: 0.7662513\ttest1: 0.7882779\tbest: 0.7882779 (100)\ttotal: 2.62s\tremaining: 23.4s\n",
      "200:\tlearn: 0.7336375\ttest: 0.7336375\ttest1: 0.7784449\tbest: 0.7782638 (196)\ttotal: 5.63s\tremaining: 22.4s\n",
      "300:\tlearn: 0.7056412\ttest: 0.7056412\ttest1: 0.7704687\tbest: 0.7704687 (300)\ttotal: 8.6s\tremaining: 20s\n",
      "400:\tlearn: 0.6805505\ttest: 0.6805505\ttest1: 0.7644652\tbest: 0.7644652 (400)\ttotal: 11.6s\tremaining: 17.3s\n",
      "500:\tlearn: 0.6581504\ttest: 0.6581504\ttest1: 0.7603287\tbest: 0.7603287 (500)\ttotal: 14.3s\tremaining: 14.3s\n",
      "600:\tlearn: 0.6377461\ttest: 0.6377461\ttest1: 0.7560833\tbest: 0.7560833 (600)\ttotal: 17.3s\tremaining: 11.5s\n",
      "700:\tlearn: 0.6193484\ttest: 0.6193484\ttest1: 0.7519029\tbest: 0.7519029 (700)\ttotal: 20.4s\tremaining: 8.72s\n",
      "800:\tlearn: 0.6022838\ttest: 0.6022838\ttest1: 0.7496734\tbest: 0.7496088 (799)\ttotal: 23.8s\tremaining: 5.92s\n",
      "900:\tlearn: 0.5868350\ttest: 0.5868350\ttest1: 0.7474922\tbest: 0.7474279 (897)\ttotal: 27.3s\tremaining: 3s\n",
      "999:\tlearn: 0.5733246\ttest: 0.5733246\ttest1: 0.7457621\tbest: 0.7457621 (999)\ttotal: 30.9s\tremaining: 0us\n",
      "\n",
      "bestTest = 0.745762136\n",
      "bestIteration = 999\n",
      "\n",
      "================================================================================\n",
      "\n",
      "\n",
      "====================================2============================================\n",
      "Learning rate set to 0.114773\n",
      "0:\tlearn: 1.0348831\ttest: 1.0348831\ttest1: 1.0355197\tbest: 1.0355197 (0)\ttotal: 13.2ms\tremaining: 13.2s\n",
      "100:\tlearn: 0.7661046\ttest: 0.7661046\ttest1: 0.8037614\tbest: 0.8037614 (100)\ttotal: 2.78s\tremaining: 24.8s\n",
      "200:\tlearn: 0.7313779\ttest: 0.7313779\ttest1: 0.7932061\tbest: 0.7931154 (199)\ttotal: 5.57s\tremaining: 22.1s\n",
      "300:\tlearn: 0.7029492\ttest: 0.7029492\ttest1: 0.7860572\tbest: 0.7860572 (300)\ttotal: 8.86s\tremaining: 20.6s\n",
      "400:\tlearn: 0.6761544\ttest: 0.6761544\ttest1: 0.7801595\tbest: 0.7800442 (395)\ttotal: 12.2s\tremaining: 18.3s\n",
      "500:\tlearn: 0.6558159\ttest: 0.6558159\ttest1: 0.7766321\tbest: 0.7766321 (500)\ttotal: 15.4s\tremaining: 15.3s\n",
      "600:\tlearn: 0.6355040\ttest: 0.6355040\ttest1: 0.7726190\tbest: 0.7726190 (600)\ttotal: 18.3s\tremaining: 12.1s\n",
      "700:\tlearn: 0.6168598\ttest: 0.6168598\ttest1: 0.7703940\tbest: 0.7703339 (678)\ttotal: 21.4s\tremaining: 9.13s\n",
      "800:\tlearn: 0.6003860\ttest: 0.6003860\ttest1: 0.7696985\tbest: 0.7695769 (791)\ttotal: 24.3s\tremaining: 6.04s\n",
      "900:\tlearn: 0.5854154\ttest: 0.5854154\ttest1: 0.7682374\tbest: 0.7682374 (900)\ttotal: 26.7s\tremaining: 2.93s\n",
      "999:\tlearn: 0.5713875\ttest: 0.5713875\ttest1: 0.7674428\tbest: 0.7673836 (995)\ttotal: 29.5s\tremaining: 0us\n",
      "\n",
      "bestTest = 0.7673835936\n",
      "bestIteration = 995\n",
      "\n",
      "Shrink model to first 996 iterations.\n",
      "================================================================================\n",
      "\n",
      "\n",
      "====================================3============================================\n",
      "Learning rate set to 0.114773\n",
      "0:\tlearn: 1.0349722\ttest: 1.0349722\ttest1: 1.0353265\tbest: 1.0353265 (0)\ttotal: 7.4ms\tremaining: 7.39s\n",
      "100:\tlearn: 0.7662974\ttest: 0.7662974\ttest1: 0.7913729\tbest: 0.7913729 (100)\ttotal: 2.92s\tremaining: 25.9s\n",
      "200:\tlearn: 0.7311633\ttest: 0.7311633\ttest1: 0.7789600\tbest: 0.7789222 (198)\ttotal: 6.1s\tremaining: 24.3s\n",
      "300:\tlearn: 0.7022062\ttest: 0.7022062\ttest1: 0.7724716\tbest: 0.7724374 (297)\ttotal: 8.79s\tremaining: 20.4s\n",
      "400:\tlearn: 0.6783505\ttest: 0.6783505\ttest1: 0.7660583\tbest: 0.7660583 (400)\ttotal: 11.7s\tremaining: 17.5s\n",
      "500:\tlearn: 0.6564327\ttest: 0.6564327\ttest1: 0.7614749\tbest: 0.7614749 (500)\ttotal: 14.5s\tremaining: 14.4s\n",
      "600:\tlearn: 0.6370340\ttest: 0.6370340\ttest1: 0.7589992\tbest: 0.7589992 (600)\ttotal: 17.5s\tremaining: 11.6s\n",
      "700:\tlearn: 0.6194377\ttest: 0.6194377\ttest1: 0.7571826\tbest: 0.7571826 (700)\ttotal: 20.6s\tremaining: 8.78s\n",
      "800:\tlearn: 0.6036228\ttest: 0.6036228\ttest1: 0.7551917\tbest: 0.7551262 (797)\ttotal: 23.7s\tremaining: 5.88s\n",
      "900:\tlearn: 0.5896102\ttest: 0.5896102\ttest1: 0.7547127\tbest: 0.7544595 (881)\ttotal: 26.5s\tremaining: 2.91s\n",
      "999:\tlearn: 0.5753837\ttest: 0.5753837\ttest1: 0.7537600\tbest: 0.7537600 (999)\ttotal: 29.4s\tremaining: 0us\n",
      "\n",
      "bestTest = 0.7537600008\n",
      "bestIteration = 999\n",
      "\n",
      "================================================================================\n",
      "\n",
      "\n",
      "====================================4============================================\n",
      "Learning rate set to 0.114773\n",
      "0:\tlearn: 1.0350829\ttest: 1.0350829\ttest1: 1.0352116\tbest: 1.0352116 (0)\ttotal: 7.63ms\tremaining: 7.63s\n",
      "100:\tlearn: 0.7669489\ttest: 0.7669489\ttest1: 0.7946596\tbest: 0.7946596 (100)\ttotal: 2.94s\tremaining: 26.2s\n",
      "200:\tlearn: 0.7315426\ttest: 0.7315426\ttest1: 0.7830084\tbest: 0.7830084 (200)\ttotal: 5.95s\tremaining: 23.7s\n",
      "300:\tlearn: 0.7025177\ttest: 0.7025177\ttest1: 0.7749842\tbest: 0.7749842 (300)\ttotal: 9.12s\tremaining: 21.2s\n",
      "400:\tlearn: 0.6778467\ttest: 0.6778467\ttest1: 0.7693726\tbest: 0.7693653 (398)\ttotal: 12.3s\tremaining: 18.4s\n",
      "500:\tlearn: 0.6558221\ttest: 0.6558221\ttest1: 0.7645078\tbest: 0.7645078 (500)\ttotal: 15.2s\tremaining: 15.2s\n",
      "600:\tlearn: 0.6359572\ttest: 0.6359572\ttest1: 0.7627543\tbest: 0.7627158 (597)\ttotal: 18.4s\tremaining: 12.2s\n",
      "700:\tlearn: 0.6165347\ttest: 0.6165347\ttest1: 0.7592605\tbest: 0.7592291 (699)\ttotal: 21.2s\tremaining: 9.06s\n",
      "800:\tlearn: 0.5990960\ttest: 0.5990960\ttest1: 0.7571043\tbest: 0.7568615 (797)\ttotal: 24.5s\tremaining: 6.08s\n",
      "900:\tlearn: 0.5838922\ttest: 0.5838922\ttest1: 0.7557503\tbest: 0.7557503 (900)\ttotal: 27.3s\tremaining: 3s\n",
      "999:\tlearn: 0.5697581\ttest: 0.5697581\ttest1: 0.7550612\tbest: 0.7549306 (981)\ttotal: 30.3s\tremaining: 0us\n",
      "\n",
      "bestTest = 0.7549305935\n",
      "bestIteration = 981\n",
      "\n",
      "Shrink model to first 982 iterations.\n",
      "================================================================================\n",
      "\n",
      "\n",
      "====================================5============================================\n",
      "Learning rate set to 0.114773\n",
      "0:\tlearn: 1.0352109\ttest: 1.0352109\ttest1: 1.0349249\tbest: 1.0349249 (0)\ttotal: 11.7ms\tremaining: 11.7s\n",
      "100:\tlearn: 0.7684912\ttest: 0.7684912\ttest1: 0.7910709\tbest: 0.7910709 (100)\ttotal: 2.72s\tremaining: 24.3s\n",
      "200:\tlearn: 0.7315917\ttest: 0.7315917\ttest1: 0.7796358\tbest: 0.7796358 (200)\ttotal: 5.53s\tremaining: 22s\n",
      "300:\tlearn: 0.7020626\ttest: 0.7020626\ttest1: 0.7724795\tbest: 0.7724510 (295)\ttotal: 8.14s\tremaining: 18.9s\n",
      "400:\tlearn: 0.6779199\ttest: 0.6779199\ttest1: 0.7688905\tbest: 0.7688779 (392)\ttotal: 11.2s\tremaining: 16.7s\n",
      "500:\tlearn: 0.6554701\ttest: 0.6554701\ttest1: 0.7679371\tbest: 0.7676568 (457)\ttotal: 14s\tremaining: 13.9s\n",
      "Stopped by overfitting detector  (50 iterations wait)\n",
      "\n",
      "bestTest = 0.767656799\n",
      "bestIteration = 457\n",
      "\n",
      "Shrink model to first 458 iterations.\n",
      "================================================================================\n",
      "\n",
      "\n",
      "mean:0.7578986245726063\n"
     ]
    }
   ],
   "source": [
    "random.seed(42)\n",
    "cat_models={}\n",
    "outcomes=[]\n",
    "for fold in range(5):\n",
    "    \n",
    "    print(f'===================================={fold+1}============================================')\n",
    "    train_idx, valid_idx = folds[fold]\n",
    "    X_train, X_valid, y_train, y_valid = x_traind1.iloc[train_idx], x_traind1.iloc[valid_idx], y_traind1[train_idx], y_traind1[valid_idx]\n",
    "    cat = CatBoostClassifier()\n",
    "    cat.fit(X_train, y_train, \n",
    "            eval_set=[(X_train, y_train), (X_valid, y_valid)], use_best_model=True, \n",
    "            early_stopping_rounds=50,\n",
    "           verbose=100) \n",
    "    cat_models[fold]=cat\n",
    "    \n",
    "    prediction = cat.predict_proba(X_valid)\n",
    "    logloss = log_loss(to_categorical(y_valid), prediction)\n",
    "    outcomes.append(logloss)\n",
    "    print(f'================================================================================\\n\\n')\n",
    "    \n",
    "mean_outcome = np.mean(outcomes)\n",
    "print(\"mean:{}\".format(mean_outcome))"
   ]
  },
  {
   "cell_type": "code",
   "execution_count": 34,
   "metadata": {},
   "outputs": [
    {
     "data": {
      "image/png": "[encoded data removed]",
      "text/plain": [
       "<Figure size 720x576 with 1 Axes>"
      ]
     },
     "metadata": {},
     "output_type": "display_data"
    }
   ],
   "source": [
    "plot_feature_importance(cat.get_feature_importance(), x_traind1.columns, 'CATBOOST')"
   ]
  },
  {
   "cell_type": "markdown",
   "metadata": {},
   "source": [
    "### 2) NA"
   ]
  },
  {
   "cell_type": "code",
   "execution_count": 24,
   "metadata": {},
   "outputs": [],
   "source": [
    "train_n = train.copy()"
   ]
  },
  {
   "cell_type": "code",
   "execution_count": 25,
   "metadata": {},
   "outputs": [],
   "source": [
    "#NA Imputation\n",
    "train_n = train_n.fillna({'occyp_type':'NA'})"
   ]
  },
  {
   "cell_type": "code",
   "execution_count": 26,
   "metadata": {},
   "outputs": [],
   "source": [
    "#gender, car, reality는 binary(object)\n",
    "\n",
    "train_n['gender'] = train_n['gender'].apply(lambda x: 1 if x=='M' else 0) # Male=1, Female=0\n",
    "train_n['car'] = train_n['car'].apply(lambda x: 1 if x=='Y' else 0) # Yes=1, No=0\n",
    "train_n['reality'] = train_n['reality'].apply(lambda x: 1 if x=='Y' else 0) # Yes=1, No=0"
   ]
  },
  {
   "cell_type": "code",
   "execution_count": 27,
   "metadata": {},
   "outputs": [],
   "source": [
    "#음수값을 양수값으로 \n",
    "train_n['DAYS_BIRTH'] = train_n['DAYS_BIRTH'].apply(lambda x: -x)\n",
    "train_n['DAYS_EMPLOYED'] = train_n['DAYS_EMPLOYED'].apply(lambda x: -x)\n",
    "train_n['begin_month'] = train_n['begin_month'].apply(lambda x: -x)"
   ]
  },
  {
   "cell_type": "code",
   "execution_count": 28,
   "metadata": {},
   "outputs": [],
   "source": [
    "#DAYS_BIRTH로 나이 변수 만들어주기\n",
    "train_n['Age'] = abs(train_n['DAYS_BIRTH'])/360\n",
    "train_n = train_n.astype({'Age': 'int'})\n",
    "train_n = train_n.drop('DAYS_BIRTH', axis=1)"
   ]
  },
  {
   "cell_type": "code",
   "execution_count": 29,
   "metadata": {},
   "outputs": [],
   "source": [
    "train_n['income_type'] = enc.fit_transform(train_n['income_type'])\n",
    "train_n['edu_type'] = enc.fit_transform(train_n['edu_type'])\n",
    "train_n['family_type'] = enc.fit_transform(train_n['family_type'])\n",
    "train_n['house_type'] = enc.fit_transform(train_n['house_type'])\n",
    "train_n['occyp_type'] = enc.fit_transform(train_n['occyp_type'])"
   ]
  },
  {
   "cell_type": "code",
   "execution_count": 30,
   "metadata": {},
   "outputs": [],
   "source": [
    "train_n = train_n.drop(['child_num'], axis=1)"
   ]
  },
  {
   "cell_type": "code",
   "execution_count": 31,
   "metadata": {},
   "outputs": [],
   "source": [
    "#정규화 해보자\n",
    "import numpy as np\n",
    "\n",
    "reg = ['income_total', 'DAYS_EMPLOYED', 'family_size']\n",
    "for i in reg :\n",
    "    train_n[i] = (train_n[i] - min(train_n[i])) / (max(train_n[i]) - min(train_n[i]))"
   ]
  },
  {
   "cell_type": "code",
   "execution_count": 32,
   "metadata": {},
   "outputs": [],
   "source": [
    "train_n = train_n.drop(['FLAG_MOBIL'], axis=1)"
   ]
  },
  {
   "cell_type": "markdown",
   "metadata": {},
   "source": [
    "- training"
   ]
  },
  {
   "cell_type": "code",
   "execution_count": 33,
   "metadata": {},
   "outputs": [],
   "source": [
    "x_trainn1 = train_n.drop('credit', axis=1)\n",
    "y_trainn1 = train_n['credit']"
   ]
  },
  {
   "cell_type": "code",
   "execution_count": 35,
   "metadata": {},
   "outputs": [],
   "source": [
    "skf = StratifiedKFold(n_splits=5, shuffle=True, random_state=42)\n",
    "folds = []\n",
    "for train_idx, valid_idx in skf.split(x_trainn1, y_trainn1):\n",
    "    folds.append((train_idx, valid_idx))"
   ]
  },
  {
   "cell_type": "code",
   "execution_count": 36,
   "metadata": {
    "scrolled": true
   },
   "outputs": [
    {
     "name": "stdout",
     "output_type": "stream",
     "text": [
      "====================================1============================================\n",
      "Learning rate set to 0.114773\n",
      "0:\tlearn: 1.0353246\ttest: 1.0353246\ttest1: 1.0351450\tbest: 1.0351450 (0)\ttotal: 9.38ms\tremaining: 9.37s\n",
      "100:\tlearn: 0.7655220\ttest: 0.7655220\ttest1: 0.7882321\tbest: 0.7882321 (100)\ttotal: 2.44s\tremaining: 21.8s\n",
      "200:\tlearn: 0.7286854\ttest: 0.7286854\ttest1: 0.7733763\tbest: 0.7733763 (200)\ttotal: 5.35s\tremaining: 21.3s\n",
      "300:\tlearn: 0.6991501\ttest: 0.6991501\ttest1: 0.7645783\tbest: 0.7645783 (300)\ttotal: 8.16s\tremaining: 19s\n",
      "400:\tlearn: 0.6730352\ttest: 0.6730352\ttest1: 0.7574005\tbest: 0.7574005 (400)\ttotal: 10.8s\tremaining: 16.1s\n",
      "500:\tlearn: 0.6504945\ttest: 0.6504945\ttest1: 0.7518798\tbest: 0.7518798 (500)\ttotal: 13.7s\tremaining: 13.7s\n",
      "600:\tlearn: 0.6306640\ttest: 0.6306640\ttest1: 0.7483448\tbest: 0.7483448 (600)\ttotal: 16s\tremaining: 10.6s\n",
      "700:\tlearn: 0.6127724\ttest: 0.6127724\ttest1: 0.7455018\tbest: 0.7455018 (700)\ttotal: 18.8s\tremaining: 8.03s\n",
      "800:\tlearn: 0.5960613\ttest: 0.5960613\ttest1: 0.7434962\tbest: 0.7434962 (800)\ttotal: 21.4s\tremaining: 5.33s\n",
      "900:\tlearn: 0.5803549\ttest: 0.5803549\ttest1: 0.7415271\tbest: 0.7415096 (899)\ttotal: 24.2s\tremaining: 2.66s\n",
      "999:\tlearn: 0.5664360\ttest: 0.5664360\ttest1: 0.7400667\tbest: 0.7400667 (999)\ttotal: 26.5s\tremaining: 0us\n",
      "\n",
      "bestTest = 0.7400666892\n",
      "bestIteration = 999\n",
      "\n",
      "================================================================================\n",
      "\n",
      "\n",
      "====================================2============================================\n",
      "Learning rate set to 0.114773\n",
      "0:\tlearn: 1.0349561\ttest: 1.0349561\ttest1: 1.0357561\tbest: 1.0357561 (0)\ttotal: 20.7ms\tremaining: 20.7s\n",
      "100:\tlearn: 0.7622386\ttest: 0.7622386\ttest1: 0.7985594\tbest: 0.7985594 (100)\ttotal: 3.09s\tremaining: 27.5s\n",
      "200:\tlearn: 0.7239289\ttest: 0.7239289\ttest1: 0.7852131\tbest: 0.7852131 (200)\ttotal: 5.84s\tremaining: 23.2s\n",
      "300:\tlearn: 0.6929841\ttest: 0.6929841\ttest1: 0.7761888\tbest: 0.7761311 (299)\ttotal: 8.54s\tremaining: 19.8s\n",
      "400:\tlearn: 0.6668333\ttest: 0.6668333\ttest1: 0.7701544\tbest: 0.7701544 (400)\ttotal: 11.4s\tremaining: 17.1s\n",
      "500:\tlearn: 0.6450701\ttest: 0.6450701\ttest1: 0.7665129\tbest: 0.7663482 (494)\ttotal: 14.3s\tremaining: 14.3s\n",
      "600:\tlearn: 0.6248673\ttest: 0.6248673\ttest1: 0.7637958\tbest: 0.7636599 (588)\ttotal: 17.4s\tremaining: 11.5s\n",
      "700:\tlearn: 0.6062786\ttest: 0.6062786\ttest1: 0.7609110\tbest: 0.7609110 (700)\ttotal: 20.2s\tremaining: 8.62s\n",
      "800:\tlearn: 0.5885269\ttest: 0.5885269\ttest1: 0.7594721\tbest: 0.7592144 (791)\ttotal: 22.6s\tremaining: 5.61s\n",
      "900:\tlearn: 0.5725301\ttest: 0.5725301\ttest1: 0.7565653\tbest: 0.7564539 (899)\ttotal: 25.1s\tremaining: 2.75s\n",
      "999:\tlearn: 0.5577813\ttest: 0.5577813\ttest1: 0.7548273\tbest: 0.7548273 (999)\ttotal: 27.9s\tremaining: 0us\n",
      "\n",
      "bestTest = 0.7548272773\n",
      "bestIteration = 999\n",
      "\n",
      "================================================================================\n",
      "\n",
      "\n",
      "====================================3============================================\n",
      "Learning rate set to 0.114773\n",
      "0:\tlearn: 1.0353275\ttest: 1.0353275\ttest1: 1.0357955\tbest: 1.0357955 (0)\ttotal: 55.3ms\tremaining: 55.3s\n",
      "100:\tlearn: 0.7669717\ttest: 0.7669717\ttest1: 0.7913109\tbest: 0.7913109 (100)\ttotal: 2.5s\tremaining: 22.2s\n",
      "200:\tlearn: 0.7267350\ttest: 0.7267350\ttest1: 0.7784145\tbest: 0.7784145 (200)\ttotal: 5.12s\tremaining: 20.4s\n",
      "300:\tlearn: 0.6961798\ttest: 0.6961798\ttest1: 0.7704861\tbest: 0.7704861 (300)\ttotal: 8.11s\tremaining: 18.8s\n",
      "400:\tlearn: 0.6692000\ttest: 0.6692000\ttest1: 0.7655208\tbest: 0.7655208 (400)\ttotal: 10.9s\tremaining: 16.2s\n",
      "500:\tlearn: 0.6464575\ttest: 0.6464575\ttest1: 0.7617076\tbest: 0.7617015 (499)\ttotal: 13.5s\tremaining: 13.4s\n",
      "600:\tlearn: 0.6249382\ttest: 0.6249382\ttest1: 0.7577755\tbest: 0.7577755 (600)\ttotal: 16.4s\tremaining: 10.9s\n",
      "700:\tlearn: 0.6051557\ttest: 0.6051557\ttest1: 0.7545700\tbest: 0.7545700 (700)\ttotal: 19.4s\tremaining: 8.27s\n",
      "800:\tlearn: 0.5892939\ttest: 0.5892939\ttest1: 0.7528168\tbest: 0.7527606 (794)\ttotal: 22.4s\tremaining: 5.55s\n",
      "900:\tlearn: 0.5744432\ttest: 0.5744432\ttest1: 0.7520560\tbest: 0.7517600 (890)\ttotal: 25.1s\tremaining: 2.76s\n",
      "999:\tlearn: 0.5604431\ttest: 0.5604431\ttest1: 0.7513437\tbest: 0.7510365 (990)\ttotal: 27.7s\tremaining: 0us\n",
      "\n",
      "bestTest = 0.751036519\n",
      "bestIteration = 990\n",
      "\n",
      "Shrink model to first 991 iterations.\n",
      "================================================================================\n",
      "\n",
      "\n",
      "====================================4============================================\n",
      "Learning rate set to 0.114773\n",
      "0:\tlearn: 1.0352063\ttest: 1.0352063\ttest1: 1.0354050\tbest: 1.0354050 (0)\ttotal: 71.2ms\tremaining: 1m 11s\n",
      "100:\tlearn: 0.7641268\ttest: 0.7641268\ttest1: 0.7939520\tbest: 0.7939520 (100)\ttotal: 2.78s\tremaining: 24.8s\n",
      "200:\tlearn: 0.7254192\ttest: 0.7254192\ttest1: 0.7808359\tbest: 0.7808359 (200)\ttotal: 5.55s\tremaining: 22s\n",
      "300:\tlearn: 0.6961692\ttest: 0.6961692\ttest1: 0.7724636\tbest: 0.7724636 (300)\ttotal: 8.25s\tremaining: 19.2s\n",
      "400:\tlearn: 0.6682858\ttest: 0.6682858\ttest1: 0.7654530\tbest: 0.7654530 (400)\ttotal: 11s\tremaining: 16.4s\n",
      "500:\tlearn: 0.6452147\ttest: 0.6452147\ttest1: 0.7599330\tbest: 0.7599330 (500)\ttotal: 13.5s\tremaining: 13.4s\n",
      "600:\tlearn: 0.6249960\ttest: 0.6249960\ttest1: 0.7552768\tbest: 0.7552768 (600)\ttotal: 16.3s\tremaining: 10.8s\n",
      "700:\tlearn: 0.6062008\ttest: 0.6062008\ttest1: 0.7513167\tbest: 0.7513107 (699)\ttotal: 18.6s\tremaining: 7.92s\n",
      "800:\tlearn: 0.5888353\ttest: 0.5888353\ttest1: 0.7484006\tbest: 0.7484006 (800)\ttotal: 21.3s\tremaining: 5.29s\n",
      "900:\tlearn: 0.5747687\ttest: 0.5747687\ttest1: 0.7474151\tbest: 0.7474068 (896)\ttotal: 24.2s\tremaining: 2.66s\n",
      "999:\tlearn: 0.5592845\ttest: 0.5592845\ttest1: 0.7467468\tbest: 0.7464973 (990)\ttotal: 27s\tremaining: 0us\n",
      "\n",
      "bestTest = 0.7464972633\n",
      "bestIteration = 990\n",
      "\n",
      "Shrink model to first 991 iterations.\n",
      "================================================================================\n",
      "\n",
      "\n",
      "====================================5============================================\n",
      "Learning rate set to 0.114773\n",
      "0:\tlearn: 1.0353090\ttest: 1.0353090\ttest1: 1.0352124\tbest: 1.0352124 (0)\ttotal: 11.1ms\tremaining: 11.1s\n",
      "100:\tlearn: 0.7655290\ttest: 0.7655290\ttest1: 0.7907171\tbest: 0.7907171 (100)\ttotal: 2.85s\tremaining: 25.3s\n",
      "200:\tlearn: 0.7288084\ttest: 0.7288084\ttest1: 0.7784980\tbest: 0.7784980 (200)\ttotal: 5.84s\tremaining: 23.2s\n",
      "300:\tlearn: 0.6971040\ttest: 0.6971040\ttest1: 0.7694643\tbest: 0.7694643 (300)\ttotal: 8.44s\tremaining: 19.6s\n",
      "400:\tlearn: 0.6686317\ttest: 0.6686317\ttest1: 0.7616171\tbest: 0.7616171 (400)\ttotal: 11.5s\tremaining: 17.1s\n",
      "500:\tlearn: 0.6466581\ttest: 0.6466581\ttest1: 0.7563098\tbest: 0.7562832 (498)\ttotal: 14.4s\tremaining: 14.4s\n",
      "600:\tlearn: 0.6259688\ttest: 0.6259688\ttest1: 0.7524607\tbest: 0.7523994 (594)\ttotal: 17.3s\tremaining: 11.5s\n",
      "700:\tlearn: 0.6072590\ttest: 0.6072590\ttest1: 0.7485139\tbest: 0.7484776 (699)\ttotal: 19.9s\tremaining: 8.49s\n",
      "800:\tlearn: 0.5903420\ttest: 0.5903420\ttest1: 0.7478416\tbest: 0.7476613 (785)\ttotal: 22.6s\tremaining: 5.61s\n",
      "900:\tlearn: 0.5748330\ttest: 0.5748330\ttest1: 0.7465767\tbest: 0.7463442 (896)\ttotal: 25.5s\tremaining: 2.81s\n",
      "999:\tlearn: 0.5605346\ttest: 0.5605346\ttest1: 0.7455144\tbest: 0.7453511 (990)\ttotal: 28.3s\tremaining: 0us\n",
      "\n",
      "bestTest = 0.7453510836\n",
      "bestIteration = 990\n",
      "\n",
      "Shrink model to first 991 iterations.\n",
      "================================================================================\n",
      "\n",
      "\n",
      "mean:0.7475557664760435\n"
     ]
    }
   ],
   "source": [
    "random.seed(42)\n",
    "cat_models={}\n",
    "outcomes=[]\n",
    "for fold in range(5):\n",
    "    \n",
    "    print(f'===================================={fold+1}============================================')\n",
    "    train_idx, valid_idx = folds[fold]\n",
    "    X_train, X_valid, y_train, y_valid = x_trainn1.iloc[train_idx], x_trainn1.iloc[valid_idx], y_trainn1[train_idx], y_trainn1[valid_idx]\n",
    "    cat = CatBoostClassifier()\n",
    "    cat.fit(X_train, y_train, \n",
    "            eval_set=[(X_train, y_train), (X_valid, y_valid)], use_best_model=True, \n",
    "            early_stopping_rounds=50,\n",
    "           verbose=100) \n",
    "    cat_models[fold]=cat\n",
    "    \n",
    "    prediction = cat.predict_proba(X_valid)\n",
    "    logloss = log_loss(to_categorical(y_valid), prediction)\n",
    "    outcomes.append(logloss)\n",
    "    print(f'================================================================================\\n\\n')\n",
    "    \n",
    "mean_outcome = np.mean(outcomes)\n",
    "print(\"mean:{}\".format(mean_outcome))"
   ]
  },
  {
   "cell_type": "code",
   "execution_count": 37,
   "metadata": {},
   "outputs": [
    {
     "data": {
      "image/png": "[encoded data removed]",
      "text/plain": [
       "<Figure size 720x576 with 1 Axes>"
      ]
     },
     "metadata": {},
     "output_type": "display_data"
    }
   ],
   "source": [
    "plot_feature_importance(cat.get_feature_importance(), x_trainn1.columns, 'CATBOOST')"
   ]
  },
  {
   "cell_type": "markdown",
   "metadata": {},
   "source": [
    "## Model 비교 (LightGBM, XGBoost, Catboost)\n",
    "\n",
    "- NA imputation 한 데이터로 진행\n",
    "- LightGBM: 0.7587\n",
    "- XGBoost: 0.7512\n",
    "- Catboost: 0.7476\n",
    "\n",
    "- 최종적으로 Catboost 모델 선택, 진행"
   ]
  },
  {
   "cell_type": "markdown",
   "metadata": {},
   "source": [
    "### 1) LightGBM"
   ]
  },
  {
   "cell_type": "code",
   "execution_count": 38,
   "metadata": {},
   "outputs": [],
   "source": [
    "skf = StratifiedKFold(n_splits=5, shuffle=True, random_state=42)\n",
    "folds = []\n",
    "for train_idx, valid_idx in skf.split(x_trainn1, y_trainn1):\n",
    "    folds.append((train_idx, valid_idx))"
   ]
  },
  {
   "cell_type": "code",
   "execution_count": 43,
   "metadata": {
    "scrolled": true
   },
   "outputs": [
    {
     "name": "stdout",
     "output_type": "stream",
     "text": [
      "====================================1============================================\n",
      "Training until validation scores don't improve for 50 rounds\n",
      "[100]\ttraining's multi_logloss: 0.65334\tvalid_1's multi_logloss: 0.750497\n",
      "Did not meet early stopping. Best iteration is:\n",
      "[100]\ttraining's multi_logloss: 0.65334\tvalid_1's multi_logloss: 0.750497\n",
      "================================================================================\n",
      "\n",
      "\n",
      "====================================2============================================\n",
      "Training until validation scores don't improve for 50 rounds\n",
      "[100]\ttraining's multi_logloss: 0.652201\tvalid_1's multi_logloss: 0.765922\n",
      "Did not meet early stopping. Best iteration is:\n",
      "[100]\ttraining's multi_logloss: 0.652201\tvalid_1's multi_logloss: 0.765922\n",
      "================================================================================\n",
      "\n",
      "\n",
      "====================================3============================================\n",
      "Training until validation scores don't improve for 50 rounds\n",
      "[100]\ttraining's multi_logloss: 0.655451\tvalid_1's multi_logloss: 0.761509\n",
      "Did not meet early stopping. Best iteration is:\n",
      "[100]\ttraining's multi_logloss: 0.655451\tvalid_1's multi_logloss: 0.761509\n",
      "================================================================================\n",
      "\n",
      "\n",
      "====================================4============================================\n",
      "Training until validation scores don't improve for 50 rounds\n",
      "[100]\ttraining's multi_logloss: 0.652971\tvalid_1's multi_logloss: 0.756696\n",
      "Did not meet early stopping. Best iteration is:\n",
      "[100]\ttraining's multi_logloss: 0.652971\tvalid_1's multi_logloss: 0.756696\n",
      "================================================================================\n",
      "\n",
      "\n",
      "====================================5============================================\n",
      "Training until validation scores don't improve for 50 rounds\n",
      "[100]\ttraining's multi_logloss: 0.654638\tvalid_1's multi_logloss: 0.758898\n",
      "Did not meet early stopping. Best iteration is:\n",
      "[100]\ttraining's multi_logloss: 0.654638\tvalid_1's multi_logloss: 0.758898\n",
      "================================================================================\n",
      "\n",
      "\n",
      "mean:0.7587044052703809\n"
     ]
    }
   ],
   "source": [
    "random.seed(42)\n",
    "lgbm_models={}\n",
    "outcomes=[]\n",
    "for fold in range(5):\n",
    "    \n",
    "    print(f'===================================={fold+1}============================================')\n",
    "    train_idx, valid_idx = folds[fold]\n",
    "    X_train, X_valid, y_train, y_valid = x_trainn1.iloc[train_idx], x_trainn1.iloc[valid_idx], y_trainn1[train_idx], y_trainn1[valid_idx]\n",
    "    lgbm = LGBMClassifier()\n",
    "    lgbm.fit(X_train, y_train, \n",
    "            eval_set=[(X_train, y_train), (X_valid, y_valid)], eval_metric=\"logloss\", \n",
    "            early_stopping_rounds=50,\n",
    "           verbose=100) \n",
    "    lgbm_models[fold]=lgbm\n",
    "    \n",
    "    prediction = lgbm.predict_proba(X_valid)\n",
    "    logloss = log_loss(to_categorical(y_valid), prediction)\n",
    "    outcomes.append(logloss)\n",
    "    print(f'================================================================================\\n\\n')\n",
    "    \n",
    "mean_outcome = np.mean(outcomes)\n",
    "print(\"mean:{}\".format(mean_outcome))"
   ]
  },
  {
   "cell_type": "markdown",
   "metadata": {},
   "source": [
    "### 2) XGBoost"
   ]
  },
  {
   "cell_type": "code",
   "execution_count": 44,
   "metadata": {},
   "outputs": [],
   "source": [
    "skf = StratifiedKFold(n_splits=5, shuffle=True, random_state=42)\n",
    "folds = []\n",
    "for train_idx, valid_idx in skf.split(x_trainn1, y_trainn1):\n",
    "    folds.append((train_idx, valid_idx))"
   ]
  },
  {
   "cell_type": "code",
   "execution_count": 46,
   "metadata": {
    "scrolled": true
   },
   "outputs": [
    {
     "name": "stdout",
     "output_type": "stream",
     "text": [
      "====================================1============================================\n",
      "[0]\tvalidation_0-mlogloss:0.97449\tvalidation_1-mlogloss:0.97717\n",
      "[99]\tvalidation_0-mlogloss:0.56476\tvalidation_1-mlogloss:0.74326\n",
      "================================================================================\n",
      "\n",
      "\n",
      "====================================2============================================\n",
      "[0]\tvalidation_0-mlogloss:0.97357\tvalidation_1-mlogloss:0.97906\n",
      "[99]\tvalidation_0-mlogloss:0.55787\tvalidation_1-mlogloss:0.76102\n",
      "================================================================================\n",
      "\n",
      "\n",
      "====================================3============================================\n",
      "[0]\tvalidation_0-mlogloss:0.97459\tvalidation_1-mlogloss:0.97831\n",
      "[99]\tvalidation_0-mlogloss:0.56025\tvalidation_1-mlogloss:0.75409\n",
      "================================================================================\n",
      "\n",
      "\n",
      "====================================4============================================\n",
      "[0]\tvalidation_0-mlogloss:0.97391\tvalidation_1-mlogloss:0.97816\n",
      "[99]\tvalidation_0-mlogloss:0.56064\tvalidation_1-mlogloss:0.75325\n",
      "================================================================================\n",
      "\n",
      "\n",
      "====================================5============================================\n",
      "[0]\tvalidation_0-mlogloss:0.97457\tvalidation_1-mlogloss:0.97728\n",
      "[99]\tvalidation_0-mlogloss:0.56463\tvalidation_1-mlogloss:0.74541\n",
      "================================================================================\n",
      "\n",
      "\n",
      "mean:0.7512408801127324\n"
     ]
    }
   ],
   "source": [
    "random.seed(42)\n",
    "xgb_models={}\n",
    "outcomes=[]\n",
    "for fold in range(5):\n",
    "    \n",
    "    print(f'===================================={fold+1}============================================')\n",
    "    train_idx, valid_idx = folds[fold]\n",
    "    X_train, X_valid, y_train, y_valid = x_trainn1.iloc[train_idx], x_trainn1.iloc[valid_idx], y_trainn1[train_idx], y_trainn1[valid_idx]\n",
    "    xgb = XGBClassifier(objective='multi:softprob', eval_metric='mlogloss')\n",
    "    xgb.fit(X_train, y_train, \n",
    "            eval_set=[(X_train, y_train), (X_valid, y_valid)], \n",
    "            early_stopping_rounds=50,\n",
    "           verbose=100) \n",
    "    xgb_models[fold]=xgb\n",
    "    \n",
    "    prediction = xgb.predict_proba(X_valid)\n",
    "    logloss = log_loss(to_categorical(y_valid), prediction)\n",
    "    outcomes.append(logloss)\n",
    "    print(f'================================================================================\\n\\n')\n",
    "    \n",
    "mean_outcome = np.mean(outcomes)\n",
    "print(\"mean:{}\".format(mean_outcome))"
   ]
  },
  {
   "cell_type": "markdown",
   "metadata": {},
   "source": [
    "# 최종 모델링\n",
    "\n",
    "- 15-fold로 진행"
   ]
  },
  {
   "cell_type": "markdown",
   "metadata": {},
   "source": [
    "## FE"
   ]
  },
  {
   "cell_type": "code",
   "execution_count": 35,
   "metadata": {},
   "outputs": [],
   "source": [
    "#NA Imputation\n",
    "train = train.fillna({'occyp_type':'NA'})"
   ]
  },
  {
   "cell_type": "markdown",
   "metadata": {},
   "source": [
    "### numerical"
   ]
  },
  {
   "cell_type": "code",
   "execution_count": 36,
   "metadata": {},
   "outputs": [],
   "source": [
    "# 음수 -> 양수 변환\n",
    "train['DAYS_BIRTH'] = train['DAYS_BIRTH'].apply(lambda x: -x)\n",
    "train['DAYS_EMPLOYED'] = train['DAYS_EMPLOYED'].apply(lambda x: -x)\n",
    "train['begin_month'] = train['begin_month'].apply(lambda x: -x)"
   ]
  },
  {
   "cell_type": "code",
   "execution_count": 37,
   "metadata": {},
   "outputs": [],
   "source": [
    "# DAYS_EMPLOYED < 0  -> 0으로 변환, year_employed 생성\n",
    "train['DAYS_EMPLOYED'] = train['DAYS_EMPLOYED'].apply(lambda x: x if x >=0 else 0)\n",
    "train['year_employed'] = train['DAYS_EMPLOYED'] / 365\n",
    "train['year_employed'] = train['year_employed'].astype('int')\n",
    "#train = train.drop('DAYS_EMPLOYED', axis=1)"
   ]
  },
  {
   "cell_type": "code",
   "execution_count": 38,
   "metadata": {},
   "outputs": [],
   "source": [
    "# DAYS_BIRTH -> Age\n",
    "train['Age'] = train['DAYS_BIRTH'] / 365\n",
    "train['Age'] = train['Age'].astype('int')\n",
    "#train = train.drop('DAYS_BIRTH', axis=1)"
   ]
  },
  {
   "cell_type": "code",
   "execution_count": 39,
   "metadata": {},
   "outputs": [],
   "source": [
    "# child_num 제거\n",
    "train = train.drop('child_num', axis=1)\n",
    "#train = train.drop('family_size', axis=1)"
   ]
  },
  {
   "cell_type": "code",
   "execution_count": 40,
   "metadata": {},
   "outputs": [],
   "source": [
    "# family_size 이상치 제거\n",
    "train = train[(train['family_size'] <= 7)]\n",
    "train = train.reset_index(drop=True)\n",
    "\n",
    "#child_num 이상치 제거\n",
    "#train = train[(train['child_num'] <= 5)]\n",
    "#train = train.reset_index(drop=True)"
   ]
  },
  {
   "cell_type": "code",
   "execution_count": 41,
   "metadata": {},
   "outputs": [],
   "source": [
    "# start_work 추가\n",
    "train['start_work'] = train['Age'] - train['year_employed']"
   ]
  },
  {
   "cell_type": "code",
   "execution_count": 42,
   "metadata": {},
   "outputs": [],
   "source": [
    "train = train.astype({'begin_month':'int', 'family_size':'int', 'income_total':'int'})\n",
    "#train = train.astype({'begin_month':'int', 'child_num':'int'})"
   ]
  },
  {
   "cell_type": "code",
   "execution_count": 43,
   "metadata": {},
   "outputs": [],
   "source": [
    "# 소득/나이 비율, 소득/ 일한 기간 비율\n",
    "\n",
    "train['income_age'] = train['income_total'] / train['Age']\n",
    "train['income_employed'] = train['income_total'] / (train['year_employed'] + 1)"
   ]
  },
  {
   "cell_type": "code",
   "execution_count": 44,
   "metadata": {},
   "outputs": [],
   "source": [
    "# 소득/ 가족 수 비율\n",
    "train['income_family'] = train['income_total'] / train['family_size']"
   ]
  },
  {
   "cell_type": "markdown",
   "metadata": {},
   "source": [
    "### binary"
   ]
  },
  {
   "cell_type": "code",
   "execution_count": 45,
   "metadata": {},
   "outputs": [],
   "source": [
    "train['gender'] = train['gender'].apply(lambda x: 1 if x=='M' else 0) # Male=1, Female=0\n",
    "train['car'] = train['car'].apply(lambda x: 1 if x=='Y' else 0) # Yes=1, No=0\n",
    "train['reality'] = train['reality'].apply(lambda x: 1 if x=='Y' else 0) # Yes=1, No=0"
   ]
  },
  {
   "cell_type": "markdown",
   "metadata": {},
   "source": [
    "### Categorical"
   ]
  },
  {
   "cell_type": "code",
   "execution_count": 19,
   "metadata": {},
   "outputs": [],
   "source": [
    "#라벨인코딩\n",
    "from sklearn import preprocessing\n",
    "enc = preprocessing.LabelEncoder()\n",
    "\n",
    "train['income_type'] = enc.fit_transform(train['income_type'])\n",
    "train['edu_type'] = enc.fit_transform(train['edu_type'])\n",
    "train['family_type'] = enc.fit_transform(train['family_type'])\n",
    "train['house_type'] = enc.fit_transform(train['house_type'])\n",
    "train['occyp_type'] = enc.fit_transform(train['occyp_type'])"
   ]
  },
  {
   "cell_type": "markdown",
   "metadata": {},
   "source": [
    "### id 생성 (categorical 전처리)"
   ]
  },
  {
   "cell_type": "code",
   "execution_count": 20,
   "metadata": {},
   "outputs": [],
   "source": [
    "#train['privat_id'] = train['email'] + train['house_type'] + train['work_phone'] + train['gender'] + train['reality'] + train['car'] + train['phone'] + train['income_type'] + train['edu_type'] + train['occyp_type'] + train['Age'] + train['year_employed']+ train['family_type']\n",
    "#train['privat_id2'] = train['email'] + train['house_type'] + train['work_phone'] + train['gender'] + train['reality'] + train['car'] + train['phone'] + train['income_type'] + train['edu_type'] + train['occyp_type'] + train['Age'] + train['family_type'] + train['begin_month']\n",
    "\n",
    "train['privat_id'] = train['gender'] + train['Age'] + train['income_total'] + train['income_type'] + train['occyp_type']\n",
    "train['card_id'] = train['gender'] + train['Age'] + train['begin_month'] + train['income_total'] + train['income_type'] + \\\n",
    "                   train['occyp_type']\n",
    "\n",
    "#train['card_id'] = train['gender'] + train['Age'] + train['income_total'] + train['income_type'] + train['occyp_type'] + train['begin_month']\n",
    "#train['property_id'] = train['house_type'] + train['reality'] + train['car'] + train['income_total'] + train['gender']\n",
    "\n",
    "#train['privat_id'] = train['gender'].astype('str') + train['Age'].astype('str') + train['income_total'].astype('str') + train['occyp_type'].astype('str')\n",
    "#train['card_id'] = train['gender'].astype('str') + train['Age'].astype('str') + train['begin_month'].astype('str') + train['income_total'].astype('str') + train['income_type'].astype('str') + train['occyp_type'].astype('str')\n",
    "\n",
    "# email, phone, work_phone 합치기\n",
    "train['e_p'] = train['email'] + train['work_phone'] + train['phone']\n",
    "\n",
    "\n",
    "#train['privat_id'] = \\\n",
    "#train['gender'] + train['Age'] + train['income_total'] + train['income_type'] + train['occyp_type'] + \\\n",
    "#train['family_size'] + train['car'] + train['gender'] + train['reality'] + train['income_type'] + \\\n",
    "#train['family_type'] + train['house_type']\n",
    "\n",
    "#train['card_id'] = \\\n",
    "#train['gender'] + train['Age'] + train['income_total'] + train['income_type'] + train['occyp_type'] + \\\n",
    "#train['family_size'] + train['car'] + train['gender'] + train['reality'] + train['income_type'] + \\\n",
    "#train['family_type'] + train['house_type'] + train['begin_month']"
   ]
  },
  {
   "cell_type": "markdown",
   "metadata": {},
   "source": [
    "### id 생성 (categorical 전처리 x)"
   ]
  },
  {
   "cell_type": "code",
   "execution_count": 46,
   "metadata": {},
   "outputs": [],
   "source": [
    "train['privat_id'] = train['gender'].astype('str') + train['Age'].astype('str') + train['income_total'].astype('str') + \\\n",
    "                    train['occyp_type'].astype('str')\n",
    "train['card_id'] = train['gender'].astype('str') + train['Age'].astype('str') + train['begin_month'].astype('str') + \\\n",
    "                   train['income_total'].astype('str') + train['income_type'].astype('str') + train['occyp_type'].astype('str')"
   ]
  },
  {
   "cell_type": "code",
   "execution_count": 47,
   "metadata": {},
   "outputs": [],
   "source": [
    "train['e_p'] = train['email'] + train['work_phone'] + train['phone']"
   ]
  },
  {
   "cell_type": "markdown",
   "metadata": {},
   "source": [
    "### Scaling\n",
    "\n",
    "- minmax 보다 standard scaling이 좋은 결과"
   ]
  },
  {
   "cell_type": "code",
   "execution_count": 22,
   "metadata": {},
   "outputs": [],
   "source": [
    "from sklearn.preprocessing import StandardScaler, MinMaxScaler"
   ]
  },
  {
   "cell_type": "code",
   "execution_count": 23,
   "metadata": {},
   "outputs": [],
   "source": [
    "sca = StandardScaler()"
   ]
  },
  {
   "cell_type": "code",
   "execution_count": 48,
   "metadata": {},
   "outputs": [],
   "source": [
    "train['income_total'] = sca.fit_transform(train[['income_total']])\n",
    "train['year_employed'] = sca.fit_transform(train[['year_employed']])\n",
    "#train['Age'] = sca.fit_transform(train[['Age']])\n",
    "train['begin_month'] = sca.fit_transform(train[['begin_month']])\n",
    "#train['start_work'] = sca.fit_transform(train[['start_work']])\n",
    "train['income_age'] = sca.fit_transform(train[['income_age']])\n",
    "train['income_employed'] = sca.fit_transform(train[['income_employed']])\n",
    "train['income_family'] = sca.fit_transform(train[['income_family']])"
   ]
  },
  {
   "cell_type": "markdown",
   "metadata": {},
   "source": [
    "### 제거 변수\n",
    "\n",
    "- 상관관계 고려"
   ]
  },
  {
   "cell_type": "code",
   "execution_count": 49,
   "metadata": {},
   "outputs": [],
   "source": [
    "#train = train.drop('family_size', axis=1)\n",
    "train = train.drop('year_employed', axis=1)\n",
    "#train = train.drop('DAYS_EMPLOYED', axis=1)\n",
    "train = train.drop('DAYS_BIRTH', axis=1)"
   ]
  },
  {
   "cell_type": "code",
   "execution_count": 50,
   "metadata": {},
   "outputs": [],
   "source": [
    "train = train.drop('FLAG_MOBIL', axis=1)"
   ]
  },
  {
   "cell_type": "code",
   "execution_count": 27,
   "metadata": {},
   "outputs": [
    {
     "data": {
      "text/html": [
       "<div>\n",
       "<style scoped>\n",
       "    .dataframe tbody tr th:only-of-type {\n",
       "        vertical-align: middle;\n",
       "    }\n",
       "\n",
       "    .dataframe tbody tr th {\n",
       "        vertical-align: top;\n",
       "    }\n",
       "\n",
       "    .dataframe thead th {\n",
       "        text-align: right;\n",
       "    }\n",
       "</style>\n",
       "<table border=\"1\" class=\"dataframe\">\n",
       "  <thead>\n",
       "    <tr style=\"text-align: right;\">\n",
       "      <th></th>\n",
       "      <th>gender</th>\n",
       "      <th>car</th>\n",
       "      <th>reality</th>\n",
       "      <th>income_total</th>\n",
       "      <th>income_type</th>\n",
       "      <th>edu_type</th>\n",
       "      <th>family_type</th>\n",
       "      <th>house_type</th>\n",
       "      <th>DAYS_EMPLOYED</th>\n",
       "      <th>work_phone</th>\n",
       "      <th>phone</th>\n",
       "      <th>email</th>\n",
       "      <th>occyp_type</th>\n",
       "      <th>family_size</th>\n",
       "      <th>begin_month</th>\n",
       "      <th>credit</th>\n",
       "      <th>Age</th>\n",
       "      <th>start_work</th>\n",
       "      <th>income_age</th>\n",
       "      <th>income_employed</th>\n",
       "      <th>income_family</th>\n",
       "      <th>privat_id</th>\n",
       "      <th>card_id</th>\n",
       "      <th>e_p</th>\n",
       "    </tr>\n",
       "  </thead>\n",
       "  <tbody>\n",
       "    <tr>\n",
       "      <th>0</th>\n",
       "      <td>0</td>\n",
       "      <td>0</td>\n",
       "      <td>0</td>\n",
       "      <td>0.149115</td>\n",
       "      <td>0</td>\n",
       "      <td>1</td>\n",
       "      <td>1</td>\n",
       "      <td>2</td>\n",
       "      <td>4709</td>\n",
       "      <td>0</td>\n",
       "      <td>0</td>\n",
       "      <td>0</td>\n",
       "      <td>12</td>\n",
       "      <td>2</td>\n",
       "      <td>-1.215242</td>\n",
       "      <td>1.0</td>\n",
       "      <td>38</td>\n",
       "      <td>26</td>\n",
       "      <td>0.219075</td>\n",
       "      <td>-0.710383</td>\n",
       "      <td>0.002062</td>\n",
       "      <td>202550</td>\n",
       "      <td>202556</td>\n",
       "      <td>0</td>\n",
       "    </tr>\n",
       "    <tr>\n",
       "      <th>1</th>\n",
       "      <td>0</td>\n",
       "      <td>0</td>\n",
       "      <td>1</td>\n",
       "      <td>0.590785</td>\n",
       "      <td>0</td>\n",
       "      <td>4</td>\n",
       "      <td>0</td>\n",
       "      <td>1</td>\n",
       "      <td>1540</td>\n",
       "      <td>0</td>\n",
       "      <td>0</td>\n",
       "      <td>1</td>\n",
       "      <td>8</td>\n",
       "      <td>3</td>\n",
       "      <td>-1.275633</td>\n",
       "      <td>1.0</td>\n",
       "      <td>31</td>\n",
       "      <td>27</td>\n",
       "      <td>1.134798</td>\n",
       "      <td>-0.242290</td>\n",
       "      <td>-0.254157</td>\n",
       "      <td>247539</td>\n",
       "      <td>247544</td>\n",
       "      <td>1</td>\n",
       "    </tr>\n",
       "    <tr>\n",
       "      <th>2</th>\n",
       "      <td>1</td>\n",
       "      <td>1</td>\n",
       "      <td>1</td>\n",
       "      <td>2.578304</td>\n",
       "      <td>4</td>\n",
       "      <td>1</td>\n",
       "      <td>1</td>\n",
       "      <td>1</td>\n",
       "      <td>4434</td>\n",
       "      <td>0</td>\n",
       "      <td>1</td>\n",
       "      <td>0</td>\n",
       "      <td>10</td>\n",
       "      <td>2</td>\n",
       "      <td>-0.248981</td>\n",
       "      <td>2.0</td>\n",
       "      <td>52</td>\n",
       "      <td>40</td>\n",
       "      <td>1.365883</td>\n",
       "      <td>-0.447678</td>\n",
       "      <td>1.693108</td>\n",
       "      <td>450067</td>\n",
       "      <td>450089</td>\n",
       "      <td>1</td>\n",
       "    </tr>\n",
       "    <tr>\n",
       "      <th>3</th>\n",
       "      <td>0</td>\n",
       "      <td>0</td>\n",
       "      <td>1</td>\n",
       "      <td>0.149115</td>\n",
       "      <td>0</td>\n",
       "      <td>4</td>\n",
       "      <td>1</td>\n",
       "      <td>1</td>\n",
       "      <td>2092</td>\n",
       "      <td>0</td>\n",
       "      <td>1</td>\n",
       "      <td>0</td>\n",
       "      <td>15</td>\n",
       "      <td>2</td>\n",
       "      <td>0.656889</td>\n",
       "      <td>0.0</td>\n",
       "      <td>41</td>\n",
       "      <td>36</td>\n",
       "      <td>0.084584</td>\n",
       "      <td>-0.459619</td>\n",
       "      <td>0.002062</td>\n",
       "      <td>202556</td>\n",
       "      <td>202593</td>\n",
       "      <td>1</td>\n",
       "    </tr>\n",
       "    <tr>\n",
       "      <th>4</th>\n",
       "      <td>0</td>\n",
       "      <td>1</td>\n",
       "      <td>1</td>\n",
       "      <td>-0.292556</td>\n",
       "      <td>2</td>\n",
       "      <td>1</td>\n",
       "      <td>1</td>\n",
       "      <td>1</td>\n",
       "      <td>2105</td>\n",
       "      <td>0</td>\n",
       "      <td>0</td>\n",
       "      <td>0</td>\n",
       "      <td>10</td>\n",
       "      <td>2</td>\n",
       "      <td>-0.007416</td>\n",
       "      <td>2.0</td>\n",
       "      <td>41</td>\n",
       "      <td>36</td>\n",
       "      <td>-0.293981</td>\n",
       "      <td>-0.563109</td>\n",
       "      <td>-0.305401</td>\n",
       "      <td>157553</td>\n",
       "      <td>157579</td>\n",
       "      <td>0</td>\n",
       "    </tr>\n",
       "  </tbody>\n",
       "</table>\n",
       "</div>"
      ],
      "text/plain": [
       "   gender  car  reality  income_total  income_type  edu_type  family_type  \\\n",
       "0       0    0        0      0.149115            0         1            1   \n",
       "1       0    0        1      0.590785            0         4            0   \n",
       "2       1    1        1      2.578304            4         1            1   \n",
       "3       0    0        1      0.149115            0         4            1   \n",
       "4       0    1        1     -0.292556            2         1            1   \n",
       "\n",
       "   house_type  DAYS_EMPLOYED  work_phone  phone  email  occyp_type  \\\n",
       "0           2           4709           0      0      0          12   \n",
       "1           1           1540           0      0      1           8   \n",
       "2           1           4434           0      1      0          10   \n",
       "3           1           2092           0      1      0          15   \n",
       "4           1           2105           0      0      0          10   \n",
       "\n",
       "   family_size  begin_month  credit  Age  start_work  income_age  \\\n",
       "0            2    -1.215242     1.0   38          26    0.219075   \n",
       "1            3    -1.275633     1.0   31          27    1.134798   \n",
       "2            2    -0.248981     2.0   52          40    1.365883   \n",
       "3            2     0.656889     0.0   41          36    0.084584   \n",
       "4            2    -0.007416     2.0   41          36   -0.293981   \n",
       "\n",
       "   income_employed  income_family  privat_id  card_id  e_p  \n",
       "0        -0.710383       0.002062     202550   202556    0  \n",
       "1        -0.242290      -0.254157     247539   247544    1  \n",
       "2        -0.447678       1.693108     450067   450089    1  \n",
       "3        -0.459619       0.002062     202556   202593    1  \n",
       "4        -0.563109      -0.305401     157553   157579    0  "
      ]
     },
     "execution_count": 27,
     "metadata": {},
     "output_type": "execute_result"
    }
   ],
   "source": [
    "train.head()"
   ]
  },
  {
   "cell_type": "markdown",
   "metadata": {},
   "source": [
    "# Modeling 1) categorical feature 전처리\n",
    "\n",
    "- loss: 0.7305"
   ]
  },
  {
   "cell_type": "code",
   "execution_count": 29,
   "metadata": {},
   "outputs": [],
   "source": [
    "x_train1 = train.drop('credit', axis=1)\n",
    "y_train1 = train['credit']"
   ]
  },
  {
   "cell_type": "code",
   "execution_count": 30,
   "metadata": {},
   "outputs": [],
   "source": [
    "skf = StratifiedKFold(n_splits=15, shuffle=True, random_state=42)\n",
    "folds = []\n",
    "for train_idx, valid_idx in skf.split(x_train1, y_train1):\n",
    "    folds.append((train_idx, valid_idx))"
   ]
  },
  {
   "cell_type": "code",
   "execution_count": 31,
   "metadata": {
    "scrolled": true
   },
   "outputs": [
    {
     "name": "stdout",
     "output_type": "stream",
     "text": [
      "====================================1============================================\n",
      "Learning rate set to 0.115127\n",
      "0:\tlearn: 1.0342935\ttest: 1.0342935\ttest1: 1.0330168\tbest: 1.0330168 (0)\ttotal: 166ms\tremaining: 2m 46s\n",
      "100:\tlearn: 0.7612110\ttest: 0.7612110\ttest1: 0.7774570\tbest: 0.7773944 (99)\ttotal: 1.28s\tremaining: 11.4s\n",
      "200:\tlearn: 0.7235565\ttest: 0.7235565\ttest1: 0.7578793\tbest: 0.7578793 (200)\ttotal: 2.34s\tremaining: 9.32s\n",
      "300:\tlearn: 0.6931386\ttest: 0.6931386\ttest1: 0.7434079\tbest: 0.7434079 (300)\ttotal: 3.45s\tremaining: 8.01s\n",
      "400:\tlearn: 0.6682931\ttest: 0.6682931\ttest1: 0.7323249\tbest: 0.7323249 (400)\ttotal: 4.53s\tremaining: 6.76s\n",
      "500:\tlearn: 0.6468531\ttest: 0.6468531\ttest1: 0.7243193\tbest: 0.7243193 (500)\ttotal: 5.64s\tremaining: 5.62s\n",
      "600:\tlearn: 0.6269782\ttest: 0.6269782\ttest1: 0.7168709\tbest: 0.7168709 (600)\ttotal: 6.71s\tremaining: 4.46s\n",
      "700:\tlearn: 0.6090913\ttest: 0.6090913\ttest1: 0.7124231\tbest: 0.7123662 (699)\ttotal: 7.79s\tremaining: 3.32s\n",
      "800:\tlearn: 0.5935661\ttest: 0.5935661\ttest1: 0.7092651\tbest: 0.7091291 (799)\ttotal: 9.02s\tremaining: 2.24s\n",
      "900:\tlearn: 0.5790871\ttest: 0.5790871\ttest1: 0.7070549\tbest: 0.7067426 (889)\ttotal: 10.2s\tremaining: 1.12s\n",
      "999:\tlearn: 0.5650214\ttest: 0.5650214\ttest1: 0.7042021\tbest: 0.7042021 (999)\ttotal: 11.3s\tremaining: 0us\n",
      "\n",
      "bestTest = 0.7042020677\n",
      "bestIteration = 999\n",
      "\n",
      "================================================================================\n",
      "\n",
      "\n",
      "====================================2============================================\n",
      "Learning rate set to 0.115127\n",
      "0:\tlearn: 1.0341433\ttest: 1.0341433\ttest1: 1.0339064\tbest: 1.0339064 (0)\ttotal: 12.4ms\tremaining: 12.4s\n",
      "100:\tlearn: 0.7630974\ttest: 0.7630974\ttest1: 0.7896852\tbest: 0.7896852 (100)\ttotal: 1.14s\tremaining: 10.2s\n",
      "200:\tlearn: 0.7258904\ttest: 0.7258904\ttest1: 0.7756556\tbest: 0.7756556 (200)\ttotal: 2.54s\tremaining: 10.1s\n",
      "300:\tlearn: 0.6942305\ttest: 0.6942305\ttest1: 0.7665171\tbest: 0.7663483 (298)\ttotal: 3.78s\tremaining: 8.78s\n",
      "400:\tlearn: 0.6692293\ttest: 0.6692293\ttest1: 0.7581161\tbest: 0.7581161 (400)\ttotal: 4.93s\tremaining: 7.37s\n",
      "500:\tlearn: 0.6472485\ttest: 0.6472485\ttest1: 0.7509479\tbest: 0.7509479 (500)\ttotal: 6.25s\tremaining: 6.22s\n",
      "600:\tlearn: 0.6273821\ttest: 0.6273821\ttest1: 0.7461048\tbest: 0.7460454 (588)\ttotal: 7.35s\tremaining: 4.88s\n",
      "700:\tlearn: 0.6091857\ttest: 0.6091857\ttest1: 0.7430556\tbest: 0.7427729 (678)\ttotal: 8.63s\tremaining: 3.68s\n",
      "800:\tlearn: 0.5924764\ttest: 0.5924764\ttest1: 0.7378870\tbest: 0.7378863 (798)\ttotal: 9.82s\tremaining: 2.44s\n",
      "Stopped by overfitting detector  (50 iterations wait)\n",
      "\n",
      "bestTest = 0.7364254719\n",
      "bestIteration = 849\n",
      "\n",
      "Shrink model to first 850 iterations.\n",
      "================================================================================\n",
      "\n",
      "\n",
      "====================================3============================================\n",
      "Learning rate set to 0.115127\n",
      "0:\tlearn: 1.0340507\ttest: 1.0340507\ttest1: 1.0348794\tbest: 1.0348794 (0)\ttotal: 23.4ms\tremaining: 23.4s\n",
      "100:\tlearn: 0.7641041\ttest: 0.7641041\ttest1: 0.7896724\tbest: 0.7896724 (100)\ttotal: 1.2s\tremaining: 10.6s\n",
      "200:\tlearn: 0.7251811\ttest: 0.7251811\ttest1: 0.7733865\tbest: 0.7733865 (200)\ttotal: 2.44s\tremaining: 9.69s\n",
      "300:\tlearn: 0.6947913\ttest: 0.6947913\ttest1: 0.7636916\tbest: 0.7634896 (299)\ttotal: 3.53s\tremaining: 8.21s\n",
      "400:\tlearn: 0.6681697\ttest: 0.6681697\ttest1: 0.7546531\tbest: 0.7546531 (400)\ttotal: 4.69s\tremaining: 7.01s\n",
      "500:\tlearn: 0.6452478\ttest: 0.6452478\ttest1: 0.7501653\tbest: 0.7501653 (500)\ttotal: 5.81s\tremaining: 5.78s\n",
      "600:\tlearn: 0.6243549\ttest: 0.6243549\ttest1: 0.7432522\tbest: 0.7431367 (599)\ttotal: 6.93s\tremaining: 4.6s\n",
      "700:\tlearn: 0.6067253\ttest: 0.6067253\ttest1: 0.7406212\tbest: 0.7406212 (700)\ttotal: 8.07s\tremaining: 3.44s\n",
      "800:\tlearn: 0.5906470\ttest: 0.5906470\ttest1: 0.7373761\tbest: 0.7372894 (799)\ttotal: 9.21s\tremaining: 2.29s\n",
      "900:\tlearn: 0.5752853\ttest: 0.5752853\ttest1: 0.7335792\tbest: 0.7334493 (899)\ttotal: 10.3s\tremaining: 1.14s\n",
      "999:\tlearn: 0.5619203\ttest: 0.5619203\ttest1: 0.7325402\tbest: 0.7322453 (993)\ttotal: 11.5s\tremaining: 0us\n",
      "\n",
      "bestTest = 0.7322452503\n",
      "bestIteration = 993\n",
      "\n",
      "Shrink model to first 994 iterations.\n",
      "================================================================================\n",
      "\n",
      "\n",
      "====================================4============================================\n",
      "Learning rate set to 0.115127\n",
      "0:\tlearn: 1.0339345\ttest: 1.0339345\ttest1: 1.0361524\tbest: 1.0361524 (0)\ttotal: 10.7ms\tremaining: 10.7s\n",
      "100:\tlearn: 0.7615050\ttest: 0.7615050\ttest1: 0.8004292\tbest: 0.8004292 (100)\ttotal: 1.32s\tremaining: 11.8s\n",
      "200:\tlearn: 0.7247575\ttest: 0.7247575\ttest1: 0.7822577\tbest: 0.7822577 (200)\ttotal: 2.58s\tremaining: 10.3s\n",
      "300:\tlearn: 0.6936885\ttest: 0.6936885\ttest1: 0.7693543\tbest: 0.7693543 (300)\ttotal: 3.72s\tremaining: 8.64s\n",
      "400:\tlearn: 0.6690507\ttest: 0.6690507\ttest1: 0.7584265\tbest: 0.7583448 (397)\ttotal: 4.87s\tremaining: 7.27s\n",
      "500:\tlearn: 0.6471963\ttest: 0.6471963\ttest1: 0.7496280\tbest: 0.7496280 (500)\ttotal: 6.05s\tremaining: 6.03s\n",
      "600:\tlearn: 0.6278243\ttest: 0.6278243\ttest1: 0.7431273\tbest: 0.7430241 (598)\ttotal: 7.28s\tremaining: 4.83s\n",
      "700:\tlearn: 0.6102084\ttest: 0.6102084\ttest1: 0.7365482\tbest: 0.7365482 (700)\ttotal: 8.56s\tremaining: 3.65s\n",
      "800:\tlearn: 0.5951187\ttest: 0.5951187\ttest1: 0.7312444\tbest: 0.7311718 (788)\ttotal: 9.84s\tremaining: 2.44s\n",
      "900:\tlearn: 0.5805142\ttest: 0.5805142\ttest1: 0.7268434\tbest: 0.7268434 (900)\ttotal: 11.1s\tremaining: 1.22s\n",
      "999:\tlearn: 0.5668268\ttest: 0.5668268\ttest1: 0.7221610\tbest: 0.7221610 (999)\ttotal: 12.4s\tremaining: 0us\n",
      "\n",
      "bestTest = 0.7221609881\n",
      "bestIteration = 999\n",
      "\n",
      "================================================================================\n",
      "\n",
      "\n",
      "====================================5============================================\n",
      "Learning rate set to 0.115127\n",
      "0:\tlearn: 1.0340616\ttest: 1.0340616\ttest1: 1.0347068\tbest: 1.0347068 (0)\ttotal: 45.5ms\tremaining: 45.4s\n",
      "100:\tlearn: 0.7633506\ttest: 0.7633506\ttest1: 0.7886907\tbest: 0.7886907 (100)\ttotal: 1.41s\tremaining: 12.6s\n",
      "200:\tlearn: 0.7243585\ttest: 0.7243585\ttest1: 0.7721647\tbest: 0.7721647 (200)\ttotal: 2.77s\tremaining: 11s\n",
      "300:\tlearn: 0.6929848\ttest: 0.6929848\ttest1: 0.7616807\tbest: 0.7614147 (299)\ttotal: 4.04s\tremaining: 9.39s\n",
      "400:\tlearn: 0.6681810\ttest: 0.6681810\ttest1: 0.7532951\tbest: 0.7531511 (395)\ttotal: 5.35s\tremaining: 7.99s\n",
      "500:\tlearn: 0.6455191\ttest: 0.6455191\ttest1: 0.7488258\tbest: 0.7487882 (498)\ttotal: 6.64s\tremaining: 6.62s\n",
      "600:\tlearn: 0.6267266\ttest: 0.6267266\ttest1: 0.7433769\tbest: 0.7433769 (600)\ttotal: 7.91s\tremaining: 5.25s\n",
      "700:\tlearn: 0.6086610\ttest: 0.6086610\ttest1: 0.7389504\tbest: 0.7389504 (700)\ttotal: 9.26s\tremaining: 3.95s\n",
      "800:\tlearn: 0.5925159\ttest: 0.5925159\ttest1: 0.7368059\tbest: 0.7366500 (789)\ttotal: 10.5s\tremaining: 2.62s\n",
      "900:\tlearn: 0.5762203\ttest: 0.5762203\ttest1: 0.7345424\tbest: 0.7342753 (898)\ttotal: 11.9s\tremaining: 1.31s\n",
      "Stopped by overfitting detector  (50 iterations wait)\n",
      "\n",
      "bestTest = 0.7333270275\n",
      "bestIteration = 943\n",
      "\n",
      "Shrink model to first 944 iterations.\n",
      "================================================================================\n",
      "\n",
      "\n",
      "====================================6============================================\n",
      "Learning rate set to 0.115127\n",
      "0:\tlearn: 1.0341366\ttest: 1.0341366\ttest1: 1.0338592\tbest: 1.0338592 (0)\ttotal: 23.6ms\tremaining: 23.6s\n",
      "100:\tlearn: 0.7651873\ttest: 0.7651873\ttest1: 0.7874380\tbest: 0.7874380 (100)\ttotal: 1.44s\tremaining: 12.8s\n",
      "200:\tlearn: 0.7270873\ttest: 0.7270873\ttest1: 0.7711139\tbest: 0.7710632 (198)\ttotal: 2.85s\tremaining: 11.3s\n",
      "300:\tlearn: 0.6933134\ttest: 0.6933134\ttest1: 0.7576059\tbest: 0.7576059 (300)\ttotal: 4.17s\tremaining: 9.7s\n",
      "400:\tlearn: 0.6672816\ttest: 0.6672816\ttest1: 0.7492492\tbest: 0.7492492 (400)\ttotal: 5.51s\tremaining: 8.23s\n",
      "500:\tlearn: 0.6453097\ttest: 0.6453097\ttest1: 0.7432120\tbest: 0.7432120 (500)\ttotal: 6.83s\tremaining: 6.8s\n",
      "600:\tlearn: 0.6255688\ttest: 0.6255688\ttest1: 0.7386344\tbest: 0.7385445 (598)\ttotal: 8.31s\tremaining: 5.51s\n",
      "700:\tlearn: 0.6073273\ttest: 0.6073273\ttest1: 0.7368290\tbest: 0.7367986 (673)\ttotal: 9.79s\tremaining: 4.17s\n",
      "800:\tlearn: 0.5910020\ttest: 0.5910020\ttest1: 0.7348886\tbest: 0.7347751 (799)\ttotal: 11.2s\tremaining: 2.77s\n",
      "900:\tlearn: 0.5757859\ttest: 0.5757859\ttest1: 0.7323531\tbest: 0.7323488 (899)\ttotal: 12.5s\tremaining: 1.38s\n",
      "999:\tlearn: 0.5626595\ttest: 0.5626595\ttest1: 0.7306994\tbest: 0.7306138 (997)\ttotal: 13.9s\tremaining: 0us\n",
      "\n",
      "bestTest = 0.7306138252\n",
      "bestIteration = 997\n",
      "\n",
      "Shrink model to first 998 iterations.\n",
      "================================================================================\n",
      "\n",
      "\n",
      "====================================7============================================\n",
      "Learning rate set to 0.115127\n",
      "0:\tlearn: 1.0342751\ttest: 1.0342751\ttest1: 1.0331483\tbest: 1.0331483 (0)\ttotal: 14.1ms\tremaining: 14s\n"
     ]
    },
    {
     "name": "stdout",
     "output_type": "stream",
     "text": [
      "100:\tlearn: 0.7646848\ttest: 0.7646848\ttest1: 0.7805317\tbest: 0.7805317 (100)\ttotal: 1.5s\tremaining: 13.3s\n",
      "200:\tlearn: 0.7249847\ttest: 0.7249847\ttest1: 0.7641093\tbest: 0.7641093 (200)\ttotal: 2.94s\tremaining: 11.7s\n",
      "300:\tlearn: 0.6948757\ttest: 0.6948757\ttest1: 0.7527011\tbest: 0.7527011 (300)\ttotal: 4.33s\tremaining: 10.1s\n",
      "400:\tlearn: 0.6684528\ttest: 0.6684528\ttest1: 0.7443132\tbest: 0.7443132 (400)\ttotal: 5.73s\tremaining: 8.57s\n",
      "500:\tlearn: 0.6459785\ttest: 0.6459785\ttest1: 0.7377886\tbest: 0.7377886 (500)\ttotal: 7.2s\tremaining: 7.17s\n",
      "600:\tlearn: 0.6269280\ttest: 0.6269280\ttest1: 0.7338807\tbest: 0.7338807 (600)\ttotal: 8.59s\tremaining: 5.7s\n",
      "700:\tlearn: 0.6091615\ttest: 0.6091615\ttest1: 0.7311645\tbest: 0.7311106 (699)\ttotal: 10s\tremaining: 4.28s\n",
      "800:\tlearn: 0.5923329\ttest: 0.5923329\ttest1: 0.7283791\tbest: 0.7283747 (798)\ttotal: 11.4s\tremaining: 2.84s\n",
      "900:\tlearn: 0.5770849\ttest: 0.5770849\ttest1: 0.7265057\tbest: 0.7263971 (898)\ttotal: 12.9s\tremaining: 1.42s\n",
      "999:\tlearn: 0.5633631\ttest: 0.5633631\ttest1: 0.7250669\tbest: 0.7250235 (997)\ttotal: 14.4s\tremaining: 0us\n",
      "\n",
      "bestTest = 0.7250235323\n",
      "bestIteration = 997\n",
      "\n",
      "Shrink model to first 998 iterations.\n",
      "================================================================================\n",
      "\n",
      "\n",
      "====================================8============================================\n",
      "Learning rate set to 0.115127\n",
      "0:\tlearn: 1.0340249\ttest: 1.0340249\ttest1: 1.0349615\tbest: 1.0349615 (0)\ttotal: 14.6ms\tremaining: 14.6s\n",
      "100:\tlearn: 0.7634130\ttest: 0.7634130\ttest1: 0.7949547\tbest: 0.7949547 (100)\ttotal: 1.6s\tremaining: 14.3s\n",
      "200:\tlearn: 0.7246805\ttest: 0.7246805\ttest1: 0.7789523\tbest: 0.7789024 (198)\ttotal: 3.08s\tremaining: 12.3s\n",
      "300:\tlearn: 0.6928166\ttest: 0.6928166\ttest1: 0.7703893\tbest: 0.7703893 (300)\ttotal: 4.58s\tremaining: 10.6s\n",
      "400:\tlearn: 0.6667255\ttest: 0.6667255\ttest1: 0.7619277\tbest: 0.7619277 (400)\ttotal: 6.08s\tremaining: 9.08s\n",
      "500:\tlearn: 0.6447962\ttest: 0.6447962\ttest1: 0.7565243\tbest: 0.7563797 (496)\ttotal: 7.57s\tremaining: 7.54s\n",
      "600:\tlearn: 0.6245276\ttest: 0.6245276\ttest1: 0.7531626\tbest: 0.7529559 (587)\ttotal: 9.04s\tremaining: 6s\n",
      "700:\tlearn: 0.6068964\ttest: 0.6068964\ttest1: 0.7501333\tbest: 0.7500810 (672)\ttotal: 10.5s\tremaining: 4.49s\n",
      "800:\tlearn: 0.5906005\ttest: 0.5906005\ttest1: 0.7455867\tbest: 0.7455608 (798)\ttotal: 12.2s\tremaining: 3.04s\n",
      "900:\tlearn: 0.5749154\ttest: 0.5749154\ttest1: 0.7420756\tbest: 0.7419607 (898)\ttotal: 13.7s\tremaining: 1.51s\n",
      "999:\tlearn: 0.5610117\ttest: 0.5610117\ttest1: 0.7399960\tbest: 0.7399112 (994)\ttotal: 15.1s\tremaining: 0us\n",
      "\n",
      "bestTest = 0.7399112049\n",
      "bestIteration = 994\n",
      "\n",
      "Shrink model to first 995 iterations.\n",
      "================================================================================\n",
      "\n",
      "\n",
      "====================================9============================================\n",
      "Learning rate set to 0.115127\n",
      "0:\tlearn: 1.0339651\ttest: 1.0339651\ttest1: 1.0356021\tbest: 1.0356021 (0)\ttotal: 36.7ms\tremaining: 36.7s\n",
      "100:\tlearn: 0.7631641\ttest: 0.7631641\ttest1: 0.7931016\tbest: 0.7929823 (98)\ttotal: 1.57s\tremaining: 13.9s\n",
      "200:\tlearn: 0.7255375\ttest: 0.7255375\ttest1: 0.7797648\tbest: 0.7797040 (198)\ttotal: 3.08s\tremaining: 12.2s\n",
      "300:\tlearn: 0.6932618\ttest: 0.6932618\ttest1: 0.7710517\tbest: 0.7709919 (297)\ttotal: 4.48s\tremaining: 10.4s\n",
      "400:\tlearn: 0.6671489\ttest: 0.6671489\ttest1: 0.7626599\tbest: 0.7626599 (400)\ttotal: 5.89s\tremaining: 8.8s\n",
      "500:\tlearn: 0.6446573\ttest: 0.6446573\ttest1: 0.7587226\tbest: 0.7587226 (500)\ttotal: 7.27s\tremaining: 7.24s\n",
      "600:\tlearn: 0.6242369\ttest: 0.6242369\ttest1: 0.7537464\tbest: 0.7536371 (599)\ttotal: 8.7s\tremaining: 5.77s\n",
      "700:\tlearn: 0.6061507\ttest: 0.6061507\ttest1: 0.7506647\tbest: 0.7505668 (699)\ttotal: 10.1s\tremaining: 4.29s\n",
      "800:\tlearn: 0.5903073\ttest: 0.5903073\ttest1: 0.7468912\tbest: 0.7468287 (798)\ttotal: 11.5s\tremaining: 2.85s\n",
      "900:\tlearn: 0.5747235\ttest: 0.5747235\ttest1: 0.7420893\tbest: 0.7420893 (900)\ttotal: 12.8s\tremaining: 1.41s\n",
      "999:\tlearn: 0.5613184\ttest: 0.5613184\ttest1: 0.7398786\tbest: 0.7397080 (977)\ttotal: 14.2s\tremaining: 0us\n",
      "\n",
      "bestTest = 0.7397080371\n",
      "bestIteration = 977\n",
      "\n",
      "Shrink model to first 978 iterations.\n",
      "================================================================================\n",
      "\n",
      "\n",
      "====================================10============================================\n",
      "Learning rate set to 0.115127\n",
      "0:\tlearn: 1.0341343\ttest: 1.0341343\ttest1: 1.0341868\tbest: 1.0341868 (0)\ttotal: 31.9ms\tremaining: 31.9s\n",
      "100:\tlearn: 0.7631710\ttest: 0.7631710\ttest1: 0.7943401\tbest: 0.7942817 (98)\ttotal: 1.64s\tremaining: 14.6s\n",
      "200:\tlearn: 0.7232122\ttest: 0.7232122\ttest1: 0.7783695\tbest: 0.7783695 (200)\ttotal: 3.27s\tremaining: 13s\n",
      "300:\tlearn: 0.6928810\ttest: 0.6928810\ttest1: 0.7650700\tbest: 0.7650700 (300)\ttotal: 4.65s\tremaining: 10.8s\n",
      "400:\tlearn: 0.6665092\ttest: 0.6665092\ttest1: 0.7545751\tbest: 0.7545751 (400)\ttotal: 6.35s\tremaining: 9.49s\n",
      "500:\tlearn: 0.6447487\ttest: 0.6447487\ttest1: 0.7484135\tbest: 0.7483901 (497)\ttotal: 7.73s\tremaining: 7.7s\n",
      "600:\tlearn: 0.6248470\ttest: 0.6248470\ttest1: 0.7437761\tbest: 0.7435575 (596)\ttotal: 9.04s\tremaining: 6s\n",
      "700:\tlearn: 0.6076385\ttest: 0.6076385\ttest1: 0.7385218\tbest: 0.7385218 (700)\ttotal: 10.4s\tremaining: 4.42s\n",
      "800:\tlearn: 0.5914053\ttest: 0.5914053\ttest1: 0.7345517\tbest: 0.7345517 (800)\ttotal: 11.7s\tremaining: 2.9s\n",
      "900:\tlearn: 0.5767397\ttest: 0.5767397\ttest1: 0.7309230\tbest: 0.7309230 (900)\ttotal: 13s\tremaining: 1.43s\n",
      "999:\tlearn: 0.5630444\ttest: 0.5630444\ttest1: 0.7288789\tbest: 0.7288789 (999)\ttotal: 14.3s\tremaining: 0us\n",
      "\n",
      "bestTest = 0.7288788605\n",
      "bestIteration = 999\n",
      "\n",
      "================================================================================\n",
      "\n",
      "\n",
      "====================================11============================================\n",
      "Learning rate set to 0.115127\n",
      "0:\tlearn: 1.0340795\ttest: 1.0340795\ttest1: 1.0345846\tbest: 1.0345846 (0)\ttotal: 29.6ms\tremaining: 29.6s\n",
      "100:\tlearn: 0.7614100\ttest: 0.7614100\ttest1: 0.7894903\tbest: 0.7894903 (100)\ttotal: 1.42s\tremaining: 12.7s\n",
      "200:\tlearn: 0.7248427\ttest: 0.7248427\ttest1: 0.7729996\tbest: 0.7729996 (200)\ttotal: 2.76s\tremaining: 11s\n",
      "300:\tlearn: 0.6932776\ttest: 0.6932776\ttest1: 0.7603873\tbest: 0.7603873 (300)\ttotal: 4.03s\tremaining: 9.35s\n",
      "400:\tlearn: 0.6678949\ttest: 0.6678949\ttest1: 0.7525202\tbest: 0.7525202 (400)\ttotal: 5.34s\tremaining: 7.98s\n",
      "500:\tlearn: 0.6455310\ttest: 0.6455310\ttest1: 0.7453151\tbest: 0.7452516 (497)\ttotal: 6.61s\tremaining: 6.58s\n",
      "600:\tlearn: 0.6251851\ttest: 0.6251851\ttest1: 0.7402436\tbest: 0.7402436 (600)\ttotal: 7.89s\tremaining: 5.24s\n",
      "700:\tlearn: 0.6076803\ttest: 0.6076803\ttest1: 0.7368482\tbest: 0.7367843 (694)\ttotal: 9.17s\tremaining: 3.91s\n",
      "800:\tlearn: 0.5909278\ttest: 0.5909278\ttest1: 0.7344412\tbest: 0.7343649 (797)\ttotal: 10.5s\tremaining: 2.61s\n",
      "900:\tlearn: 0.5762373\ttest: 0.5762373\ttest1: 0.7325166\tbest: 0.7323746 (896)\ttotal: 11.8s\tremaining: 1.29s\n",
      "999:\tlearn: 0.5621680\ttest: 0.5621680\ttest1: 0.7300535\tbest: 0.7300207 (996)\ttotal: 13s\tremaining: 0us\n",
      "\n",
      "bestTest = 0.7300206542\n",
      "bestIteration = 996\n",
      "\n",
      "Shrink model to first 997 iterations.\n",
      "================================================================================\n",
      "\n",
      "\n",
      "====================================12============================================\n",
      "Learning rate set to 0.115127\n",
      "0:\tlearn: 1.0340772\ttest: 1.0340772\ttest1: 1.0344739\tbest: 1.0344739 (0)\ttotal: 13.1ms\tremaining: 13.1s\n",
      "100:\tlearn: 0.7616615\ttest: 0.7616615\ttest1: 0.7930807\tbest: 0.7930807 (100)\ttotal: 1.39s\tremaining: 12.4s\n",
      "200:\tlearn: 0.7230691\ttest: 0.7230691\ttest1: 0.7782496\tbest: 0.7780677 (198)\ttotal: 2.71s\tremaining: 10.8s\n",
      "300:\tlearn: 0.6925116\ttest: 0.6925116\ttest1: 0.7666576\tbest: 0.7666576 (300)\ttotal: 3.99s\tremaining: 9.26s\n",
      "400:\tlearn: 0.6676082\ttest: 0.6676082\ttest1: 0.7600770\tbest: 0.7600005 (395)\ttotal: 5.25s\tremaining: 7.84s\n",
      "500:\tlearn: 0.6452617\ttest: 0.6452617\ttest1: 0.7566134\tbest: 0.7564472 (495)\ttotal: 6.5s\tremaining: 6.47s\n",
      "600:\tlearn: 0.6249979\ttest: 0.6249979\ttest1: 0.7530432\tbest: 0.7526866 (599)\ttotal: 7.82s\tremaining: 5.19s\n",
      "700:\tlearn: 0.6066040\ttest: 0.6066040\ttest1: 0.7503704\tbest: 0.7503110 (699)\ttotal: 9.1s\tremaining: 3.88s\n",
      "800:\tlearn: 0.5900306\ttest: 0.5900306\ttest1: 0.7468501\tbest: 0.7468501 (800)\ttotal: 10.4s\tremaining: 2.58s\n",
      "900:\tlearn: 0.5754225\ttest: 0.5754225\ttest1: 0.7450414\tbest: 0.7450414 (900)\ttotal: 11.7s\tremaining: 1.28s\n",
      "Stopped by overfitting detector  (50 iterations wait)\n",
      "\n",
      "bestTest = 0.7450158972\n",
      "bestIteration = 901\n",
      "\n",
      "Shrink model to first 902 iterations.\n",
      "================================================================================\n",
      "\n",
      "\n",
      "====================================13============================================\n",
      "Learning rate set to 0.115127\n",
      "0:\tlearn: 1.0339979\ttest: 1.0339979\ttest1: 1.0351454\tbest: 1.0351454 (0)\ttotal: 13.1ms\tremaining: 13.1s\n"
     ]
    },
    {
     "name": "stdout",
     "output_type": "stream",
     "text": [
      "100:\tlearn: 0.7640563\ttest: 0.7640563\ttest1: 0.7903521\tbest: 0.7903521 (100)\ttotal: 1.43s\tremaining: 12.7s\n",
      "200:\tlearn: 0.7250922\ttest: 0.7250922\ttest1: 0.7742360\tbest: 0.7742360 (200)\ttotal: 2.76s\tremaining: 11s\n",
      "300:\tlearn: 0.6928476\ttest: 0.6928476\ttest1: 0.7601267\tbest: 0.7601267 (300)\ttotal: 4.04s\tremaining: 9.38s\n",
      "400:\tlearn: 0.6666693\ttest: 0.6666693\ttest1: 0.7543122\tbest: 0.7543122 (400)\ttotal: 5.37s\tremaining: 8.02s\n",
      "500:\tlearn: 0.6448300\ttest: 0.6448300\ttest1: 0.7485759\tbest: 0.7485093 (498)\ttotal: 6.65s\tremaining: 6.63s\n",
      "600:\tlearn: 0.6257707\ttest: 0.6257707\ttest1: 0.7440471\tbest: 0.7439069 (593)\ttotal: 7.98s\tremaining: 5.29s\n",
      "700:\tlearn: 0.6074275\ttest: 0.6074275\ttest1: 0.7388270\tbest: 0.7388270 (700)\ttotal: 9.29s\tremaining: 3.96s\n",
      "800:\tlearn: 0.5904912\ttest: 0.5904912\ttest1: 0.7358139\tbest: 0.7354644 (785)\ttotal: 10.6s\tremaining: 2.64s\n",
      "900:\tlearn: 0.5749539\ttest: 0.5749539\ttest1: 0.7333275\tbest: 0.7333275 (900)\ttotal: 12s\tremaining: 1.31s\n",
      "999:\tlearn: 0.5605801\ttest: 0.5605801\ttest1: 0.7314475\tbest: 0.7305282 (981)\ttotal: 13.3s\tremaining: 0us\n",
      "\n",
      "bestTest = 0.7305282386\n",
      "bestIteration = 981\n",
      "\n",
      "Shrink model to first 982 iterations.\n",
      "================================================================================\n",
      "\n",
      "\n",
      "====================================14============================================\n",
      "Learning rate set to 0.115127\n",
      "0:\tlearn: 1.0342903\ttest: 1.0342903\ttest1: 1.0329002\tbest: 1.0329002 (0)\ttotal: 13.8ms\tremaining: 13.8s\n",
      "100:\tlearn: 0.7633224\ttest: 0.7633224\ttest1: 0.7813461\tbest: 0.7813461 (100)\ttotal: 1.47s\tremaining: 13.1s\n",
      "200:\tlearn: 0.7254211\ttest: 0.7254211\ttest1: 0.7700796\tbest: 0.7697925 (198)\ttotal: 2.85s\tremaining: 11.4s\n",
      "300:\tlearn: 0.6924025\ttest: 0.6924025\ttest1: 0.7631613\tbest: 0.7628514 (296)\ttotal: 4.23s\tremaining: 9.81s\n",
      "400:\tlearn: 0.6661032\ttest: 0.6661032\ttest1: 0.7554283\tbest: 0.7552899 (394)\ttotal: 5.58s\tremaining: 8.33s\n",
      "500:\tlearn: 0.6446922\ttest: 0.6446922\ttest1: 0.7519891\tbest: 0.7518770 (497)\ttotal: 6.93s\tremaining: 6.91s\n",
      "600:\tlearn: 0.6249878\ttest: 0.6249878\ttest1: 0.7491716\tbest: 0.7488522 (596)\ttotal: 8.28s\tremaining: 5.5s\n",
      "700:\tlearn: 0.6072714\ttest: 0.6072714\ttest1: 0.7462376\tbest: 0.7462042 (699)\ttotal: 9.7s\tremaining: 4.14s\n",
      "800:\tlearn: 0.5907072\ttest: 0.5907072\ttest1: 0.7437503\tbest: 0.7436603 (787)\ttotal: 11.1s\tremaining: 2.75s\n",
      "900:\tlearn: 0.5759480\ttest: 0.5759480\ttest1: 0.7408266\tbest: 0.7406953 (899)\ttotal: 12.5s\tremaining: 1.38s\n",
      "999:\tlearn: 0.5613513\ttest: 0.5613513\ttest1: 0.7397735\tbest: 0.7393662 (992)\ttotal: 14.1s\tremaining: 0us\n",
      "\n",
      "bestTest = 0.7393662097\n",
      "bestIteration = 992\n",
      "\n",
      "Shrink model to first 993 iterations.\n",
      "================================================================================\n",
      "\n",
      "\n",
      "====================================15============================================\n",
      "Learning rate set to 0.115127\n",
      "0:\tlearn: 1.0342157\ttest: 1.0342157\ttest1: 1.0340553\tbest: 1.0340553 (0)\ttotal: 19.2ms\tremaining: 19.2s\n",
      "100:\tlearn: 0.7654050\ttest: 0.7654050\ttest1: 0.7786842\tbest: 0.7786842 (100)\ttotal: 1.94s\tremaining: 17.3s\n",
      "200:\tlearn: 0.7272716\ttest: 0.7272716\ttest1: 0.7625059\tbest: 0.7625059 (200)\ttotal: 3.42s\tremaining: 13.6s\n",
      "300:\tlearn: 0.6982387\ttest: 0.6982387\ttest1: 0.7519249\tbest: 0.7519249 (300)\ttotal: 4.83s\tremaining: 11.2s\n",
      "400:\tlearn: 0.6715949\ttest: 0.6715949\ttest1: 0.7441323\tbest: 0.7441323 (400)\ttotal: 6.34s\tremaining: 9.46s\n",
      "500:\tlearn: 0.6501904\ttest: 0.6501904\ttest1: 0.7363969\tbest: 0.7363969 (500)\ttotal: 7.83s\tremaining: 7.8s\n",
      "600:\tlearn: 0.6296877\ttest: 0.6296877\ttest1: 0.7291701\tbest: 0.7291701 (600)\ttotal: 9.36s\tremaining: 6.22s\n",
      "700:\tlearn: 0.6109765\ttest: 0.6109765\ttest1: 0.7255282\tbest: 0.7254430 (699)\ttotal: 10.8s\tremaining: 4.61s\n",
      "800:\tlearn: 0.5941330\ttest: 0.5941330\ttest1: 0.7227912\tbest: 0.7227507 (799)\ttotal: 12.3s\tremaining: 3.06s\n",
      "900:\tlearn: 0.5791946\ttest: 0.5791946\ttest1: 0.7211032\tbest: 0.7204309 (870)\ttotal: 13.8s\tremaining: 1.52s\n",
      "Stopped by overfitting detector  (50 iterations wait)\n",
      "\n",
      "bestTest = 0.7204308896\n",
      "bestIteration = 870\n",
      "\n",
      "Shrink model to first 871 iterations.\n",
      "================================================================================\n",
      "\n",
      "\n",
      "mean:0.7305238769793679\n"
     ]
    }
   ],
   "source": [
    "random.seed(42)\n",
    "cat_models={}\n",
    "outcomes=[]\n",
    "for fold in range(15):\n",
    "    \n",
    "    print(f'===================================={fold+1}============================================')\n",
    "    train_idx, valid_idx = folds[fold]\n",
    "    X_train, X_valid, y_train, y_valid = x_train1.iloc[train_idx], x_train1.iloc[valid_idx], y_train1[train_idx], y_train1[valid_idx]\n",
    "    cat = CatBoostClassifier()\n",
    "    cat.fit(X_train, y_train, \n",
    "            eval_set=[(X_train, y_train), (X_valid, y_valid)], use_best_model=True, \n",
    "            early_stopping_rounds=50,\n",
    "           verbose=100) \n",
    "    cat_models[fold]=cat\n",
    "    \n",
    "    prediction = cat.predict_proba(X_valid)\n",
    "    logloss = log_loss(to_categorical(y_valid), prediction)\n",
    "    outcomes.append(logloss)\n",
    "    print(f'================================================================================\\n\\n')\n",
    "    \n",
    "mean_outcome = np.mean(outcomes)\n",
    "print(\"mean:{}\".format(mean_outcome))"
   ]
  },
  {
   "cell_type": "code",
   "execution_count": 32,
   "metadata": {},
   "outputs": [
    {
     "data": {
      "image/png": "[encoded data removed]",
      "text/plain": [
       "<Figure size 720x576 with 1 Axes>"
      ]
     },
     "metadata": {},
     "output_type": "display_data"
    }
   ],
   "source": [
    "plot_feature_importance(cat.get_feature_importance(), x_train1.columns, 'CATBOOST')"
   ]
  },
  {
   "cell_type": "markdown",
   "metadata": {},
   "source": [
    "# Modeling 2) categorical feature 전처리 x\n",
    "\n",
    "- loss: 0.6844"
   ]
  },
  {
   "cell_type": "code",
   "execution_count": 51,
   "metadata": {},
   "outputs": [],
   "source": [
    "x_train2 = train.drop('credit', axis=1)\n",
    "y_train2 = train['credit']"
   ]
  },
  {
   "cell_type": "code",
   "execution_count": 52,
   "metadata": {
    "scrolled": true
   },
   "outputs": [
    {
     "name": "stdout",
     "output_type": "stream",
     "text": [
      "<class 'pandas.core.frame.DataFrame'>\n",
      "RangeIndex: 26451 entries, 0 to 26450\n",
      "Data columns (total 23 columns):\n",
      " #   Column           Non-Null Count  Dtype  \n",
      "---  ------           --------------  -----  \n",
      " 0   gender           26451 non-null  int64  \n",
      " 1   car              26451 non-null  int64  \n",
      " 2   reality          26451 non-null  int64  \n",
      " 3   income_total     26451 non-null  float64\n",
      " 4   income_type      26451 non-null  object \n",
      " 5   edu_type         26451 non-null  object \n",
      " 6   family_type      26451 non-null  object \n",
      " 7   house_type       26451 non-null  object \n",
      " 8   DAYS_EMPLOYED    26451 non-null  int64  \n",
      " 9   work_phone       26451 non-null  int64  \n",
      " 10  phone            26451 non-null  int64  \n",
      " 11  email            26451 non-null  int64  \n",
      " 12  occyp_type       26451 non-null  object \n",
      " 13  family_size      26451 non-null  int32  \n",
      " 14  begin_month      26451 non-null  float64\n",
      " 15  Age              26451 non-null  int32  \n",
      " 16  start_work       26451 non-null  int32  \n",
      " 17  income_age       26451 non-null  float64\n",
      " 18  income_employed  26451 non-null  float64\n",
      " 19  income_family    26451 non-null  float64\n",
      " 20  privat_id        26451 non-null  object \n",
      " 21  card_id          26451 non-null  object \n",
      " 22  e_p              26451 non-null  int64  \n",
      "dtypes: float64(5), int32(3), int64(8), object(7)\n",
      "memory usage: 4.3+ MB\n"
     ]
    }
   ],
   "source": [
    "x_train2.info()"
   ]
  },
  {
   "cell_type": "markdown",
   "metadata": {},
   "source": [
    "- categorical 변수"
   ]
  },
  {
   "cell_type": "code",
   "execution_count": 53,
   "metadata": {},
   "outputs": [],
   "source": [
    "cat_features = ['income_type', 'edu_type', 'family_type', 'house_type', 'occyp_type', 'privat_id', 'card_id']"
   ]
  },
  {
   "cell_type": "code",
   "execution_count": 54,
   "metadata": {},
   "outputs": [],
   "source": [
    "skf = StratifiedKFold(n_splits=15, shuffle=True, random_state=42)\n",
    "folds = []\n",
    "for train_idx, valid_idx in skf.split(x_train2, y_train2):\n",
    "    folds.append((train_idx, valid_idx))"
   ]
  },
  {
   "cell_type": "code",
   "execution_count": 55,
   "metadata": {
    "scrolled": true
   },
   "outputs": [
    {
     "name": "stdout",
     "output_type": "stream",
     "text": [
      "====================================1============================================\n",
      "Learning rate set to 0.115127\n",
      "0:\tlearn: 1.0347903\ttest: 1.0347827\ttest1: 1.0334631\tbest: 1.0334631 (0)\ttotal: 74.3ms\tremaining: 1m 14s\n",
      "100:\tlearn: 0.7209686\ttest: 0.5070745\ttest1: 0.6670750\tbest: 0.6670750 (100)\ttotal: 11s\tremaining: 1m 37s\n",
      "200:\tlearn: 0.6999318\ttest: 0.4907987\ttest1: 0.6617527\tbest: 0.6617063 (186)\ttotal: 24.4s\tremaining: 1m 36s\n",
      "300:\tlearn: 0.6838107\ttest: 0.4815542\ttest1: 0.6586789\tbest: 0.6586789 (300)\ttotal: 37.7s\tremaining: 1m 27s\n",
      "Stopped by overfitting detector  (50 iterations wait)\n",
      "\n",
      "bestTest = 0.6583820683\n",
      "bestIteration = 308\n",
      "\n",
      "Shrink model to first 309 iterations.\n",
      "================================================================================\n",
      "\n",
      "\n",
      "====================================2============================================\n",
      "Learning rate set to 0.115127\n",
      "0:\tlearn: 1.0346784\ttest: 1.0346344\ttest1: 1.0340080\tbest: 1.0340080 (0)\ttotal: 67.6ms\tremaining: 1m 7s\n",
      "100:\tlearn: 0.7205299\ttest: 0.5027774\ttest1: 0.6922540\tbest: 0.6918430 (94)\ttotal: 10.4s\tremaining: 1m 32s\n",
      "200:\tlearn: 0.7008080\ttest: 0.4813026\ttest1: 0.6873066\tbest: 0.6872349 (198)\ttotal: 21.4s\tremaining: 1m 25s\n",
      "Stopped by overfitting detector  (50 iterations wait)\n",
      "\n",
      "bestTest = 0.6864109001\n",
      "bestIteration = 232\n",
      "\n",
      "Shrink model to first 233 iterations.\n",
      "================================================================================\n",
      "\n",
      "\n",
      "====================================3============================================\n",
      "Learning rate set to 0.115127\n",
      "0:\tlearn: 1.0344851\ttest: 1.0344375\ttest1: 1.0352850\tbest: 1.0352850 (0)\ttotal: 81.9ms\tremaining: 1m 21s\n",
      "100:\tlearn: 0.7196331\ttest: 0.5096314\ttest1: 0.6767561\tbest: 0.6767561 (100)\ttotal: 11.1s\tremaining: 1m 39s\n",
      "200:\tlearn: 0.6998614\ttest: 0.4887623\ttest1: 0.6711470\tbest: 0.6709504 (198)\ttotal: 22.7s\tremaining: 1m 30s\n",
      "Stopped by overfitting detector  (50 iterations wait)\n",
      "\n",
      "bestTest = 0.6701313414\n",
      "bestIteration = 244\n",
      "\n",
      "Shrink model to first 245 iterations.\n",
      "================================================================================\n",
      "\n",
      "\n",
      "====================================4============================================\n",
      "Learning rate set to 0.115127\n",
      "0:\tlearn: 1.0344165\ttest: 1.0344961\ttest1: 1.0362667\tbest: 1.0362667 (0)\ttotal: 52.3ms\tremaining: 52.3s\n",
      "100:\tlearn: 0.7205783\ttest: 0.5197111\ttest1: 0.6792255\tbest: 0.6792255 (100)\ttotal: 10.2s\tremaining: 1m 31s\n",
      "200:\tlearn: 0.7004918\ttest: 0.4967516\ttest1: 0.6697847\tbest: 0.6697847 (200)\ttotal: 21.2s\tremaining: 1m 24s\n",
      "300:\tlearn: 0.6834179\ttest: 0.4883379\ttest1: 0.6667315\tbest: 0.6667315 (300)\ttotal: 32.7s\tremaining: 1m 15s\n",
      "400:\tlearn: 0.6667122\ttest: 0.4809029\ttest1: 0.6648806\tbest: 0.6647600 (394)\ttotal: 43.9s\tremaining: 1m 5s\n",
      "500:\tlearn: 0.6504291\ttest: 0.4733535\ttest1: 0.6631010\tbest: 0.6629777 (472)\ttotal: 55.1s\tremaining: 54.9s\n",
      "Stopped by overfitting detector  (50 iterations wait)\n",
      "\n",
      "bestTest = 0.6628959914\n",
      "bestIteration = 506\n",
      "\n",
      "Shrink model to first 507 iterations.\n",
      "================================================================================\n",
      "\n",
      "\n",
      "====================================5============================================\n",
      "Learning rate set to 0.115127\n",
      "0:\tlearn: 1.0346410\ttest: 1.0345539\ttest1: 1.0346715\tbest: 1.0346715 (0)\ttotal: 53.3ms\tremaining: 53.2s\n",
      "100:\tlearn: 0.7206655\ttest: 0.5490280\ttest1: 0.6945954\tbest: 0.6945954 (100)\ttotal: 9.98s\tremaining: 1m 28s\n",
      "200:\tlearn: 0.7022836\ttest: 0.5256377\ttest1: 0.6869811\tbest: 0.6868715 (197)\ttotal: 21.1s\tremaining: 1m 24s\n",
      "300:\tlearn: 0.6855436\ttest: 0.5118253\ttest1: 0.6848317\tbest: 0.6843922 (292)\ttotal: 31.9s\tremaining: 1m 14s\n",
      "400:\tlearn: 0.6688188\ttest: 0.5001061\ttest1: 0.6818667\tbest: 0.6816885 (380)\ttotal: 43.6s\tremaining: 1m 5s\n",
      "Stopped by overfitting detector  (50 iterations wait)\n",
      "\n",
      "bestTest = 0.6803350074\n",
      "bestIteration = 434\n",
      "\n",
      "Shrink model to first 435 iterations.\n",
      "================================================================================\n",
      "\n",
      "\n",
      "====================================6============================================\n",
      "Learning rate set to 0.115127\n",
      "0:\tlearn: 1.0347335\ttest: 1.0347164\ttest1: 1.0338629\tbest: 1.0338629 (0)\ttotal: 56.3ms\tremaining: 56.2s\n",
      "100:\tlearn: 0.7196293\ttest: 0.5491474\ttest1: 0.7098546\tbest: 0.7098227 (97)\ttotal: 10.5s\tremaining: 1m 33s\n",
      "200:\tlearn: 0.6986764\ttest: 0.5010968\ttest1: 0.7055328\tbest: 0.7050819 (173)\ttotal: 21.7s\tremaining: 1m 26s\n",
      "300:\tlearn: 0.6800036\ttest: 0.4869223\ttest1: 0.7036314\tbest: 0.7036314 (300)\ttotal: 33s\tremaining: 1m 16s\n",
      "Stopped by overfitting detector  (50 iterations wait)\n",
      "\n",
      "bestTest = 0.7033425431\n",
      "bestIteration = 330\n",
      "\n",
      "Shrink model to first 331 iterations.\n",
      "================================================================================\n",
      "\n",
      "\n",
      "====================================7============================================\n",
      "Learning rate set to 0.115127\n",
      "0:\tlearn: 1.0356617\ttest: 1.0355315\ttest1: 1.0344702\tbest: 1.0344702 (0)\ttotal: 83.4ms\tremaining: 1m 23s\n",
      "100:\tlearn: 0.7180909\ttest: 0.5075444\ttest1: 0.6867530\tbest: 0.6866628 (98)\ttotal: 9.89s\tremaining: 1m 28s\n",
      "200:\tlearn: 0.6964014\ttest: 0.4886321\ttest1: 0.6816431\tbest: 0.6815897 (195)\ttotal: 20.7s\tremaining: 1m 22s\n",
      "300:\tlearn: 0.6798073\ttest: 0.4776801\ttest1: 0.6802427\tbest: 0.6800427 (297)\ttotal: 31.8s\tremaining: 1m 13s\n",
      "400:\tlearn: 0.6631550\ttest: 0.4717839\ttest1: 0.6797765\tbest: 0.6794184 (373)\ttotal: 43s\tremaining: 1m 4s\n",
      "Stopped by overfitting detector  (50 iterations wait)\n",
      "\n",
      "bestTest = 0.6792783889\n",
      "bestIteration = 409\n",
      "\n",
      "Shrink model to first 410 iterations.\n",
      "================================================================================\n",
      "\n",
      "\n",
      "====================================8============================================\n",
      "Learning rate set to 0.115127\n",
      "0:\tlearn: 1.0345329\ttest: 1.0344275\ttest1: 1.0351447\tbest: 1.0351447 (0)\ttotal: 94.7ms\tremaining: 1m 34s\n",
      "100:\tlearn: 0.7195676\ttest: 0.5075314\ttest1: 0.6961698\tbest: 0.6961581 (98)\ttotal: 11.4s\tremaining: 1m 41s\n",
      "200:\tlearn: 0.6997675\ttest: 0.4866284\ttest1: 0.6920605\tbest: 0.6919530 (196)\ttotal: 23s\tremaining: 1m 31s\n",
      "300:\tlearn: 0.6818087\ttest: 0.4771156\ttest1: 0.6907954\tbest: 0.6903642 (257)\ttotal: 35s\tremaining: 1m 21s\n",
      "Stopped by overfitting detector  (50 iterations wait)\n",
      "\n",
      "bestTest = 0.6903641742\n",
      "bestIteration = 257\n",
      "\n",
      "Shrink model to first 258 iterations.\n",
      "================================================================================\n",
      "\n",
      "\n",
      "====================================9============================================\n",
      "Learning rate set to 0.115127\n",
      "0:\tlearn: 1.0353412\ttest: 1.0352320\ttest1: 1.0367495\tbest: 1.0367495 (0)\ttotal: 89.5ms\tremaining: 1m 29s\n",
      "100:\tlearn: 0.7204787\ttest: 0.5045773\ttest1: 0.7042174\tbest: 0.7042174 (100)\ttotal: 10.6s\tremaining: 1m 33s\n",
      "200:\tlearn: 0.6996816\ttest: 0.4847376\ttest1: 0.6997646\tbest: 0.6994300 (184)\ttotal: 22s\tremaining: 1m 27s\n",
      "Stopped by overfitting detector  (50 iterations wait)\n",
      "\n",
      "bestTest = 0.698809657\n",
      "bestIteration = 226\n",
      "\n",
      "Shrink model to first 227 iterations.\n",
      "================================================================================\n",
      "\n",
      "\n",
      "====================================10============================================\n",
      "Learning rate set to 0.115127\n",
      "0:\tlearn: 1.0355948\ttest: 1.0354677\ttest1: 1.0355696\tbest: 1.0355696 (0)\ttotal: 80.8ms\tremaining: 1m 20s\n",
      "100:\tlearn: 0.7196490\ttest: 0.5318564\ttest1: 0.6862183\tbest: 0.6862183 (100)\ttotal: 10.3s\tremaining: 1m 32s\n",
      "200:\tlearn: 0.6976287\ttest: 0.4983492\ttest1: 0.6776142\tbest: 0.6773526 (195)\ttotal: 21.9s\tremaining: 1m 27s\n",
      "300:\tlearn: 0.6815938\ttest: 0.4882382\ttest1: 0.6765847\tbest: 0.6761070 (256)\ttotal: 33.9s\tremaining: 1m 18s\n",
      "Stopped by overfitting detector  (50 iterations wait)\n",
      "\n",
      "bestTest = 0.676106968\n",
      "bestIteration = 256\n",
      "\n",
      "Shrink model to first 257 iterations.\n",
      "================================================================================\n",
      "\n",
      "\n",
      "====================================11============================================\n",
      "Learning rate set to 0.115127\n",
      "0:\tlearn: 1.0345676\ttest: 1.0344675\ttest1: 1.0350055\tbest: 1.0350055 (0)\ttotal: 98.2ms\tremaining: 1m 38s\n",
      "100:\tlearn: 0.7205369\ttest: 0.5068138\ttest1: 0.6876775\tbest: 0.6876068 (99)\ttotal: 11.7s\tremaining: 1m 43s\n",
      "200:\tlearn: 0.6989850\ttest: 0.4888265\ttest1: 0.6844919\tbest: 0.6838184 (190)\ttotal: 24.2s\tremaining: 1m 36s\n",
      "300:\tlearn: 0.6824065\ttest: 0.4758052\ttest1: 0.6806559\tbest: 0.6806559 (300)\ttotal: 36.4s\tremaining: 1m 24s\n"
     ]
    },
    {
     "name": "stdout",
     "output_type": "stream",
     "text": [
      "Stopped by overfitting detector  (50 iterations wait)\n",
      "\n",
      "bestTest = 0.6805115307\n",
      "bestIteration = 302\n",
      "\n",
      "Shrink model to first 303 iterations.\n",
      "================================================================================\n",
      "\n",
      "\n",
      "====================================12============================================\n",
      "Learning rate set to 0.115127\n",
      "0:\tlearn: 1.0345655\ttest: 1.0344962\ttest1: 1.0350228\tbest: 1.0350228 (0)\ttotal: 105ms\tremaining: 1m 44s\n",
      "100:\tlearn: 0.7176024\ttest: 0.5025658\ttest1: 0.7086076\tbest: 0.7086076 (100)\ttotal: 10.9s\tremaining: 1m 37s\n",
      "200:\tlearn: 0.6972867\ttest: 0.4841758\ttest1: 0.7067501\tbest: 0.7064650 (181)\ttotal: 22.9s\tremaining: 1m 31s\n",
      "Stopped by overfitting detector  (50 iterations wait)\n",
      "\n",
      "bestTest = 0.7064650411\n",
      "bestIteration = 181\n",
      "\n",
      "Shrink model to first 182 iterations.\n",
      "================================================================================\n",
      "\n",
      "\n",
      "====================================13============================================\n",
      "Learning rate set to 0.115127\n",
      "0:\tlearn: 1.0356012\ttest: 1.0354124\ttest1: 1.0356089\tbest: 1.0356089 (0)\ttotal: 85.3ms\tremaining: 1m 25s\n",
      "100:\tlearn: 0.7202948\ttest: 0.4999251\ttest1: 0.6928662\tbest: 0.6928662 (100)\ttotal: 12.4s\tremaining: 1m 49s\n",
      "200:\tlearn: 0.6993911\ttest: 0.4818414\ttest1: 0.6882764\tbest: 0.6882608 (197)\ttotal: 24.7s\tremaining: 1m 38s\n",
      "300:\tlearn: 0.6835711\ttest: 0.4720428\ttest1: 0.6863056\tbest: 0.6863056 (300)\ttotal: 37.8s\tremaining: 1m 27s\n",
      "400:\tlearn: 0.6654430\ttest: 0.4660377\ttest1: 0.6851350\tbest: 0.6848158 (356)\ttotal: 50.9s\tremaining: 1m 15s\n",
      "Stopped by overfitting detector  (50 iterations wait)\n",
      "\n",
      "bestTest = 0.6848157795\n",
      "bestIteration = 356\n",
      "\n",
      "Shrink model to first 357 iterations.\n",
      "================================================================================\n",
      "\n",
      "\n",
      "====================================14============================================\n",
      "Learning rate set to 0.115127\n",
      "0:\tlearn: 1.0356515\ttest: 1.0355226\ttest1: 1.0344779\tbest: 1.0344779 (0)\ttotal: 116ms\tremaining: 1m 55s\n",
      "100:\tlearn: 0.7166073\ttest: 0.5360419\ttest1: 0.7078489\tbest: 0.7078489 (100)\ttotal: 13s\tremaining: 1m 55s\n",
      "200:\tlearn: 0.6962626\ttest: 0.5231364\ttest1: 0.7036598\tbest: 0.7034895 (197)\ttotal: 26.7s\tremaining: 1m 46s\n",
      "300:\tlearn: 0.6787578\ttest: 0.5108852\ttest1: 0.7024620\tbest: 0.7023790 (293)\ttotal: 40.8s\tremaining: 1m 34s\n",
      "400:\tlearn: 0.6617683\ttest: 0.4869658\ttest1: 0.7009556\tbest: 0.7007990 (395)\ttotal: 55.2s\tremaining: 1m 22s\n",
      "Stopped by overfitting detector  (50 iterations wait)\n",
      "\n",
      "bestTest = 0.7007990044\n",
      "bestIteration = 395\n",
      "\n",
      "Shrink model to first 396 iterations.\n",
      "================================================================================\n",
      "\n",
      "\n",
      "====================================15============================================\n",
      "Learning rate set to 0.115127\n",
      "0:\tlearn: 1.0346907\ttest: 1.0345485\ttest1: 1.0338502\tbest: 1.0338502 (0)\ttotal: 99.5ms\tremaining: 1m 39s\n",
      "100:\tlearn: 0.7197671\ttest: 0.5216233\ttest1: 0.6951895\tbest: 0.6951629 (99)\ttotal: 12.4s\tremaining: 1m 50s\n",
      "200:\tlearn: 0.7000165\ttest: 0.4944798\ttest1: 0.6902633\tbest: 0.6902633 (200)\ttotal: 27.4s\tremaining: 1m 48s\n",
      "300:\tlearn: 0.6814367\ttest: 0.4810167\ttest1: 0.6873855\tbest: 0.6870306 (284)\ttotal: 42s\tremaining: 1m 37s\n",
      "Stopped by overfitting detector  (50 iterations wait)\n",
      "\n",
      "bestTest = 0.6870305932\n",
      "bestIteration = 284\n",
      "\n",
      "Shrink model to first 285 iterations.\n",
      "================================================================================\n",
      "\n",
      "\n",
      "mean:0.684378599231204\n"
     ]
    }
   ],
   "source": [
    "random.seed(42)\n",
    "cat_models={}\n",
    "outcomes=[]\n",
    "for fold in range(15):\n",
    "    \n",
    "    print(f'===================================={fold+1}============================================')\n",
    "    train_idx, valid_idx = folds[fold]\n",
    "    X_train, X_valid, y_train, y_valid = x_train2.iloc[train_idx], x_train2.iloc[valid_idx], y_train2[train_idx], y_train2[valid_idx]\n",
    "    cat = CatBoostClassifier()\n",
    "    cat.fit(X_train, y_train, \n",
    "            eval_set=[(X_train, y_train), (X_valid, y_valid)], use_best_model=True, \n",
    "            early_stopping_rounds=50, cat_features = cat_features,\n",
    "           verbose=100) \n",
    "    cat_models[fold]=cat\n",
    "    \n",
    "    prediction = cat.predict_proba(X_valid)\n",
    "    logloss = log_loss(to_categorical(y_valid), prediction)\n",
    "    outcomes.append(logloss)\n",
    "    print(f'================================================================================\\n\\n')\n",
    "    \n",
    "mean_outcome = np.mean(outcomes)\n",
    "print(\"mean:{}\".format(mean_outcome))"
   ]
  },
  {
   "cell_type": "code",
   "execution_count": 56,
   "metadata": {},
   "outputs": [
    {
     "data": {
      "image/png": "[encoded data removed]",
      "text/plain": [
       "<Figure size 720x576 with 1 Axes>"
      ]
     },
     "metadata": {},
     "output_type": "display_data"
    }
   ],
   "source": [
    "plot_feature_importance(cat.get_feature_importance(), x_train2.columns, 'CATBOOST')"
   ]
  },
  {
   "cell_type": "code",
   "execution_count": null,
   "metadata": {},
   "outputs": [],
   "source": []
  }
 ],
 "metadata": {
  "kernelspec": {
   "display_name": "Python 3",
   "language": "python",
   "name": "python3"
  },
  "language_info": {
   "codemirror_mode": {
    "name": "ipython",
    "version": 3
   },
   "file_extension": ".py",
   "mimetype": "text/x-python",
   "name": "python",
   "nbconvert_exporter": "python",
   "pygments_lexer": "ipython3",
   "version": "3.8.3"
  }
 },
 "nbformat": 4,
 "nbformat_minor": 4
}
