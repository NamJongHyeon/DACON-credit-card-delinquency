{
 "cells": [
  {
   "cell_type": "markdown",
   "metadata": {
    "id": "N2L0-oMi1VMs"
   },
   "source": [
    "# DACON : 신용카드 사용자 연체 예측 AI 경진대회"
   ]
  },
  {
   "cell_type": "markdown",
   "metadata": {
    "id": "o3w6jTJS1X7U"
   },
   "source": [
    "## 1. Load libs & data"
   ]
  },
  {
   "cell_type": "code",
   "execution_count": 1,
   "metadata": {},
   "outputs": [],
   "source": [
    "import warnings\n",
    "warnings.filterwarnings('ignore')"
   ]
  },
  {
   "cell_type": "code",
   "execution_count": 2,
   "metadata": {
    "executionInfo": {
     "elapsed": 253,
     "status": "ok",
     "timestamp": 1621954277302,
     "user": {
      "displayName": "Yoojin Song",
      "photoUrl": "",
      "userId": "14550345553948958105"
     },
     "user_tz": -540
    },
    "id": "pRW-CQXQObfU"
   },
   "outputs": [],
   "source": [
    "import pandas as pd\n",
    "import numpy as np\n",
    "import seaborn as sns\n",
    "import matplotlib.pyplot as plt"
   ]
  },
  {
   "cell_type": "code",
   "execution_count": 3,
   "metadata": {
    "executionInfo": {
     "elapsed": 250,
     "status": "ok",
     "timestamp": 1621957252525,
     "user": {
      "displayName": "Yoojin Song",
      "photoUrl": "",
      "userId": "14550345553948958105"
     },
     "user_tz": -540
    },
    "id": "s55UnX-dObfX"
   },
   "outputs": [],
   "source": [
    "train = pd.read_csv('./open/train.csv')\n",
    "test = pd.read_csv('./open/test.csv')\n",
    "submission = pd.read_csv('./open/sample_submission.csv')"
   ]
  },
  {
   "cell_type": "code",
   "execution_count": 4,
   "metadata": {
    "colab": {
     "base_uri": "https://localhost:8080/"
    },
    "executionInfo": {
     "elapsed": 9,
     "status": "ok",
     "timestamp": 1621957253289,
     "user": {
      "displayName": "Yoojin Song",
      "photoUrl": "",
      "userId": "14550345553948958105"
     },
     "user_tz": -540
    },
    "id": "QJb0QL3f5ihe",
    "outputId": "6dac56b2-0c94-4d93-ddd9-b8616bd0147c"
   },
   "outputs": [
    {
     "name": "stdout",
     "output_type": "stream",
     "text": [
      "(26457, 20) (10000, 19) (10000, 4)\n"
     ]
    }
   ],
   "source": [
    "print(train.shape, test.shape, submission.shape)"
   ]
  },
  {
   "cell_type": "markdown",
   "metadata": {
    "id": "6wt9nqK2Cikz"
   },
   "source": [
    "## 2. Data Preprocessing"
   ]
  },
  {
   "cell_type": "code",
   "execution_count": 5,
   "metadata": {
    "executionInfo": {
     "elapsed": 10,
     "status": "ok",
     "timestamp": 1621957254958,
     "user": {
      "displayName": "Yoojin Song",
      "photoUrl": "",
      "userId": "14550345553948958105"
     },
     "user_tz": -540
    },
    "id": "M3fBPrr3_-dM"
   },
   "outputs": [],
   "source": [
    "# 변수 제거\n",
    "train.drop(['occyp_type', 'child_num', 'FLAG_MOBIL'], axis=1, inplace=True)\n",
    "test.drop(['occyp_type', 'child_num', 'FLAG_MOBIL'], axis=1, inplace=True)"
   ]
  },
  {
   "cell_type": "code",
   "execution_count": 6,
   "metadata": {
    "executionInfo": {
     "elapsed": 11,
     "status": "ok",
     "timestamp": 1621957254962,
     "user": {
      "displayName": "Yoojin Song",
      "photoUrl": "",
      "userId": "14550345553948958105"
     },
     "user_tz": -540
    },
    "id": "jRjfSeg-9vn1"
   },
   "outputs": [],
   "source": [
    "# 음수 => 양수 \n",
    "train['DAYS_BIRTH'] = train['DAYS_BIRTH'].apply(lambda x: -x)\n",
    "test['DAYS_BIRTH'] = test['DAYS_BIRTH'].apply(lambda x: -x)\n",
    "\n",
    "train['DAYS_EMPLOYED'] = train['DAYS_EMPLOYED'].apply(lambda x: -x)\n",
    "test['DAYS_EMPLOYED'] = test['DAYS_EMPLOYED'].apply(lambda x: -x)\n",
    "\n",
    "train['begin_month'] = train['begin_month'].apply(lambda x: -x)\n",
    "test['begin_month'] = test['begin_month'].apply(lambda x: -x)"
   ]
  },
  {
   "cell_type": "code",
   "execution_count": 7,
   "metadata": {
    "colab": {
     "base_uri": "https://localhost:8080/",
     "height": 377
    },
    "executionInfo": {
     "elapsed": 10,
     "status": "ok",
     "timestamp": 1621957254962,
     "user": {
      "displayName": "Yoojin Song",
      "photoUrl": "",
      "userId": "14550345553948958105"
     },
     "user_tz": -540
    },
    "id": "D2NXS0DYKZGj",
    "outputId": "dba30856-d688-4498-ecb6-7b6eb004663c"
   },
   "outputs": [],
   "source": [
    "# DAYS_BIRTH로 나이 변수 만들어주기\n",
    "train['Age'] = train['DAYS_BIRTH'].apply(lambda x: int(x/365))\n",
    "test['Age'] = test['DAYS_BIRTH'].apply(lambda x: int(x/365))"
   ]
  },
  {
   "cell_type": "code",
   "execution_count": 8,
   "metadata": {},
   "outputs": [],
   "source": [
    "# 원-핫 인코딩\n",
    "train['gender'] = train['gender'].apply(lambda x: 1 if x=='M' else 0) # Male=1, Female=0\n",
    "test['gender'] = test['gender'].apply(lambda x: 1 if x=='M' else 0) # Male=1, Female=0\n",
    "\n",
    "train['car'] = train['car'].apply(lambda x: 1 if x=='Y' else 0) # Yes=1, No=0\n",
    "test['car'] = test['car'].apply(lambda x: 1 if x=='Y' else 0) # Yes=1, No=0\n",
    "\n",
    "train['reality'] = train['reality'].apply(lambda x: 1 if x=='Y' else 0) # Yes=1, No=0\n",
    "test['reality'] = test['reality'].apply(lambda x: 1 if x=='Y' else 0) # Yes=1, No=0"
   ]
  },
  {
   "cell_type": "code",
   "execution_count": 9,
   "metadata": {
    "executionInfo": {
     "elapsed": 15,
     "status": "ok",
     "timestamp": 1621957255679,
     "user": {
      "displayName": "Yoojin Song",
      "photoUrl": "",
      "userId": "14550345553948958105"
     },
     "user_tz": -540
    },
    "id": "XE1Zn5sRCusx"
   },
   "outputs": [],
   "source": [
    "# 라벨 인코딩\n",
    "from sklearn.preprocessing import LabelEncoder\n",
    "\n",
    "enc = LabelEncoder()\n",
    "\n",
    "train['income_type'] = enc.fit_transform(train['income_type'])\n",
    "test['income_type'] = enc.transform(test['income_type'])\n",
    "\n",
    "train['edu_type'] = enc.fit_transform(train['edu_type'])\n",
    "test['edu_type'] = enc.transform(test['edu_type'])\n",
    "\n",
    "train['family_type'] = enc.fit_transform(train['family_type'])\n",
    "test['family_type'] = enc.transform(test['family_type'])\n",
    "\n",
    "train['house_type'] = enc.fit_transform(train['house_type'])\n",
    "test['house_type'] = enc.fit_transform(test['house_type'])"
   ]
  },
  {
   "cell_type": "code",
   "execution_count": 10,
   "metadata": {
    "executionInfo": {
     "elapsed": 13,
     "status": "ok",
     "timestamp": 1621957255680,
     "user": {
      "displayName": "Yoojin Song",
      "photoUrl": "",
      "userId": "14550345553948958105"
     },
     "user_tz": -540
    },
    "id": "qt3k43EB9QfY"
   },
   "outputs": [],
   "source": [
    "# target\n",
    "train['credit'] = train['credit'].astype('int')"
   ]
  },
  {
   "cell_type": "code",
   "execution_count": 11,
   "metadata": {},
   "outputs": [
    {
     "data": {
      "text/html": [
       "<div>\n",
       "<style scoped>\n",
       "    .dataframe tbody tr th:only-of-type {\n",
       "        vertical-align: middle;\n",
       "    }\n",
       "\n",
       "    .dataframe tbody tr th {\n",
       "        vertical-align: top;\n",
       "    }\n",
       "\n",
       "    .dataframe thead th {\n",
       "        text-align: right;\n",
       "    }\n",
       "</style>\n",
       "<table border=\"1\" class=\"dataframe\">\n",
       "  <thead>\n",
       "    <tr style=\"text-align: right;\">\n",
       "      <th></th>\n",
       "      <th>index</th>\n",
       "      <th>gender</th>\n",
       "      <th>car</th>\n",
       "      <th>reality</th>\n",
       "      <th>income_total</th>\n",
       "      <th>income_type</th>\n",
       "      <th>edu_type</th>\n",
       "      <th>family_type</th>\n",
       "      <th>house_type</th>\n",
       "      <th>DAYS_BIRTH</th>\n",
       "      <th>DAYS_EMPLOYED</th>\n",
       "      <th>work_phone</th>\n",
       "      <th>phone</th>\n",
       "      <th>email</th>\n",
       "      <th>family_size</th>\n",
       "      <th>begin_month</th>\n",
       "      <th>credit</th>\n",
       "      <th>Age</th>\n",
       "    </tr>\n",
       "  </thead>\n",
       "  <tbody>\n",
       "    <tr>\n",
       "      <th>0</th>\n",
       "      <td>0</td>\n",
       "      <td>0</td>\n",
       "      <td>0</td>\n",
       "      <td>0</td>\n",
       "      <td>202500.0</td>\n",
       "      <td>0</td>\n",
       "      <td>1</td>\n",
       "      <td>1</td>\n",
       "      <td>2</td>\n",
       "      <td>13899</td>\n",
       "      <td>4709</td>\n",
       "      <td>0</td>\n",
       "      <td>0</td>\n",
       "      <td>0</td>\n",
       "      <td>2.0</td>\n",
       "      <td>6.0</td>\n",
       "      <td>1</td>\n",
       "      <td>38</td>\n",
       "    </tr>\n",
       "    <tr>\n",
       "      <th>1</th>\n",
       "      <td>1</td>\n",
       "      <td>0</td>\n",
       "      <td>0</td>\n",
       "      <td>1</td>\n",
       "      <td>247500.0</td>\n",
       "      <td>0</td>\n",
       "      <td>4</td>\n",
       "      <td>0</td>\n",
       "      <td>1</td>\n",
       "      <td>11380</td>\n",
       "      <td>1540</td>\n",
       "      <td>0</td>\n",
       "      <td>0</td>\n",
       "      <td>1</td>\n",
       "      <td>3.0</td>\n",
       "      <td>5.0</td>\n",
       "      <td>1</td>\n",
       "      <td>31</td>\n",
       "    </tr>\n",
       "    <tr>\n",
       "      <th>2</th>\n",
       "      <td>2</td>\n",
       "      <td>1</td>\n",
       "      <td>1</td>\n",
       "      <td>1</td>\n",
       "      <td>450000.0</td>\n",
       "      <td>4</td>\n",
       "      <td>1</td>\n",
       "      <td>1</td>\n",
       "      <td>1</td>\n",
       "      <td>19087</td>\n",
       "      <td>4434</td>\n",
       "      <td>0</td>\n",
       "      <td>1</td>\n",
       "      <td>0</td>\n",
       "      <td>2.0</td>\n",
       "      <td>22.0</td>\n",
       "      <td>2</td>\n",
       "      <td>52</td>\n",
       "    </tr>\n",
       "    <tr>\n",
       "      <th>3</th>\n",
       "      <td>3</td>\n",
       "      <td>0</td>\n",
       "      <td>0</td>\n",
       "      <td>1</td>\n",
       "      <td>202500.0</td>\n",
       "      <td>0</td>\n",
       "      <td>4</td>\n",
       "      <td>1</td>\n",
       "      <td>1</td>\n",
       "      <td>15088</td>\n",
       "      <td>2092</td>\n",
       "      <td>0</td>\n",
       "      <td>1</td>\n",
       "      <td>0</td>\n",
       "      <td>2.0</td>\n",
       "      <td>37.0</td>\n",
       "      <td>0</td>\n",
       "      <td>41</td>\n",
       "    </tr>\n",
       "    <tr>\n",
       "      <th>4</th>\n",
       "      <td>4</td>\n",
       "      <td>0</td>\n",
       "      <td>1</td>\n",
       "      <td>1</td>\n",
       "      <td>157500.0</td>\n",
       "      <td>2</td>\n",
       "      <td>1</td>\n",
       "      <td>1</td>\n",
       "      <td>1</td>\n",
       "      <td>15037</td>\n",
       "      <td>2105</td>\n",
       "      <td>0</td>\n",
       "      <td>0</td>\n",
       "      <td>0</td>\n",
       "      <td>2.0</td>\n",
       "      <td>26.0</td>\n",
       "      <td>2</td>\n",
       "      <td>41</td>\n",
       "    </tr>\n",
       "    <tr>\n",
       "      <th>...</th>\n",
       "      <td>...</td>\n",
       "      <td>...</td>\n",
       "      <td>...</td>\n",
       "      <td>...</td>\n",
       "      <td>...</td>\n",
       "      <td>...</td>\n",
       "      <td>...</td>\n",
       "      <td>...</td>\n",
       "      <td>...</td>\n",
       "      <td>...</td>\n",
       "      <td>...</td>\n",
       "      <td>...</td>\n",
       "      <td>...</td>\n",
       "      <td>...</td>\n",
       "      <td>...</td>\n",
       "      <td>...</td>\n",
       "      <td>...</td>\n",
       "      <td>...</td>\n",
       "    </tr>\n",
       "    <tr>\n",
       "      <th>26452</th>\n",
       "      <td>26452</td>\n",
       "      <td>0</td>\n",
       "      <td>0</td>\n",
       "      <td>0</td>\n",
       "      <td>225000.0</td>\n",
       "      <td>2</td>\n",
       "      <td>4</td>\n",
       "      <td>1</td>\n",
       "      <td>1</td>\n",
       "      <td>12079</td>\n",
       "      <td>1984</td>\n",
       "      <td>0</td>\n",
       "      <td>0</td>\n",
       "      <td>0</td>\n",
       "      <td>4.0</td>\n",
       "      <td>2.0</td>\n",
       "      <td>1</td>\n",
       "      <td>33</td>\n",
       "    </tr>\n",
       "    <tr>\n",
       "      <th>26453</th>\n",
       "      <td>26453</td>\n",
       "      <td>0</td>\n",
       "      <td>0</td>\n",
       "      <td>1</td>\n",
       "      <td>180000.0</td>\n",
       "      <td>4</td>\n",
       "      <td>1</td>\n",
       "      <td>2</td>\n",
       "      <td>1</td>\n",
       "      <td>15291</td>\n",
       "      <td>2475</td>\n",
       "      <td>0</td>\n",
       "      <td>0</td>\n",
       "      <td>0</td>\n",
       "      <td>2.0</td>\n",
       "      <td>47.0</td>\n",
       "      <td>2</td>\n",
       "      <td>41</td>\n",
       "    </tr>\n",
       "    <tr>\n",
       "      <th>26454</th>\n",
       "      <td>26454</td>\n",
       "      <td>0</td>\n",
       "      <td>1</td>\n",
       "      <td>0</td>\n",
       "      <td>292500.0</td>\n",
       "      <td>4</td>\n",
       "      <td>4</td>\n",
       "      <td>0</td>\n",
       "      <td>5</td>\n",
       "      <td>10082</td>\n",
       "      <td>2015</td>\n",
       "      <td>0</td>\n",
       "      <td>0</td>\n",
       "      <td>0</td>\n",
       "      <td>2.0</td>\n",
       "      <td>25.0</td>\n",
       "      <td>2</td>\n",
       "      <td>27</td>\n",
       "    </tr>\n",
       "    <tr>\n",
       "      <th>26455</th>\n",
       "      <td>26455</td>\n",
       "      <td>1</td>\n",
       "      <td>0</td>\n",
       "      <td>1</td>\n",
       "      <td>171000.0</td>\n",
       "      <td>4</td>\n",
       "      <td>2</td>\n",
       "      <td>3</td>\n",
       "      <td>1</td>\n",
       "      <td>10145</td>\n",
       "      <td>107</td>\n",
       "      <td>0</td>\n",
       "      <td>0</td>\n",
       "      <td>0</td>\n",
       "      <td>1.0</td>\n",
       "      <td>59.0</td>\n",
       "      <td>2</td>\n",
       "      <td>27</td>\n",
       "    </tr>\n",
       "    <tr>\n",
       "      <th>26456</th>\n",
       "      <td>26456</td>\n",
       "      <td>0</td>\n",
       "      <td>0</td>\n",
       "      <td>0</td>\n",
       "      <td>81000.0</td>\n",
       "      <td>4</td>\n",
       "      <td>4</td>\n",
       "      <td>0</td>\n",
       "      <td>1</td>\n",
       "      <td>19569</td>\n",
       "      <td>1013</td>\n",
       "      <td>0</td>\n",
       "      <td>0</td>\n",
       "      <td>0</td>\n",
       "      <td>2.0</td>\n",
       "      <td>9.0</td>\n",
       "      <td>2</td>\n",
       "      <td>53</td>\n",
       "    </tr>\n",
       "  </tbody>\n",
       "</table>\n",
       "<p>26457 rows × 18 columns</p>\n",
       "</div>"
      ],
      "text/plain": [
       "       index  gender  car  reality  income_total  income_type  edu_type  \\\n",
       "0          0       0    0        0      202500.0            0         1   \n",
       "1          1       0    0        1      247500.0            0         4   \n",
       "2          2       1    1        1      450000.0            4         1   \n",
       "3          3       0    0        1      202500.0            0         4   \n",
       "4          4       0    1        1      157500.0            2         1   \n",
       "...      ...     ...  ...      ...           ...          ...       ...   \n",
       "26452  26452       0    0        0      225000.0            2         4   \n",
       "26453  26453       0    0        1      180000.0            4         1   \n",
       "26454  26454       0    1        0      292500.0            4         4   \n",
       "26455  26455       1    0        1      171000.0            4         2   \n",
       "26456  26456       0    0        0       81000.0            4         4   \n",
       "\n",
       "       family_type  house_type  DAYS_BIRTH  DAYS_EMPLOYED  work_phone  phone  \\\n",
       "0                1           2       13899           4709           0      0   \n",
       "1                0           1       11380           1540           0      0   \n",
       "2                1           1       19087           4434           0      1   \n",
       "3                1           1       15088           2092           0      1   \n",
       "4                1           1       15037           2105           0      0   \n",
       "...            ...         ...         ...            ...         ...    ...   \n",
       "26452            1           1       12079           1984           0      0   \n",
       "26453            2           1       15291           2475           0      0   \n",
       "26454            0           5       10082           2015           0      0   \n",
       "26455            3           1       10145            107           0      0   \n",
       "26456            0           1       19569           1013           0      0   \n",
       "\n",
       "       email  family_size  begin_month  credit  Age  \n",
       "0          0          2.0          6.0       1   38  \n",
       "1          1          3.0          5.0       1   31  \n",
       "2          0          2.0         22.0       2   52  \n",
       "3          0          2.0         37.0       0   41  \n",
       "4          0          2.0         26.0       2   41  \n",
       "...      ...          ...          ...     ...  ...  \n",
       "26452      0          4.0          2.0       1   33  \n",
       "26453      0          2.0         47.0       2   41  \n",
       "26454      0          2.0         25.0       2   27  \n",
       "26455      0          1.0         59.0       2   27  \n",
       "26456      0          2.0          9.0       2   53  \n",
       "\n",
       "[26457 rows x 18 columns]"
      ]
     },
     "execution_count": 11,
     "metadata": {},
     "output_type": "execute_result"
    }
   ],
   "source": [
    "train"
   ]
  },
  {
   "cell_type": "markdown",
   "metadata": {},
   "source": [
    "## Modeling"
   ]
  },
  {
   "cell_type": "code",
   "execution_count": 12,
   "metadata": {},
   "outputs": [],
   "source": [
    "from sklearn.model_selection import train_test_split\n",
    "from sklearn.model_selection import GridSearchCV\n",
    "\n",
    "from sklearn.ensemble import RandomForestClassifier\n",
    "\n",
    "from sklearn.metrics import classification_report"
   ]
  },
  {
   "cell_type": "code",
   "execution_count": 13,
   "metadata": {},
   "outputs": [],
   "source": [
    "train_x = train.drop(['index', 'credit'], axis=1)\n",
    "train_y = train[['credit']]\n",
    "test_x = test"
   ]
  },
  {
   "cell_type": "code",
   "execution_count": 14,
   "metadata": {},
   "outputs": [
    {
     "name": "stdout",
     "output_type": "stream",
     "text": [
      "(26457, 16) (26457, 1) (10000, 17)\n"
     ]
    }
   ],
   "source": [
    "print(train_x.shape, train_y.shape, test.shape)"
   ]
  },
  {
   "cell_type": "code",
   "execution_count": 15,
   "metadata": {},
   "outputs": [
    {
     "name": "stdout",
     "output_type": "stream",
     "text": [
      "(18519, 16) (7938, 16) (18519, 1) (7938, 1)\n"
     ]
    }
   ],
   "source": [
    "# train test split\n",
    "X_train, X_val, y_train, y_val = train_test_split(train_x, train_y,\n",
    "                                                  stratify=train_y, test_size=0.3, random_state = 99)\n",
    "print(X_train.shape, X_val.shape, y_train.shape, y_val.shape)"
   ]
  },
  {
   "cell_type": "code",
   "execution_count": 16,
   "metadata": {},
   "outputs": [
    {
     "name": "stdout",
     "output_type": "stream",
     "text": [
      "              precision    recall  f1-score   support\n",
      "\n",
      "           0       0.00      0.00      0.00       967\n",
      "           1       0.77      0.21      0.33      1880\n",
      "           2       0.69      1.00      0.81      5091\n",
      "\n",
      "    accuracy                           0.69      7938\n",
      "   macro avg       0.49      0.40      0.38      7938\n",
      "weighted avg       0.62      0.69      0.60      7938\n",
      "\n"
     ]
    }
   ],
   "source": [
    "# randomforest\n",
    "rf_base = RandomForestClassifier(n_estimators=20, max_depth=5, random_state=0)\n",
    "rf_base.fit(X_train, y_train)\n",
    "y_pred = rf_base.predict(X_val)\n",
    "\n",
    "print(classification_report(y_val, y_pred))"
   ]
  },
  {
   "cell_type": "code",
   "execution_count": 17,
   "metadata": {},
   "outputs": [],
   "source": [
    "def scaler(train, test, scaling):\n",
    "\n",
    "    from sklearn.preprocessing import MinMaxScaler, MaxAbsScaler, StandardScaler, RobustScaler\n",
    "    \n",
    "    if scaling=='MinMaxScaler':\n",
    "        sc = MinMaxScaler()\n",
    "    if scaling=='MaxAbsScaler':\n",
    "        sc = MaxAbsScaler()\n",
    "    if scaling=='StandardScaler':\n",
    "        sc = StandardScaler()\n",
    "    if scaling=='RobustScaler':\n",
    "        sc = RobustScaler()\n",
    "\n",
    "    train_scaled = sc.fit_transform(train)\n",
    "    test_scaled = sc.transform(test)\n",
    "    \n",
    "    return train_scaled, test_scaled"
   ]
  },
  {
   "cell_type": "code",
   "execution_count": 18,
   "metadata": {},
   "outputs": [
    {
     "name": "stdout",
     "output_type": "stream",
     "text": [
      "============ MinMaxScaler ============\n",
      "              precision    recall  f1-score   support\n",
      "\n",
      "           0       0.45      0.26      0.33       967\n",
      "           1       0.59      0.47      0.52      1880\n",
      "           2       0.75      0.87      0.81      5091\n",
      "\n",
      "    accuracy                           0.70      7938\n",
      "   macro avg       0.60      0.53      0.55      7938\n",
      "weighted avg       0.68      0.70      0.68      7938\n",
      "\n",
      "============ MaxAbsScaler ============\n",
      "              precision    recall  f1-score   support\n",
      "\n",
      "           0       0.45      0.26      0.33       967\n",
      "           1       0.59      0.47      0.52      1880\n",
      "           2       0.75      0.87      0.81      5091\n",
      "\n",
      "    accuracy                           0.70      7938\n",
      "   macro avg       0.60      0.53      0.55      7938\n",
      "weighted avg       0.68      0.70      0.68      7938\n",
      "\n",
      "============ StandardScaler ============\n",
      "              precision    recall  f1-score   support\n",
      "\n",
      "           0       0.45      0.26      0.33       967\n",
      "           1       0.59      0.47      0.52      1880\n",
      "           2       0.75      0.87      0.81      5091\n",
      "\n",
      "    accuracy                           0.70      7938\n",
      "   macro avg       0.60      0.53      0.55      7938\n",
      "weighted avg       0.68      0.70      0.68      7938\n",
      "\n",
      "============ RobustScaler ============\n",
      "              precision    recall  f1-score   support\n",
      "\n",
      "           0       0.45      0.26      0.33       967\n",
      "           1       0.59      0.47      0.52      1880\n",
      "           2       0.75      0.87      0.81      5091\n",
      "\n",
      "    accuracy                           0.70      7938\n",
      "   macro avg       0.60      0.53      0.55      7938\n",
      "weighted avg       0.68      0.70      0.68      7938\n",
      "\n"
     ]
    }
   ],
   "source": [
    "for scaling_type in ['MinMaxScaler', 'MaxAbsScaler', 'StandardScaler', 'RobustScaler']:\n",
    "    \n",
    "    # scaling\n",
    "    X_train_scaled, X_val_scaled = scaler(X_train, X_val, scaling=scaling_type)\n",
    "    \n",
    "    # random forest\n",
    "    rf_base = RandomForestClassifier(random_state=99)\n",
    "    rf_base.fit(X_train_scaled, y_train)\n",
    "    y_pred = rf_base.predict(X_val_scaled)\n",
    "    \n",
    "    print('============ {} ============'.format(scaling_type))\n",
    "    print(classification_report(y_val, y_pred))"
   ]
  },
  {
   "cell_type": "code",
   "execution_count": 19,
   "metadata": {},
   "outputs": [
    {
     "data": {
      "text/plain": [
       "RandomForestClassifier(max_depth=20, min_samples_leaf=4, min_samples_split=4,\n",
       "                       random_state=99)"
      ]
     },
     "execution_count": 19,
     "metadata": {},
     "output_type": "execute_result"
    }
   ],
   "source": [
    "# hyperparameter tuning\n",
    "\n",
    "X_train_scaled, X_val_scaled = scaler(X_train, X_val, scaling='StandardScaler')\n",
    "\n",
    "params ={\n",
    "    'n_estimators':[20, 40, 60, 80, 100],\n",
    "    'max_depth':[4, 6, 10, 20],\n",
    "    'min_samples_leaf':[4, 6, 12, 20, 30],\n",
    "    'min_samples_split':[4, 6, 12, 20, 30]\n",
    "}\n",
    "\n",
    "rf = RandomForestClassifier(random_state=99)\n",
    "grid_cv = GridSearchCV(rf, param_grid=params, cv=2, n_jobs=-1)\n",
    "grid_cv.fit(X_train_scaled, y_train)\n",
    "grid_cv.best_estimator_"
   ]
  },
  {
   "cell_type": "code",
   "execution_count": 20,
   "metadata": {},
   "outputs": [
    {
     "name": "stdout",
     "output_type": "stream",
     "text": [
      "              precision    recall  f1-score   support\n",
      "\n",
      "           0       0.65      0.05      0.09       967\n",
      "           1       0.72      0.30      0.42      1880\n",
      "           2       0.70      0.98      0.82      5091\n",
      "\n",
      "    accuracy                           0.71      7938\n",
      "   macro avg       0.69      0.44      0.44      7938\n",
      "weighted avg       0.70      0.71      0.64      7938\n",
      "\n"
     ]
    }
   ],
   "source": [
    "rf_tuned = grid_cv.best_estimator_\n",
    "rf_tuned.fit(X_train_scaled, y_train)\n",
    "y_pred = rf_tuned.predict(X_val_scaled)\n",
    "print(classification_report(y_val, y_pred))"
   ]
  },
  {
   "cell_type": "code",
   "execution_count": 21,
   "metadata": {},
   "outputs": [
    {
     "data": {
      "image/png": "[encoded data removed]",
      "text/plain": [
       "<Figure size 576x432 with 1 Axes>"
      ]
     },
     "metadata": {
      "needs_background": "light"
     },
     "output_type": "display_data"
    }
   ],
   "source": [
    "importances_values = rf_tuned.feature_importances_\n",
    "importances = pd.Series(importances_values, index=X_train.columns)\n",
    "importances = importances.sort_values(ascending=False)\n",
    "\n",
    "plt.figure(figsize=(8, 6))\n",
    "plt.title('Feature importances')\n",
    "sns.barplot(x=importances, y=importances.index)\n",
    "plt.show()"
   ]
  },
  {
   "cell_type": "code",
   "execution_count": 22,
   "metadata": {},
   "outputs": [],
   "source": [
    "from sklearn.model_selection import KFold, StratifiedKFold\n",
    "from sklearn.metrics import log_loss\n",
    "from tensorflow.keras.utils import to_categorical"
   ]
  },
  {
   "cell_type": "code",
   "execution_count": 23,
   "metadata": {},
   "outputs": [
    {
     "name": "stdout",
     "output_type": "stream",
     "text": [
      "FOLD 0 : logloss : 0.7251933945694962\n",
      "FOLD 1 : logloss : 0.717560956385202\n",
      "FOLD 2 : logloss : 0.709491074060748\n",
      "FOLD 3 : logloss : 0.7306945957114968\n",
      "FOLD 4 : logloss : 0.7195847058860275\n",
      "FOLD 5 : logloss : 0.7357354436268357\n",
      "FOLD 6 : logloss : 0.7251527129584667\n",
      "FOLD 7 : logloss : 0.7241730507966679\n",
      "FOLD 8 : logloss : 0.7184650264431964\n",
      "FOLD 9 : logloss : 0.7202344056873474\n",
      "Mean : 0.7226285366125484\n"
     ]
    }
   ],
   "source": [
    "folds = StratifiedKFold(n_splits=10, shuffle=True, random_state=99)\n",
    "outcomes = []\n",
    "for n_fold, (train_index, val_index) in enumerate(folds.split(train_x, train_y)):\n",
    "    X_train, X_val = train_x.iloc[train_index], train_x.iloc[val_index]\n",
    "    y_train, y_val = train_y.iloc[train_index], train_y.iloc[val_index]\n",
    "    rf_tuned.fit(X_train, y_train)\n",
    "    predictions = rf_tuned.predict_proba(X_val)\n",
    "    logloss = log_loss(to_categorical(y_val['credit']), predictions)\n",
    "    outcomes.append(logloss)\n",
    "    print(f\"FOLD {n_fold} : logloss : {logloss}\")\n",
    "mean_outcome = np.mean(outcomes)\n",
    "\n",
    "print(\"Mean : {}\".format(mean_outcome))"
   ]
  }
 ],
 "metadata": {
  "colab": {
   "collapsed_sections": [],
   "name": "신용카드_occyp_typeDrop.ipynb",
   "provenance": [],
   "toc_visible": true
  },
  "kernelspec": {
   "display_name": "Python 3",
   "language": "python",
   "name": "python3"
  },
  "language_info": {
   "codemirror_mode": {
    "name": "ipython",
    "version": 3
   },
   "file_extension": ".py",
   "mimetype": "text/x-python",
   "name": "python",
   "nbconvert_exporter": "python",
   "pygments_lexer": "ipython3",
   "version": "3.8.5"
  }
 },
 "nbformat": 4,
 "nbformat_minor": 1
}
